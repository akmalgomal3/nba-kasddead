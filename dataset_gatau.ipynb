{
 "cells": [
  {
   "cell_type": "code",
   "execution_count": null,
   "outputs": [],
   "source": [
    "import pandas as pd\n",
    "import numpy as np\n",
    "from scipy.stats import pearsonr"
   ],
   "metadata": {
    "collapsed": false,
    "pycharm": {
     "name": "#%%\n",
     "is_executing": true
    }
   }
  },
  {
   "cell_type": "markdown",
   "source": [
    "# Data Understanding"
   ],
   "metadata": {
    "collapsed": false,
    "pycharm": {
     "name": "#%% md\n"
    }
   }
  },
  {
   "cell_type": "code",
   "execution_count": null,
   "outputs": [],
   "source": [
    "mvps_df = pd.read_csv(\"datasets/mvps.csv\", ';')\n",
    "nicknames_df = pd.read_csv(\"datasets/nicknames.csv\", ';')\n",
    "player_mvp_stats_df = pd.read_csv(\"datasets/player_mvp_stats.csv\", ';')\n",
    "players_df = pd.read_csv(\"datasets/players.csv\", ';')\n",
    "salaries_df = pd.read_csv(\"datasets/salaries.csv\")\n",
    "teams_df = pd.read_csv(\"datasets/teams.csv\", ';')"
   ],
   "metadata": {
    "collapsed": false,
    "pycharm": {
     "name": "#%%\n"
    }
   }
  },
  {
   "cell_type": "markdown",
   "source": [
    "Rank : urutan ranking mvp pada periode tahun berikut\n",
    "\n",
    "Tm : Tim dari player\n",
    "\n",
    "First : First Place Votes\n",
    "\n",
    "Pts Won : Points Won\n",
    "\n",
    "Pts Max : Max points\n",
    "\n",
    "Share : Points Share\n",
    "\n",
    "G : Games Played\n",
    "\n",
    "MP : avg minutes per game\n",
    "\n",
    "PTS : avg point per game\n",
    "\n",
    "TRB : avg total rebound per game\n",
    "\n",
    "AST : avg total assists per game\n",
    "\n",
    "STL : avg steal per game\n",
    "\n",
    "BLK : avg block per game"
   ],
   "metadata": {
    "collapsed": false,
    "pycharm": {
     "name": "#%% md\n"
    }
   }
  },
  {
   "cell_type": "code",
   "execution_count": null,
   "outputs": [],
   "source": [
    "display_cnt = 15\n",
    "def display_both_head_and_tail(dataset):\n",
    "    return dataset.head(display_cnt).append(dataset.tail(display_cnt))"
   ],
   "metadata": {
    "collapsed": false,
    "pycharm": {
     "name": "#%%\n"
    }
   }
  },
  {
   "cell_type": "code",
   "execution_count": null,
   "outputs": [],
   "source": [
    "def cek_missing_values(df):\n",
    "    col_na = df.isnull().sum().sort_values(ascending=False)\n",
    "    percent = col_na / len(df)\n",
    "    \n",
    "    missing_data = pd.concat([col_na, percent], axis=1, keys=['Total', 'Percent'])\n",
    "    return missing_data[missing_data['Total'] > 0]"
   ],
   "metadata": {
    "collapsed": false,
    "pycharm": {
     "name": "#%%\n"
    }
   }
  },
  {
   "cell_type": "markdown",
   "source": [
    "Dataset mvps"
   ],
   "metadata": {
    "collapsed": false,
    "pycharm": {
     "name": "#%% md\n"
    }
   }
  },
  {
   "cell_type": "code",
   "execution_count": null,
   "outputs": [],
   "source": [
    "display_both_head_and_tail(mvps_df)"
   ],
   "metadata": {
    "collapsed": false,
    "pycharm": {
     "name": "#%%\n"
    }
   }
  },
  {
   "cell_type": "code",
   "execution_count": null,
   "outputs": [],
   "source": [
    "mvps_df.info()"
   ],
   "metadata": {
    "collapsed": false,
    "pycharm": {
     "name": "#%%\n"
    }
   }
  },
  {
   "cell_type": "code",
   "execution_count": null,
   "outputs": [],
   "source": [
    "print(\"Tidak ditemukan missing value pada dataset mvps\")\n",
    "cek_missing_values(mvps_df)"
   ],
   "metadata": {
    "collapsed": false,
    "pycharm": {
     "name": "#%%\n"
    }
   }
  },
  {
   "cell_type": "code",
   "execution_count": null,
   "outputs": [],
   "source": [
    "print(\"Jumlah duplikasi data pada dataset mvps:\", mvps_df.duplicated().sum())"
   ],
   "metadata": {
    "collapsed": false,
    "pycharm": {
     "name": "#%%\n"
    }
   }
  },
  {
   "cell_type": "markdown",
   "source": [
    "Dataset nicknames"
   ],
   "metadata": {
    "collapsed": false,
    "pycharm": {
     "name": "#%% md\n"
    }
   }
  },
  {
   "cell_type": "code",
   "execution_count": null,
   "outputs": [],
   "source": [
    "display_both_head_and_tail(nicknames_df)"
   ],
   "metadata": {
    "collapsed": false,
    "pycharm": {
     "name": "#%%\n"
    }
   }
  },
  {
   "cell_type": "code",
   "execution_count": null,
   "outputs": [],
   "source": [
    "nicknames_df.info()"
   ],
   "metadata": {
    "collapsed": false,
    "pycharm": {
     "name": "#%%\n"
    }
   }
  },
  {
   "cell_type": "code",
   "execution_count": null,
   "outputs": [],
   "source": [
    "print(\"Tidak ditemukan missing value pada dataset nicknames\")\n",
    "cek_missing_values(nicknames_df)"
   ],
   "metadata": {
    "collapsed": false,
    "pycharm": {
     "name": "#%%\n"
    }
   }
  },
  {
   "cell_type": "code",
   "execution_count": null,
   "outputs": [],
   "source": [
    "print(\"Jumlah duplikasi data pada dataset nicknames:\", nicknames_df.duplicated().sum())"
   ],
   "metadata": {
    "collapsed": false,
    "pycharm": {
     "name": "#%%\n"
    }
   }
  },
  {
   "cell_type": "markdown",
   "source": [
    "Dataset player mvp stats"
   ],
   "metadata": {
    "collapsed": false,
    "pycharm": {
     "name": "#%% md\n"
    }
   }
  },
  {
   "cell_type": "code",
   "execution_count": null,
   "outputs": [],
   "source": [
    "display_both_head_and_tail(player_mvp_stats_df)"
   ],
   "metadata": {
    "collapsed": false,
    "pycharm": {
     "name": "#%%\n"
    }
   }
  },
  {
   "cell_type": "code",
   "execution_count": null,
   "outputs": [],
   "source": [
    "display_both_head_and_tail(player_mvp_stats_df)\n",
    "player_mvp_stats_df.isna().sum()\n",
    "salaries_by_year = (player_mvp_stats_df['FG'] - (player_mvp_stats_df['2P'] + player_mvp_stats_df['3P'])) > 0.100001\n",
    "player_mvp_stats_df[salaries_by_year]"
   ],
   "metadata": {
    "collapsed": false,
    "pycharm": {
     "name": "#%%\n"
    }
   }
  },
  {
   "cell_type": "code",
   "execution_count": null,
   "outputs": [],
   "source": [
    "player_mvp_stats_df.info()"
   ],
   "metadata": {
    "collapsed": false,
    "pycharm": {
     "name": "#%%\n"
    }
   }
  },
  {
   "cell_type": "code",
   "execution_count": null,
   "outputs": [],
   "source": [
    "print(\"Terdapat missing values pada dataset player mvp stats\")\n",
    "cek_missing_values(player_mvp_stats_df)"
   ],
   "metadata": {
    "collapsed": false,
    "pycharm": {
     "name": "#%%\n"
    }
   }
  },
  {
   "cell_type": "code",
   "execution_count": null,
   "outputs": [],
   "source": [
    "print(\"Missing values tersebut diisi dengan median setiap atribut\")\n",
    "\n",
    "player_mvp_stats_df[\"3P%\"].fillna(player_mvp_stats_df[\"3P%\"].median(), inplace=True)\n",
    "player_mvp_stats_df[\"FT%\"].fillna(player_mvp_stats_df[\"FT%\"].median(), inplace=True)\n",
    "player_mvp_stats_df[\"2P%\"].fillna(player_mvp_stats_df[\"2P%\"].median(), inplace=True)\n",
    "player_mvp_stats_df[\"eFG%\"].fillna(player_mvp_stats_df[\"eFG%\"].median(), inplace=True)\n",
    "player_mvp_stats_df[\"FG%\"].fillna(player_mvp_stats_df[\"FG%\"].median(), inplace=True)"
   ],
   "metadata": {
    "collapsed": false,
    "pycharm": {
     "name": "#%%\n"
    }
   }
  },
  {
   "cell_type": "code",
   "execution_count": null,
   "outputs": [],
   "source": [
    "print(\"Sudah tidak ada missing value pada dataset palyer mvp stats\")\n",
    "cek_missing_values(player_mvp_stats_df)"
   ],
   "metadata": {
    "collapsed": false,
    "pycharm": {
     "name": "#%%\n"
    }
   }
  },
  {
   "cell_type": "code",
   "execution_count": null,
   "outputs": [],
   "source": [
    "print(\"Jumlah duplikasi data pada dataset palyer mvp stats:\", player_mvp_stats_df.duplicated().sum())"
   ],
   "metadata": {
    "collapsed": false,
    "pycharm": {
     "name": "#%%\n"
    }
   }
  },
  {
   "cell_type": "markdown",
   "source": [
    "Dataset players"
   ],
   "metadata": {
    "collapsed": false,
    "pycharm": {
     "name": "#%% md\n"
    }
   }
  },
  {
   "cell_type": "code",
   "execution_count": null,
   "outputs": [],
   "source": [
    "display_both_head_and_tail(players_df)"
   ],
   "metadata": {
    "collapsed": false,
    "pycharm": {
     "name": "#%%\n"
    }
   }
  },
  {
   "cell_type": "code",
   "execution_count": null,
   "outputs": [],
   "source": [
    "players_df.info()"
   ],
   "metadata": {
    "collapsed": false,
    "pycharm": {
     "name": "#%%\n"
    }
   }
  },
  {
   "cell_type": "code",
   "execution_count": null,
   "outputs": [],
   "source": [
    "print(\"Tidak ditemukan missing value pada dataset players\")\n",
    "cek_missing_values(players_df)"
   ],
   "metadata": {
    "collapsed": false,
    "pycharm": {
     "name": "#%%\n"
    }
   }
  },
  {
   "cell_type": "code",
   "execution_count": null,
   "outputs": [],
   "source": [
    "print(\"Jumlah duplikasi data pada dataset mvps:\", players_df.duplicated().sum(), \"maka lakukan drop data terlebih dahulu\")\n",
    "\n",
    "players_df = players_df.drop_duplicates(inplace = False)\n",
    "print(\"Jumlah duplikasi data setelah drop duplikasinya:\", players_df.duplicated().sum())"
   ],
   "metadata": {
    "collapsed": false,
    "pycharm": {
     "name": "#%%\n"
    }
   }
  },
  {
   "cell_type": "markdown",
   "source": [
    "Dataset salaries"
   ],
   "metadata": {
    "collapsed": false,
    "pycharm": {
     "name": "#%% md\n"
    }
   }
  },
  {
   "cell_type": "code",
   "execution_count": null,
   "outputs": [],
   "source": [
    "display_both_head_and_tail(salaries_df)"
   ],
   "metadata": {
    "collapsed": false,
    "pycharm": {
     "name": "#%%\n"
    }
   }
  },
  {
   "cell_type": "code",
   "execution_count": null,
   "outputs": [],
   "source": [
    "salaries_df.info()"
   ],
   "metadata": {
    "collapsed": false,
    "pycharm": {
     "name": "#%%\n"
    }
   }
  },
  {
   "cell_type": "code",
   "execution_count": null,
   "outputs": [],
   "source": [
    "print(\"Terdapat missing values pada dataset salaries\")\n",
    "cek_missing_values(salaries_df)"
   ],
   "metadata": {
    "collapsed": false,
    "pycharm": {
     "name": "#%%\n"
    }
   }
  },
  {
   "cell_type": "code",
   "execution_count": null,
   "outputs": [],
   "source": [
    "print(\"Missing values tersebut diisi dengan median setiap atribut\")\n",
    "\n",
    "salaries_df.Salaries.fillna(salaries_df.Salaries.median(), inplace=True)"
   ],
   "metadata": {
    "collapsed": false,
    "pycharm": {
     "name": "#%%\n"
    }
   }
  },
  {
   "cell_type": "code",
   "execution_count": null,
   "outputs": [],
   "source": [
    "print(\"Sudah tidak ada missing value pada dataset salaries\")\n",
    "cek_missing_values(salaries_df)"
   ],
   "metadata": {
    "collapsed": false,
    "pycharm": {
     "name": "#%%\n"
    }
   }
  },
  {
   "cell_type": "markdown",
   "source": [
    "Dataset teams"
   ],
   "metadata": {
    "collapsed": false,
    "pycharm": {
     "name": "#%% md\n"
    }
   }
  },
  {
   "cell_type": "code",
   "execution_count": null,
   "outputs": [],
   "source": [
    "display_both_head_and_tail(teams_df)"
   ],
   "metadata": {
    "collapsed": false,
    "pycharm": {
     "name": "#%%\n"
    }
   }
  },
  {
   "cell_type": "code",
   "execution_count": null,
   "outputs": [],
   "source": [
    "teams_df.info()"
   ],
   "metadata": {
    "collapsed": false,
    "pycharm": {
     "name": "#%%\n"
    }
   }
  },
  {
   "cell_type": "code",
   "execution_count": null,
   "outputs": [],
   "source": [
    "print(\"Tidak ditemukan missing value pada dataset teams\")\n",
    "cek_missing_values(teams_df)"
   ],
   "metadata": {
    "collapsed": false,
    "pycharm": {
     "name": "#%%\n"
    }
   }
  },
  {
   "cell_type": "code",
   "execution_count": null,
   "outputs": [],
   "source": [
    "print(\"Jumlah duplikasi data pada dataset teams:\", teams_df.duplicated().sum())"
   ],
   "metadata": {
    "collapsed": false,
    "pycharm": {
     "name": "#%%\n"
    }
   }
  },
  {
   "cell_type": "code",
   "execution_count": null,
   "outputs": [],
   "source": [
    "teams_df = teams_df[~teams_df[\"W\"].str.contains(\"Division\")]\n",
    "\n",
    "teams_df[\"Team\"] = teams_df[\"Team\"].str.replace(\"*\", \"\", regex=False)\n",
    "\n",
    "#Menghilangkan tanda * pada nama teams"
   ],
   "metadata": {
    "collapsed": false,
    "pycharm": {
     "name": "#%%\n"
    }
   }
  },
  {
   "cell_type": "code",
   "execution_count": null,
   "outputs": [],
   "source": [
    "import seaborn as sb\n",
    "import matplotlib.pyplot as plt\n",
    "\n",
    "plt.figure(figsize=(30,30))\n",
    "\n",
    "dataplot = sb.heatmap(mvps_df.corr(), cmap=\"YlGnBu\", annot=True, )\n",
    "  \n",
    "# displaying heatmap\n",
    "plt.show()"
   ],
   "metadata": {
    "collapsed": false,
    "pycharm": {
     "name": "#%%\n"
    }
   }
  },
  {
   "cell_type": "code",
   "execution_count": null,
   "outputs": [],
   "source": [
    "mvps_df[\"is_mvp\"] = ''\n",
    "display(mvps_df)"
   ],
   "metadata": {
    "collapsed": false,
    "pycharm": {
     "name": "#%%\n"
    }
   }
  },
  {
   "cell_type": "code",
   "execution_count": null,
   "outputs": [],
   "source": [
    "mvps_df.loc[mvps_df[\"Rank\"] == \"1\", \"is_mvp\"] = 1\n",
    "mvps_df.loc[mvps_df[\"Rank\"] != \"1\", \"is_mvp\"] = 0\n",
    "display(mvps_df)"
   ],
   "metadata": {
    "collapsed": false,
    "pycharm": {
     "name": "#%%\n"
    }
   }
  },
  {
   "cell_type": "code",
   "execution_count": null,
   "outputs": [],
   "source": [
    "mvps_df.info()"
   ],
   "metadata": {
    "collapsed": false,
    "pycharm": {
     "name": "#%%\n"
    }
   }
  },
  {
   "cell_type": "code",
   "execution_count": null,
   "outputs": [],
   "source": [
    "X_raw = mvps_df.drop([\"Rank\", \"Player\", \"Tm\"],axis=1)\n",
    "lst_column = X_raw.columns\n",
    "y = mvps_df[\"is_mvp\"]\n",
    "X_raw = X_raw.drop([\"is_mvp\"],axis=1)\n",
    "\n",
    "display(lst_column)"
   ],
   "metadata": {
    "collapsed": false,
    "pycharm": {
     "name": "#%%\n"
    }
   }
  },
  {
   "cell_type": "code",
   "execution_count": null,
   "outputs": [],
   "source": [
    "from scipy.stats import pearsonr\n",
    "\n",
    "for i in lst_column :\n",
    "    if i != \"is_mvp\" :\n",
    "        corr, _ = pearsonr(mvps_df[i], mvps_df[\"is_mvp\"])\n",
    "        if corr > 0.1 :\n",
    "            print(i + \" : \" + str(corr))"
   ],
   "metadata": {
    "collapsed": false,
    "pycharm": {
     "name": "#%%\n"
    }
   }
  },
  {
   "cell_type": "markdown",
   "source": [
    "Dengan melihat korelasi di atas diketahui bahwa terdapat 6 variable yang dapat menjadi faktor pemain menjadi MVP, yaitu First, Pts Won, Share, PTS, WS, WS/48"
   ],
   "metadata": {
    "collapsed": false,
    "pycharm": {
     "name": "#%% md\n"
    }
   }
  },
  {
   "cell_type": "code",
   "execution_count": null,
   "outputs": [],
   "source": [
    "rank_one = mvps_df.loc[mvps_df['Rank'] == '1']\n",
    "display(rank_one.head())"
   ],
   "metadata": {
    "collapsed": false,
    "pycharm": {
     "name": "#%%\n"
    }
   }
  },
  {
   "cell_type": "code",
   "execution_count": null,
   "outputs": [],
   "source": [
    "rank_one[['First', 'Pts Won', 'Share', 'PTS', 'WS', 'WS/48']].describe()"
   ],
   "metadata": {
    "collapsed": false,
    "pycharm": {
     "name": "#%%\n"
    }
   }
  },
  {
   "cell_type": "code",
   "execution_count": null,
   "outputs": [],
   "source": [
    "df_salaries_year = salaries_df.groupby(\"Year\")[\"Salaries\"].mean().reset_index()\n",
    "df_salaries_year = df_salaries_year.astype({\"Year\":'category'})"
   ],
   "metadata": {
    "collapsed": false,
    "pycharm": {
     "name": "#%%\n"
    }
   }
  },
  {
   "cell_type": "code",
   "execution_count": null,
   "outputs": [],
   "source": [
    "axes = plt.gca()\n",
    "df_salaries_year.set_index('Year', inplace=True)\n",
    "df_salaries_year.plot(kind=\"line\", y=\"Salaries\", ax=axes)"
   ],
   "metadata": {
    "collapsed": false,
    "pycharm": {
     "name": "#%%\n"
    }
   }
  },
  {
   "cell_type": "markdown",
   "source": [
    "Dengan melihat grafik di atas diketahui bahwa secara garis besar terdapat perumbuhan gaji dari 2000 - 2019. Pertumbuhan gaji naik secara signifikan pada rentang 2015 - 2019 "
   ],
   "metadata": {
    "collapsed": false,
    "pycharm": {
     "name": "#%% md\n"
    }
   }
  },
  {
   "cell_type": "markdown",
   "source": [
    "# 1c"
   ],
   "metadata": {
    "collapsed": false,
    "pycharm": {
     "name": "#%% md\n"
    }
   }
  },
  {
   "cell_type": "code",
   "execution_count": null,
   "outputs": [],
   "source": [
    "display(teams_df.head())"
   ],
   "metadata": {
    "collapsed": false,
    "pycharm": {
     "name": "#%%\n"
    }
   }
  },
  {
   "cell_type": "code",
   "execution_count": null,
   "outputs": [],
   "source": [
    "display(players_df)"
   ],
   "metadata": {
    "collapsed": false,
    "pycharm": {
     "name": "#%%\n"
    }
   }
  },
  {
   "cell_type": "code",
   "execution_count": null,
   "outputs": [],
   "source": [
    "temp_player_df = players_df.copy()\n",
    "temp_player_df = temp_player_df.drop([\"Rk\", \"Player\", \"Pos\"],axis=1)\n",
    "lst_column_temp_player = temp_player_df.columns\n",
    "\n",
    "\n",
    "for i in lst_column_temp_player :\n",
    "    if i != \"Tm\" :\n",
    "        temp_player_df[i] = pd.to_numeric(temp_player_df[i], errors='coerce')"
   ],
   "metadata": {
    "collapsed": false,
    "pycharm": {
     "name": "#%%\n"
    }
   }
  },
  {
   "cell_type": "code",
   "execution_count": null,
   "outputs": [],
   "source": [
    "data_player_groupby_team_and_year = temp_player_df.groupby(['Tm','Year']).mean().reset_index()\n",
    "display(data_player_groupby_team_and_year.head())"
   ],
   "metadata": {
    "collapsed": false,
    "pycharm": {
     "name": "#%%\n"
    }
   }
  },
  {
   "cell_type": "code",
   "execution_count": null,
   "outputs": [],
   "source": [
    "arr_init_name = nicknames_df['Abbreviation'].values\n",
    "\n",
    "for i in arr_init_name : \n",
    "    val_real_team_name = nicknames_df['Name'].loc[nicknames_df['Abbreviation'] == i].values\n",
    "    data_player_groupby_team_and_year.loc[data_player_groupby_team_and_year[\"Tm\"] == i, \"Tm\"] = val_real_team_name[0]"
   ],
   "metadata": {
    "collapsed": false,
    "pycharm": {
     "name": "#%%\n"
    }
   }
  },
  {
   "cell_type": "code",
   "execution_count": null,
   "outputs": [],
   "source": [
    "data_player_groupby_team_and_year.rename(columns = {'Tm':'Team' }, inplace = True)\n",
    "\n",
    "teams_col = teams_df.columns\n",
    "for i in teams_col :\n",
    "    if i != \"Team\" :\n",
    "        teams_df[i] = pd.to_numeric(teams_df[i], errors='coerce')\n",
    "\n",
    "temp_teams = teams_df.groupby(\"Year\").mean().reset_index()\n",
    "year = temp_teams['Year'].values\n",
    "\n",
    "d = {\"score\" : []}\n",
    "temp_pd = pd.DataFrame(data = d)\n",
    "for i in year :\n",
    "    val =  temp_teams['GB'].loc[temp_teams['Year'] == i].values\n",
    "    salaries_by_year = teams_df['GB'].loc[teams_df[\"Year\"] == i].fillna(val[0])\n",
    "    temp_pd = pd.concat([temp_pd, salaries_by_year])\n",
    "\n",
    "# del temp_pd[\"score\"]\n",
    "teams_df[\"GB\"] = temp_pd[0]\n",
    "display(teams_df)"
   ],
   "metadata": {
    "collapsed": false,
    "pycharm": {
     "name": "#%%\n"
    }
   }
  },
  {
   "cell_type": "code",
   "execution_count": null,
   "outputs": [],
   "source": [
    "new_data = pd.merge(data_player_groupby_team_and_year, teams_df)\n"
   ],
   "metadata": {
    "collapsed": false,
    "pycharm": {
     "name": "#%%\n"
    }
   }
  },
  {
   "cell_type": "code",
   "execution_count": null,
   "outputs": [],
   "source": [
    "lst_column = new_data.columns\n",
    "\n",
    "for i in lst_column :\n",
    "    if i != \"Team\" and i != \"Year\" and i != \"W\":\n",
    "        corr, _ = pearsonr(new_data[i], new_data[\"W\"])\n",
    "        gif corr > 0.1 :\n",
    "            print(i + \" : \" + str(corr))"
   ],
   "metadata": {
    "collapsed": false,
    "pycharm": {
     "name": "#%%\n"
    }
   }
  },
  {
   "cell_type": "markdown",
   "source": [
    "Dari hasil menggabungkan teams dan playerdata yang akhirnya mendapatkan banyak variable penilaian. Setelah dicek variable-variable yang ada dengan jumlah kemenangannya diketahui bahwa yang memiliki korelasi paling tinggi adalah dengan jumlah kemenangan adalah SRS (Simple Rating System). Namun, seperti yang kita ketahui bahwa SRS didapatkan dari persentase kemanangannya. Apabila dilihat dari komposisi pemainya beberapa varaibel yang bisa dijadikan acuan adalah  PS/G (passing per game), G (Game played), GS (Game started), FG% (Field Goal Percentage), 3P% (3 Point Field Goal Percentage), 2P% (2 Point Field Goal Percentage) dan eFG% (Effective Field Goal Percentage)"
   ],
   "metadata": {
    "collapsed": false,
    "pycharm": {
     "name": "#%% md\n"
    }
   }
  },
  {
   "cell_type": "markdown",
   "source": [
    "# nomor 2B"
   ],
   "metadata": {
    "collapsed": false,
    "pycharm": {
     "name": "#%% md\n"
    }
   }
  },
  {
   "cell_type": "code",
   "execution_count": null,
   "outputs": [],
   "source": [
    "salaries_2b = pd.read_csv(\"datasets/salaries.csv\")\n"
   ],
   "metadata": {
    "collapsed": false,
    "pycharm": {
     "name": "#%%\n"
    }
   }
  },
  {
   "cell_type": "code",
   "execution_count": null,
   "outputs": [],
   "source": [
    "salaries_by_year = salaries_2b.groupby(by=\"Year\").mean()\n",
    "plt.figure()"
   ],
   "metadata": {
    "collapsed": false,
    "pycharm": {
     "name": "#%%\n"
    }
   }
  },
  {
   "cell_type": "code",
   "execution_count": null,
   "outputs": [],
   "source": [],
   "metadata": {
    "collapsed": false,
    "pycharm": {
     "name": "#%%\n"
    }
   }
  },
  {
   "cell_type": "code",
   "execution_count": 68,
   "outputs": [
    {
     "name": "stderr",
     "output_type": "stream",
     "text": [
      "C:\\Users\\imman\\AppData\\Local\\Temp\\ipykernel_5556\\468834091.py:1: FutureWarning: The default value of numeric_only in DataFrameGroupBy.mean is deprecated. In a future version, numeric_only will default to False. Either specify numeric_only or select only columns which should be valid for the function.\n",
      "  temp = salaries_2b.groupby(by=\"Year\").mean()\n"
     ]
    },
    {
     "data": {
      "text/plain": "      Unnamed: 0      Salaries        Rank\nYear                                      \n2000       936.0  4.232653e+06  935.995724\n2001      2807.0  3.304929e+06  935.976483\n2002      4678.0  3.463517e+06  935.970069\n2003      6549.0  3.702468e+06  935.978087\n2004      8420.0  3.684160e+06  935.967397\n2005     10291.0  3.773688e+06  935.963121\n2006     12162.0  3.961305e+06  935.966328\n2007     14033.0  3.917887e+06  935.964725\n2008     15904.0  4.400601e+06  935.972742\n2009     17775.0  4.692348e+06  935.973276\n2010     19646.0  4.633963e+06  935.971673\n2011     21517.0  4.413547e+06  935.977018\n2012     23388.0  4.354508e+06  935.979690\n2013     25259.0  4.274056e+06  935.973811\n2014     27130.0  4.322504e+06  935.973276\n2015     29001.0  4.293243e+06  935.965259\n2016     30872.0  4.708117e+06  935.964190\n2017     32743.0  5.442311e+06  935.963121\n2018     34614.0  5.729243e+06  935.948691\n2019     36485.0  7.010580e+06  935.967932",
      "text/html": "<div>\n<style scoped>\n    .dataframe tbody tr th:only-of-type {\n        vertical-align: middle;\n    }\n\n    .dataframe tbody tr th {\n        vertical-align: top;\n    }\n\n    .dataframe thead th {\n        text-align: right;\n    }\n</style>\n<table border=\"1\" class=\"dataframe\">\n  <thead>\n    <tr style=\"text-align: right;\">\n      <th></th>\n      <th>Unnamed: 0</th>\n      <th>Salaries</th>\n      <th>Rank</th>\n    </tr>\n    <tr>\n      <th>Year</th>\n      <th></th>\n      <th></th>\n      <th></th>\n    </tr>\n  </thead>\n  <tbody>\n    <tr>\n      <th>2000</th>\n      <td>936.0</td>\n      <td>4.232653e+06</td>\n      <td>935.995724</td>\n    </tr>\n    <tr>\n      <th>2001</th>\n      <td>2807.0</td>\n      <td>3.304929e+06</td>\n      <td>935.976483</td>\n    </tr>\n    <tr>\n      <th>2002</th>\n      <td>4678.0</td>\n      <td>3.463517e+06</td>\n      <td>935.970069</td>\n    </tr>\n    <tr>\n      <th>2003</th>\n      <td>6549.0</td>\n      <td>3.702468e+06</td>\n      <td>935.978087</td>\n    </tr>\n    <tr>\n      <th>2004</th>\n      <td>8420.0</td>\n      <td>3.684160e+06</td>\n      <td>935.967397</td>\n    </tr>\n    <tr>\n      <th>2005</th>\n      <td>10291.0</td>\n      <td>3.773688e+06</td>\n      <td>935.963121</td>\n    </tr>\n    <tr>\n      <th>2006</th>\n      <td>12162.0</td>\n      <td>3.961305e+06</td>\n      <td>935.966328</td>\n    </tr>\n    <tr>\n      <th>2007</th>\n      <td>14033.0</td>\n      <td>3.917887e+06</td>\n      <td>935.964725</td>\n    </tr>\n    <tr>\n      <th>2008</th>\n      <td>15904.0</td>\n      <td>4.400601e+06</td>\n      <td>935.972742</td>\n    </tr>\n    <tr>\n      <th>2009</th>\n      <td>17775.0</td>\n      <td>4.692348e+06</td>\n      <td>935.973276</td>\n    </tr>\n    <tr>\n      <th>2010</th>\n      <td>19646.0</td>\n      <td>4.633963e+06</td>\n      <td>935.971673</td>\n    </tr>\n    <tr>\n      <th>2011</th>\n      <td>21517.0</td>\n      <td>4.413547e+06</td>\n      <td>935.977018</td>\n    </tr>\n    <tr>\n      <th>2012</th>\n      <td>23388.0</td>\n      <td>4.354508e+06</td>\n      <td>935.979690</td>\n    </tr>\n    <tr>\n      <th>2013</th>\n      <td>25259.0</td>\n      <td>4.274056e+06</td>\n      <td>935.973811</td>\n    </tr>\n    <tr>\n      <th>2014</th>\n      <td>27130.0</td>\n      <td>4.322504e+06</td>\n      <td>935.973276</td>\n    </tr>\n    <tr>\n      <th>2015</th>\n      <td>29001.0</td>\n      <td>4.293243e+06</td>\n      <td>935.965259</td>\n    </tr>\n    <tr>\n      <th>2016</th>\n      <td>30872.0</td>\n      <td>4.708117e+06</td>\n      <td>935.964190</td>\n    </tr>\n    <tr>\n      <th>2017</th>\n      <td>32743.0</td>\n      <td>5.442311e+06</td>\n      <td>935.963121</td>\n    </tr>\n    <tr>\n      <th>2018</th>\n      <td>34614.0</td>\n      <td>5.729243e+06</td>\n      <td>935.948691</td>\n    </tr>\n    <tr>\n      <th>2019</th>\n      <td>36485.0</td>\n      <td>7.010580e+06</td>\n      <td>935.967932</td>\n    </tr>\n  </tbody>\n</table>\n</div>"
     },
     "execution_count": 68,
     "metadata": {},
     "output_type": "execute_result"
    }
   ],
   "source": [
    "temp = salaries_2b.groupby(by=\"Year\").mean()\n",
    "temp"
   ],
   "metadata": {
    "collapsed": false,
    "pycharm": {
     "name": "#%%\n"
    }
   }
  }
 ],
 "metadata": {
  "kernelspec": {
   "display_name": "Python 3.10.5 64-bit",
   "language": "python",
   "name": "python3"
  },
  "language_info": {
   "codemirror_mode": {
    "name": "ipython",
    "version": 3
   },
   "file_extension": ".py",
   "mimetype": "text/x-python",
   "name": "python",
   "nbconvert_exporter": "python",
   "pygments_lexer": "ipython3",
   "version": "3.10.5"
  },
  "vscode": {
   "interpreter": {
    "hash": "369f2c481f4da34e4445cda3fffd2e751bd1c4d706f27375911949ba6bb62e1c"
   }
  },
  "colab": {
   "provenance": []
  }
 },
 "nbformat": 4,
 "nbformat_minor": 0
}