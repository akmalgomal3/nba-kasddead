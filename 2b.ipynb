{
 "cells": [
  {
   "cell_type": "markdown",
   "source": [
    "# 2B"
   ],
   "metadata": {
    "collapsed": false
   }
  },
  {
   "cell_type": "code",
   "execution_count": 522,
   "outputs": [],
   "source": [
    "import numpy as np\n",
    "import pandas as pd\n",
    "import seaborn as sns\n",
    "from matplotlib import pyplot as plt\n",
    "from pandas._libs.parsers import k\n",
    "from sklearn import preprocessing"
   ],
   "metadata": {
    "collapsed": false
   }
  },
  {
   "cell_type": "code",
   "execution_count": 523,
   "outputs": [
    {
     "name": "stderr",
     "output_type": "stream",
     "text": [
      "C:\\Users\\imman\\AppData\\Local\\Temp\\ipykernel_1944\\3205523321.py:1: FutureWarning: In a future version of pandas all arguments of read_csv except for the argument 'filepath_or_buffer' will be keyword-only.\n",
      "  mvp_stats_2b = pd.read_csv(\"datasets/player_mvp_stats.csv\", ';')\n",
      "C:\\Users\\imman\\AppData\\Local\\Temp\\ipykernel_1944\\3205523321.py:2: FutureWarning: In a future version of pandas all arguments of read_csv except for the argument 'filepath_or_buffer' will be keyword-only.\n",
      "  nicknames_df = pd.read_csv(\"datasets/nicknames.csv\", ';')\n",
      "C:\\Users\\imman\\AppData\\Local\\Temp\\ipykernel_1944\\3205523321.py:4: FutureWarning: In a future version of pandas all arguments of read_csv except for the argument 'filepath_or_buffer' will be keyword-only.\n",
      "  teams_2b = pd.read_csv(\"datasets/teams.csv\", ';')\n"
     ]
    }
   ],
   "source": [
    "mvp_stats_2b = pd.read_csv(\"datasets/player_mvp_stats.csv\", ';')\n",
    "nicknames_df = pd.read_csv(\"datasets/nicknames.csv\", ';')\n",
    "salaries_2b = pd.read_csv(\"datasets/salaries.csv\")\n",
    "teams_2b = pd.read_csv(\"datasets/teams.csv\", ';')\n",
    "us_inflation_2b = pd.read_csv(\"datasets/US CPI.csv\")"
   ],
   "metadata": {
    "collapsed": false
   }
  },
  {
   "cell_type": "markdown",
   "source": [
    "### 2B. Preprocess dan merge beberapa dataset menjadi satu"
   ],
   "metadata": {
    "collapsed": false
   }
  },
  {
   "cell_type": "code",
   "execution_count": 524,
   "outputs": [],
   "source": [
    "def dataframe_to_dict(nicknames_df, key_column_name='Name', value_column_name='Abbreviation'):\n",
    "    keys = nicknames_df[key_column_name]\n",
    "    values = nicknames_df[value_column_name]\n",
    "    return dict(zip(keys, values))"
   ],
   "metadata": {
    "collapsed": false
   }
  },
  {
   "cell_type": "code",
   "execution_count": 525,
   "outputs": [],
   "source": [
    "def cleaning_teamsdf_removeUnimportantRows(teams_2b):\n",
    "    teams_2b = teams_2b.copy()\n",
    "    important_rows = ~teams_2b.W.str.contains(\"Division\")\n",
    "    return teams_2b[important_rows]\n",
    "\n",
    "def cleaning_teamsdf_convertStripToNan(teams_2b):\n",
    "    teams_2b = teams_2b.copy()\n",
    "    teams_2b.GB = teams_2b.GB.replace(\"—\", np.NAN)\n",
    "    return teams_2b\n",
    "\n",
    "def cleaning_teamsdf_convertToAppropriateDatatype(teams_2b):\n",
    "    \"\"\"\n",
    "    preconditions:\n",
    "        cleaning_teamsdf_removeUnimportantRows\n",
    "         cleaning_teamsdf_convertStripToNan\n",
    "    \"\"\"\n",
    "    teams_2b = teams_2b.copy()\n",
    "    teams_2b.W = pd.to_numeric(teams_2b.W)\n",
    "    teams_2b.L = pd.to_numeric(teams_2b.L)\n",
    "    teams_2b['W/L%'] = pd.to_numeric(teams_2b['W/L%'])\n",
    "    teams_2b.GB = pd.to_numeric(teams_2b.GB)\n",
    "    teams_2b['PS/G'] = pd.to_numeric(teams_2b['PS/G'])\n",
    "    teams_2b['PA/G'] = pd.to_numeric(teams_2b['PA/G'])\n",
    "    teams_2b.SRS = pd.to_numeric(teams_2b.SRS)\n",
    "    return teams_2b\n",
    "\n",
    "def cleaning_anyDf_removeStarInTeamName(teams_2b, column_name='Team'):\n",
    "    teams_2b = teams_2b.copy()\n",
    "    teams_2b[column_name] = teams_2b[column_name].str.replace('*', '')\n",
    "    return teams_2b\n",
    "\n",
    "\n",
    "def cleaning_anyDf_convertTeamNamesToItsAbbrev(teams_2b, nicknames_df, column_name='Team'):\n",
    "    \"\"\"\n",
    "    precondition:\n",
    "        teams df:\n",
    "            cleaning_anyDf_removeStarInTeamName\n",
    "    \"\"\"\n",
    "    nicknames_df = nicknames_df.copy()\n",
    "    teams_2b = teams_2b.copy()\n",
    "\n",
    "    nicknames_df = nicknames_df.drop_duplicates(subset='Name', keep='first')\n",
    "    mapping = dataframe_to_dict(nicknames_df)\n",
    "    mapping |= dataframe_to_dict(nicknames_df, 'Abbreviation', 'Abbreviation')\n",
    "\n",
    "    teams_2b[column_name] = list(map(\n",
    "        lambda x: mapping[x],\n",
    "        teams_2b[column_name]\n",
    "    ))\n",
    "    return teams_2b"
   ],
   "metadata": {
    "collapsed": false
   }
  },
  {
   "cell_type": "code",
   "execution_count": 526,
   "outputs": [
    {
     "name": "stderr",
     "output_type": "stream",
     "text": [
      "C:\\Users\\imman\\AppData\\Local\\Temp\\ipykernel_1944\\1280597476.py:29: FutureWarning: The default value of regex will change from True to False in a future version. In addition, single character regular expressions will *not* be treated as literal strings when regex=True.\n",
      "  teams_2b[column_name] = teams_2b[column_name].str.replace('*', '')\n"
     ]
    },
    {
     "data": {
      "text/plain": "       W   L   W/L%    GB   PS/G   PA/G   SRS  Year Team\n0     56  26  683.0   NaN  111.5  105.7  5.22  1991  BOS\n1     44  38  537.0  12.0  105.4  105.6 -0.39  1991  PHI\n2     39  43  476.0  17.0  103.1  103.3 -0.43  1991  NYK\n3     30  52  366.0  26.0  101.4  106.4 -4.84  1991  WSB\n4     26  56  317.0  30.0  102.9  107.5 -4.53  1991  NJN\n...   ..  ..    ...   ...    ...    ...   ...   ...  ...\n1028  42  30  583.0   NaN  112.4  110.2  2.26  2021  DAL\n1029  38  34  528.0   4.0  113.3  112.3  1.07  2021  MEM\n1030  33  39  458.0   9.0  111.1  112.8 -1.58  2021  SAS\n1031  31  41  431.0  11.0  114.6  114.9 -0.20  2021  NOP\n1032  17  55  236.0  25.0  108.8  116.7 -7.50  2021  HOU\n\n[906 rows x 9 columns]",
      "text/html": "<div>\n<style scoped>\n    .dataframe tbody tr th:only-of-type {\n        vertical-align: middle;\n    }\n\n    .dataframe tbody tr th {\n        vertical-align: top;\n    }\n\n    .dataframe thead th {\n        text-align: right;\n    }\n</style>\n<table border=\"1\" class=\"dataframe\">\n  <thead>\n    <tr style=\"text-align: right;\">\n      <th></th>\n      <th>W</th>\n      <th>L</th>\n      <th>W/L%</th>\n      <th>GB</th>\n      <th>PS/G</th>\n      <th>PA/G</th>\n      <th>SRS</th>\n      <th>Year</th>\n      <th>Team</th>\n    </tr>\n  </thead>\n  <tbody>\n    <tr>\n      <th>0</th>\n      <td>56</td>\n      <td>26</td>\n      <td>683.0</td>\n      <td>NaN</td>\n      <td>111.5</td>\n      <td>105.7</td>\n      <td>5.22</td>\n      <td>1991</td>\n      <td>BOS</td>\n    </tr>\n    <tr>\n      <th>1</th>\n      <td>44</td>\n      <td>38</td>\n      <td>537.0</td>\n      <td>12.0</td>\n      <td>105.4</td>\n      <td>105.6</td>\n      <td>-0.39</td>\n      <td>1991</td>\n      <td>PHI</td>\n    </tr>\n    <tr>\n      <th>2</th>\n      <td>39</td>\n      <td>43</td>\n      <td>476.0</td>\n      <td>17.0</td>\n      <td>103.1</td>\n      <td>103.3</td>\n      <td>-0.43</td>\n      <td>1991</td>\n      <td>NYK</td>\n    </tr>\n    <tr>\n      <th>3</th>\n      <td>30</td>\n      <td>52</td>\n      <td>366.0</td>\n      <td>26.0</td>\n      <td>101.4</td>\n      <td>106.4</td>\n      <td>-4.84</td>\n      <td>1991</td>\n      <td>WSB</td>\n    </tr>\n    <tr>\n      <th>4</th>\n      <td>26</td>\n      <td>56</td>\n      <td>317.0</td>\n      <td>30.0</td>\n      <td>102.9</td>\n      <td>107.5</td>\n      <td>-4.53</td>\n      <td>1991</td>\n      <td>NJN</td>\n    </tr>\n    <tr>\n      <th>...</th>\n      <td>...</td>\n      <td>...</td>\n      <td>...</td>\n      <td>...</td>\n      <td>...</td>\n      <td>...</td>\n      <td>...</td>\n      <td>...</td>\n      <td>...</td>\n    </tr>\n    <tr>\n      <th>1028</th>\n      <td>42</td>\n      <td>30</td>\n      <td>583.0</td>\n      <td>NaN</td>\n      <td>112.4</td>\n      <td>110.2</td>\n      <td>2.26</td>\n      <td>2021</td>\n      <td>DAL</td>\n    </tr>\n    <tr>\n      <th>1029</th>\n      <td>38</td>\n      <td>34</td>\n      <td>528.0</td>\n      <td>4.0</td>\n      <td>113.3</td>\n      <td>112.3</td>\n      <td>1.07</td>\n      <td>2021</td>\n      <td>MEM</td>\n    </tr>\n    <tr>\n      <th>1030</th>\n      <td>33</td>\n      <td>39</td>\n      <td>458.0</td>\n      <td>9.0</td>\n      <td>111.1</td>\n      <td>112.8</td>\n      <td>-1.58</td>\n      <td>2021</td>\n      <td>SAS</td>\n    </tr>\n    <tr>\n      <th>1031</th>\n      <td>31</td>\n      <td>41</td>\n      <td>431.0</td>\n      <td>11.0</td>\n      <td>114.6</td>\n      <td>114.9</td>\n      <td>-0.20</td>\n      <td>2021</td>\n      <td>NOP</td>\n    </tr>\n    <tr>\n      <th>1032</th>\n      <td>17</td>\n      <td>55</td>\n      <td>236.0</td>\n      <td>25.0</td>\n      <td>108.8</td>\n      <td>116.7</td>\n      <td>-7.50</td>\n      <td>2021</td>\n      <td>HOU</td>\n    </tr>\n  </tbody>\n</table>\n<p>906 rows × 9 columns</p>\n</div>"
     },
     "execution_count": 526,
     "metadata": {},
     "output_type": "execute_result"
    }
   ],
   "source": [
    "teams_2b = cleaning_teamsdf_removeUnimportantRows(teams_2b)\n",
    "teams_2b = cleaning_teamsdf_convertStripToNan(teams_2b)\n",
    "teams_2b = cleaning_teamsdf_convertToAppropriateDatatype(teams_2b)\n",
    "teams_2b = cleaning_anyDf_removeStarInTeamName(teams_2b)\n",
    "teams_2b = cleaning_anyDf_convertTeamNamesToItsAbbrev(teams_2b, nicknames_df)\n",
    "teams_2b"
   ],
   "metadata": {
    "collapsed": false
   }
  },
  {
   "cell_type": "code",
   "execution_count": 527,
   "outputs": [],
   "source": [
    "from datetime import datetime\n",
    "\n",
    "\n",
    "def cleaning_inflationDf_separateDateColumns(us_inflation_2b, column='Yearmon', format=\"%d-%m-%Y\"):\n",
    "    us_inflation_2b = us_inflation_2b.copy()\n",
    "\n",
    "    dates = []\n",
    "    for i in range(len(us_inflation_2b)):\n",
    "        date = us_inflation_2b[column].iloc[i]\n",
    "        date = datetime.strptime(date, format)\n",
    "        dates.append(date)\n",
    "    us_inflation_2b['Year']  = [date.year for date in dates]\n",
    "    us_inflation_2b['Month'] = [date.month for date in dates]\n",
    "    us_inflation_2b['Day']   = [date.day for date in dates]\n",
    "\n",
    "    return us_inflation_2b\n",
    "\n",
    "\n",
    "def cleaning_inflationDf_getYearByMedian(us_inflation_2b):\n",
    "    \"\"\"\n",
    "    precondition: cleaning_inflationDf_separateDateColumns\n",
    "    \"\"\"\n",
    "    us_inflation_2b = us_inflation_2b.copy()\n",
    "    us_inflation_2b = cleaning_inflationDf_separateDateColumns(us_inflation_2b)\n",
    "    us_inflation_2b = us_inflation_2b.groupby(by='Year')['CPI'].median()\n",
    "    us_inflation_2b = us_inflation_2b.reset_index()\n",
    "    return us_inflation_2b\n",
    "\n",
    "\n",
    "def cleaning_anyDf_removeDuplicatedColumns(combined_df):\n",
    "    combined_df = combined_df.copy()\n",
    "    columns = combined_df.columns\n",
    "\n",
    "    columns_tobe_removed = []\n",
    "    for i in range(len(columns)):\n",
    "        col1 = columns[i]\n",
    "        for j in range(i+1, len(columns)):\n",
    "            col2 = columns[j]\n",
    "\n",
    "            if (combined_df[col1] == combined_df[col2]).all():\n",
    "                columns_tobe_removed.append(col1)\n",
    "    columns_tobe_kept = set(combined_df.columns) - set(columns_tobe_removed)\n",
    "    columns_tobe_kept = list(columns_tobe_kept)\n",
    "    return combined_df.loc[:, columns_tobe_kept]\n",
    "\n",
    "def cleaning_anyDf_recalculateWLpercentage(teams_2b):\n",
    "    teams_2b = teams_2b.copy()\n",
    "    teams_2b['W/L%'] = 100*teams_2b.W / (teams_2b.W + teams_2b.L)\n",
    "    return teams_2b"
   ],
   "metadata": {
    "collapsed": false
   }
  },
  {
   "cell_type": "code",
   "execution_count": 528,
   "outputs": [
    {
     "data": {
      "text/plain": "   Year    CPI   W   L       W/L%    GB   PS/G   PA/G   SRS Team\n0  1991  136.1  56  26  68.292683   NaN  111.5  105.7  5.22  BOS\n1  1991  136.1  44  38  53.658537  12.0  105.4  105.6 -0.39  PHI\n2  1991  136.1  39  43  47.560976  17.0  103.1  103.3 -0.43  NYK",
      "text/html": "<div>\n<style scoped>\n    .dataframe tbody tr th:only-of-type {\n        vertical-align: middle;\n    }\n\n    .dataframe tbody tr th {\n        vertical-align: top;\n    }\n\n    .dataframe thead th {\n        text-align: right;\n    }\n</style>\n<table border=\"1\" class=\"dataframe\">\n  <thead>\n    <tr style=\"text-align: right;\">\n      <th></th>\n      <th>Year</th>\n      <th>CPI</th>\n      <th>W</th>\n      <th>L</th>\n      <th>W/L%</th>\n      <th>GB</th>\n      <th>PS/G</th>\n      <th>PA/G</th>\n      <th>SRS</th>\n      <th>Team</th>\n    </tr>\n  </thead>\n  <tbody>\n    <tr>\n      <th>0</th>\n      <td>1991</td>\n      <td>136.1</td>\n      <td>56</td>\n      <td>26</td>\n      <td>68.292683</td>\n      <td>NaN</td>\n      <td>111.5</td>\n      <td>105.7</td>\n      <td>5.22</td>\n      <td>BOS</td>\n    </tr>\n    <tr>\n      <th>1</th>\n      <td>1991</td>\n      <td>136.1</td>\n      <td>44</td>\n      <td>38</td>\n      <td>53.658537</td>\n      <td>12.0</td>\n      <td>105.4</td>\n      <td>105.6</td>\n      <td>-0.39</td>\n      <td>PHI</td>\n    </tr>\n    <tr>\n      <th>2</th>\n      <td>1991</td>\n      <td>136.1</td>\n      <td>39</td>\n      <td>43</td>\n      <td>47.560976</td>\n      <td>17.0</td>\n      <td>103.1</td>\n      <td>103.3</td>\n      <td>-0.43</td>\n      <td>NYK</td>\n    </tr>\n  </tbody>\n</table>\n</div>"
     },
     "execution_count": 528,
     "metadata": {},
     "output_type": "execute_result"
    }
   ],
   "source": [
    "us_inflation_2b_cleaned = us_inflation_2b.copy()\n",
    "us_inflation_2b_cleaned = cleaning_inflationDf_separateDateColumns(us_inflation_2b_cleaned)\n",
    "us_inflation_2b_cleaned = cleaning_inflationDf_getYearByMedian(us_inflation_2b_cleaned)\n",
    "combined_df = us_inflation_2b_cleaned.merge(teams_2b, left_on=[\"Year\"], right_on=[\"Year\"])\n",
    "combined_df = cleaning_anyDf_recalculateWLpercentage(combined_df)\n",
    "combined_df.head(3)"
   ],
   "metadata": {
    "collapsed": false
   }
  },
  {
   "cell_type": "code",
   "execution_count": 529,
   "outputs": [],
   "source": [
    "mvp_stats_2b = mvp_stats_2b.drop('Tm', axis=1)  # karena sudah ada kolom Team\n",
    "mvp_stats_2b = cleaning_anyDf_convertTeamNamesToItsAbbrev(mvp_stats_2b, nicknames_df)"
   ],
   "metadata": {
    "collapsed": false
   }
  },
  {
   "cell_type": "code",
   "execution_count": 530,
   "outputs": [
    {
     "data": {
      "text/plain": "        Player Pos  Age   G  GS    MP   FG   FGA    FG%   3P  ...  Pts Max  \\\n0   A.C. Green  PF   27  82  21  26.4  3.1   6.6  476.0  0.1  ...        0   \n1  Byron Scott  SG   29  82  82  32.1  6.1  12.8  477.0  0.9  ...        0   \n\n   Share  Team   W   L   W/L%   GB   PS/G  PA/G   SRS  \n0    0.0   LAL  58  24  707.0  5.0  106.3  99.6  6.73  \n1    0.0   LAL  58  24  707.0  5.0  106.3  99.6  6.73  \n\n[2 rows x 40 columns]",
      "text/html": "<div>\n<style scoped>\n    .dataframe tbody tr th:only-of-type {\n        vertical-align: middle;\n    }\n\n    .dataframe tbody tr th {\n        vertical-align: top;\n    }\n\n    .dataframe thead th {\n        text-align: right;\n    }\n</style>\n<table border=\"1\" class=\"dataframe\">\n  <thead>\n    <tr style=\"text-align: right;\">\n      <th></th>\n      <th>Player</th>\n      <th>Pos</th>\n      <th>Age</th>\n      <th>G</th>\n      <th>GS</th>\n      <th>MP</th>\n      <th>FG</th>\n      <th>FGA</th>\n      <th>FG%</th>\n      <th>3P</th>\n      <th>...</th>\n      <th>Pts Max</th>\n      <th>Share</th>\n      <th>Team</th>\n      <th>W</th>\n      <th>L</th>\n      <th>W/L%</th>\n      <th>GB</th>\n      <th>PS/G</th>\n      <th>PA/G</th>\n      <th>SRS</th>\n    </tr>\n  </thead>\n  <tbody>\n    <tr>\n      <th>0</th>\n      <td>A.C. Green</td>\n      <td>PF</td>\n      <td>27</td>\n      <td>82</td>\n      <td>21</td>\n      <td>26.4</td>\n      <td>3.1</td>\n      <td>6.6</td>\n      <td>476.0</td>\n      <td>0.1</td>\n      <td>...</td>\n      <td>0</td>\n      <td>0.0</td>\n      <td>LAL</td>\n      <td>58</td>\n      <td>24</td>\n      <td>707.0</td>\n      <td>5.0</td>\n      <td>106.3</td>\n      <td>99.6</td>\n      <td>6.73</td>\n    </tr>\n    <tr>\n      <th>1</th>\n      <td>Byron Scott</td>\n      <td>SG</td>\n      <td>29</td>\n      <td>82</td>\n      <td>82</td>\n      <td>32.1</td>\n      <td>6.1</td>\n      <td>12.8</td>\n      <td>477.0</td>\n      <td>0.9</td>\n      <td>...</td>\n      <td>0</td>\n      <td>0.0</td>\n      <td>LAL</td>\n      <td>58</td>\n      <td>24</td>\n      <td>707.0</td>\n      <td>5.0</td>\n      <td>106.3</td>\n      <td>99.6</td>\n      <td>6.73</td>\n    </tr>\n  </tbody>\n</table>\n<p>2 rows × 40 columns</p>\n</div>"
     },
     "metadata": {},
     "output_type": "display_data"
    },
    {
     "data": {
      "text/plain": "   Year    CPI   W   L       W/L%    GB   PS/G   PA/G   SRS Team\n0  1991  136.1  56  26  68.292683   NaN  111.5  105.7  5.22  BOS\n1  1991  136.1  44  38  53.658537  12.0  105.4  105.6 -0.39  PHI",
      "text/html": "<div>\n<style scoped>\n    .dataframe tbody tr th:only-of-type {\n        vertical-align: middle;\n    }\n\n    .dataframe tbody tr th {\n        vertical-align: top;\n    }\n\n    .dataframe thead th {\n        text-align: right;\n    }\n</style>\n<table border=\"1\" class=\"dataframe\">\n  <thead>\n    <tr style=\"text-align: right;\">\n      <th></th>\n      <th>Year</th>\n      <th>CPI</th>\n      <th>W</th>\n      <th>L</th>\n      <th>W/L%</th>\n      <th>GB</th>\n      <th>PS/G</th>\n      <th>PA/G</th>\n      <th>SRS</th>\n      <th>Team</th>\n    </tr>\n  </thead>\n  <tbody>\n    <tr>\n      <th>0</th>\n      <td>1991</td>\n      <td>136.1</td>\n      <td>56</td>\n      <td>26</td>\n      <td>68.292683</td>\n      <td>NaN</td>\n      <td>111.5</td>\n      <td>105.7</td>\n      <td>5.22</td>\n      <td>BOS</td>\n    </tr>\n    <tr>\n      <th>1</th>\n      <td>1991</td>\n      <td>136.1</td>\n      <td>44</td>\n      <td>38</td>\n      <td>53.658537</td>\n      <td>12.0</td>\n      <td>105.4</td>\n      <td>105.6</td>\n      <td>-0.39</td>\n      <td>PHI</td>\n    </tr>\n  </tbody>\n</table>\n</div>"
     },
     "metadata": {},
     "output_type": "display_data"
    },
    {
     "name": "stdout",
     "output_type": "stream",
     "text": [
      "banyaknya null salaries:  28074\n",
      "banyaknya null player name salaries:  0\n",
      "banyaknya null player name mvp stats:  0\n",
      "banyaknya null team name:  0\n",
      "\n",
      "banyaknya row salaries df :  37420\n",
      "banyaknya row mvp statsdf :  14092\n",
      "banyaknya row combined df :  906\n"
     ]
    }
   ],
   "source": [
    "display(mvp_stats_2b.head(2))\n",
    "display(combined_df.head(2))\n",
    "print('banyaknya null salaries: ', salaries_2b.Salaries.isna().sum())\n",
    "print('banyaknya null player name salaries: ', salaries_2b.Name.isna().sum())\n",
    "print('banyaknya null player name mvp stats: ', mvp_stats_2b.Player.isna().sum())\n",
    "print('banyaknya null team name: ', combined_df.Team.isna().sum())\n",
    "print()\n",
    "print('banyaknya row salaries df : ', len(salaries_2b))\n",
    "print('banyaknya row mvp statsdf : ', len(mvp_stats_2b))\n",
    "print('banyaknya row combined df : ', len(combined_df))"
   ],
   "metadata": {
    "collapsed": false
   }
  },
  {
   "cell_type": "code",
   "execution_count": 531,
   "outputs": [
    {
     "data": {
      "text/plain": "   Year  GB_y  Rank  AST  PS/G_y   2PA  STL   3P  SRS_y Pos  ...    FG%   FTA  \\\n0  2000   NaN     1  3.8   100.8  21.1  0.5  0.0   8.41   C  ...  574.0  10.4   \n1  2000   5.0     2  5.0    98.5  17.8  1.5  0.4   2.67  PF  ...  497.0   5.0   \n2  2000   NaN     3  1.6    94.4  14.9  0.5  0.0   2.75   C  ...  551.0   7.4   \n3  2000  23.0     4  3.0    96.6  13.4  0.8  0.0  -3.47  PF  ...  459.0   3.4   \n4  2000   8.0     5  5.0    97.5   7.3  1.4  1.0   6.36  SF  ...  451.0   2.7   \n\n     FT%  ORB  Pts Won  3PA   TRB    2P%   PTS   eFG%  \n0  524.0  4.3     1207  0.0  13.6  575.0  29.7  574.0  \n1  765.0  2.8      408  1.0  11.8  504.0  22.9  507.0  \n2  711.0  2.7      367  0.1   9.5  553.0  21.7  551.0  \n3  735.0  1.6        0  0.1   5.7  462.0  14.9  459.0  \n4  717.0  1.4        0  3.2   6.3  506.0  12.5  501.0  \n\n[5 rows x 45 columns]",
      "text/html": "<div>\n<style scoped>\n    .dataframe tbody tr th:only-of-type {\n        vertical-align: middle;\n    }\n\n    .dataframe tbody tr th {\n        vertical-align: top;\n    }\n\n    .dataframe thead th {\n        text-align: right;\n    }\n</style>\n<table border=\"1\" class=\"dataframe\">\n  <thead>\n    <tr style=\"text-align: right;\">\n      <th></th>\n      <th>Year</th>\n      <th>GB_y</th>\n      <th>Rank</th>\n      <th>AST</th>\n      <th>PS/G_y</th>\n      <th>2PA</th>\n      <th>STL</th>\n      <th>3P</th>\n      <th>SRS_y</th>\n      <th>Pos</th>\n      <th>...</th>\n      <th>FG%</th>\n      <th>FTA</th>\n      <th>FT%</th>\n      <th>ORB</th>\n      <th>Pts Won</th>\n      <th>3PA</th>\n      <th>TRB</th>\n      <th>2P%</th>\n      <th>PTS</th>\n      <th>eFG%</th>\n    </tr>\n  </thead>\n  <tbody>\n    <tr>\n      <th>0</th>\n      <td>2000</td>\n      <td>NaN</td>\n      <td>1</td>\n      <td>3.8</td>\n      <td>100.8</td>\n      <td>21.1</td>\n      <td>0.5</td>\n      <td>0.0</td>\n      <td>8.41</td>\n      <td>C</td>\n      <td>...</td>\n      <td>574.0</td>\n      <td>10.4</td>\n      <td>524.0</td>\n      <td>4.3</td>\n      <td>1207</td>\n      <td>0.0</td>\n      <td>13.6</td>\n      <td>575.0</td>\n      <td>29.7</td>\n      <td>574.0</td>\n    </tr>\n    <tr>\n      <th>1</th>\n      <td>2000</td>\n      <td>5.0</td>\n      <td>2</td>\n      <td>5.0</td>\n      <td>98.5</td>\n      <td>17.8</td>\n      <td>1.5</td>\n      <td>0.4</td>\n      <td>2.67</td>\n      <td>PF</td>\n      <td>...</td>\n      <td>497.0</td>\n      <td>5.0</td>\n      <td>765.0</td>\n      <td>2.8</td>\n      <td>408</td>\n      <td>1.0</td>\n      <td>11.8</td>\n      <td>504.0</td>\n      <td>22.9</td>\n      <td>507.0</td>\n    </tr>\n    <tr>\n      <th>2</th>\n      <td>2000</td>\n      <td>NaN</td>\n      <td>3</td>\n      <td>1.6</td>\n      <td>94.4</td>\n      <td>14.9</td>\n      <td>0.5</td>\n      <td>0.0</td>\n      <td>2.75</td>\n      <td>C</td>\n      <td>...</td>\n      <td>551.0</td>\n      <td>7.4</td>\n      <td>711.0</td>\n      <td>2.7</td>\n      <td>367</td>\n      <td>0.1</td>\n      <td>9.5</td>\n      <td>553.0</td>\n      <td>21.7</td>\n      <td>551.0</td>\n    </tr>\n    <tr>\n      <th>3</th>\n      <td>2000</td>\n      <td>23.0</td>\n      <td>4</td>\n      <td>3.0</td>\n      <td>96.6</td>\n      <td>13.4</td>\n      <td>0.8</td>\n      <td>0.0</td>\n      <td>-3.47</td>\n      <td>PF</td>\n      <td>...</td>\n      <td>459.0</td>\n      <td>3.4</td>\n      <td>735.0</td>\n      <td>1.6</td>\n      <td>0</td>\n      <td>0.1</td>\n      <td>5.7</td>\n      <td>462.0</td>\n      <td>14.9</td>\n      <td>459.0</td>\n    </tr>\n    <tr>\n      <th>4</th>\n      <td>2000</td>\n      <td>8.0</td>\n      <td>5</td>\n      <td>5.0</td>\n      <td>97.5</td>\n      <td>7.3</td>\n      <td>1.4</td>\n      <td>1.0</td>\n      <td>6.36</td>\n      <td>SF</td>\n      <td>...</td>\n      <td>451.0</td>\n      <td>2.7</td>\n      <td>717.0</td>\n      <td>1.4</td>\n      <td>0</td>\n      <td>3.2</td>\n      <td>6.3</td>\n      <td>506.0</td>\n      <td>12.5</td>\n      <td>501.0</td>\n    </tr>\n  </tbody>\n</table>\n<p>5 rows × 45 columns</p>\n</div>"
     },
     "execution_count": 531,
     "metadata": {},
     "output_type": "execute_result"
    }
   ],
   "source": [
    "salaries_2b = salaries_2b[[\"Name\", \"Year\", \"Salaries\", \"Rank\"]]\n",
    "\n",
    "combined_df = mvp_stats_2b.merge(combined_df, left_on=[\"Team\", \"Year\"], right_on=[\"Team\", \"Year\"])\n",
    "combined_df = salaries_2b.merge(combined_df, left_on=[\"Name\", \"Year\"], right_on=[\"Player\", \"Year\"])\n",
    "combined_df = cleaning_anyDf_removeDuplicatedColumns(combined_df)\n",
    "\n",
    "combined_df.head(5)"
   ],
   "metadata": {
    "collapsed": false
   }
  },
  {
   "cell_type": "code",
   "execution_count": 531,
   "outputs": [],
   "source": [],
   "metadata": {
    "collapsed": false
   }
  },
  {
   "cell_type": "markdown",
   "source": [
    "### 2B. Drop missing values pada target feature\n",
    "\n",
    "kami memutuskan untuk mendrop missing values pada target feature karena target feature merupakan ground truth. Oleh karena itu, kami tidak setuju apabila kita melakukan imputasi untuk missing values pada kolom ini. Sebab, apabila kita melakukan imputasi terhadap missing values untuk kolom ini, maka kolom ini tidak sepenuhnya menjadi ground truth lagi karena diisikan dengan data-data sintesis yang tidak diketahui kebenarannya."
   ],
   "metadata": {
    "collapsed": false
   }
  },
  {
   "cell_type": "code",
   "execution_count": 532,
   "outputs": [
    {
     "name": "stdout",
     "output_type": "stream",
     "text": [
      "Banyak missing values pada kolom Salaries:  390\n"
     ]
    },
    {
     "data": {
      "text/plain": "Year           0\nGB_y        1571\nRank           0\nAST            0\nPS/G_y         0\n2PA            0\nSTL            0\n3P             0\nSRS_y          0\nPos            0\nDRB            0\nFGA            0\nTeam           0\nPlayer         0\nGS             0\nPA/G_y         0\nW_y            0\nAge            0\nCPI            0\nFG             0\nShare          0\n3P%         1117\nTOV            0\n2P             0\nL_y            0\nW/L%_y         0\nPF             0\nSalaries       0\nFT             0\nBLK            0\nG              0\nW/L%_x         0\nGB_x           0\nPts Max        0\nMP             0\nFG%           25\nFTA            0\nFT%          230\nORB            0\nPts Won        0\n3PA            0\nTRB            0\n2P%           43\nPTS            0\neFG%          25\ndtype: int64"
     },
     "execution_count": 532,
     "metadata": {},
     "output_type": "execute_result"
    }
   ],
   "source": [
    "print(\"Banyak missing values pada kolom Salaries: \", combined_df.Salaries.isna().sum())\n",
    "combined_df = combined_df[combined_df.Salaries.notna()]\n",
    "combined_df.isna().sum()"
   ],
   "metadata": {
    "collapsed": false
   }
  },
  {
   "cell_type": "markdown",
   "source": [
    "### 2B. Train test split"
   ],
   "metadata": {
    "collapsed": false
   }
  },
  {
   "cell_type": "code",
   "execution_count": 533,
   "outputs": [
    {
     "data": {
      "text/plain": "   Year  GB_y  Rank  AST  PS/G_y   2PA  STL   3P  SRS_y Pos  ...    FG%   FTA  \\\n0  2000   NaN     1  3.8   100.8  21.1  0.5  0.0   8.41   C  ...  574.0  10.4   \n1  2000   5.0     2  5.0    98.5  17.8  1.5  0.4   2.67  PF  ...  497.0   5.0   \n\n     FT%  ORB  Pts Won  3PA   TRB    2P%   PTS   eFG%  \n0  524.0  4.3     1207  0.0  13.6  575.0  29.7  574.0  \n1  765.0  2.8      408  1.0  11.8  504.0  22.9  507.0  \n\n[2 rows x 42 columns]",
      "text/html": "<div>\n<style scoped>\n    .dataframe tbody tr th:only-of-type {\n        vertical-align: middle;\n    }\n\n    .dataframe tbody tr th {\n        vertical-align: top;\n    }\n\n    .dataframe thead th {\n        text-align: right;\n    }\n</style>\n<table border=\"1\" class=\"dataframe\">\n  <thead>\n    <tr style=\"text-align: right;\">\n      <th></th>\n      <th>Year</th>\n      <th>GB_y</th>\n      <th>Rank</th>\n      <th>AST</th>\n      <th>PS/G_y</th>\n      <th>2PA</th>\n      <th>STL</th>\n      <th>3P</th>\n      <th>SRS_y</th>\n      <th>Pos</th>\n      <th>...</th>\n      <th>FG%</th>\n      <th>FTA</th>\n      <th>FT%</th>\n      <th>ORB</th>\n      <th>Pts Won</th>\n      <th>3PA</th>\n      <th>TRB</th>\n      <th>2P%</th>\n      <th>PTS</th>\n      <th>eFG%</th>\n    </tr>\n  </thead>\n  <tbody>\n    <tr>\n      <th>0</th>\n      <td>2000</td>\n      <td>NaN</td>\n      <td>1</td>\n      <td>3.8</td>\n      <td>100.8</td>\n      <td>21.1</td>\n      <td>0.5</td>\n      <td>0.0</td>\n      <td>8.41</td>\n      <td>C</td>\n      <td>...</td>\n      <td>574.0</td>\n      <td>10.4</td>\n      <td>524.0</td>\n      <td>4.3</td>\n      <td>1207</td>\n      <td>0.0</td>\n      <td>13.6</td>\n      <td>575.0</td>\n      <td>29.7</td>\n      <td>574.0</td>\n    </tr>\n    <tr>\n      <th>1</th>\n      <td>2000</td>\n      <td>5.0</td>\n      <td>2</td>\n      <td>5.0</td>\n      <td>98.5</td>\n      <td>17.8</td>\n      <td>1.5</td>\n      <td>0.4</td>\n      <td>2.67</td>\n      <td>PF</td>\n      <td>...</td>\n      <td>497.0</td>\n      <td>5.0</td>\n      <td>765.0</td>\n      <td>2.8</td>\n      <td>408</td>\n      <td>1.0</td>\n      <td>11.8</td>\n      <td>504.0</td>\n      <td>22.9</td>\n      <td>507.0</td>\n    </tr>\n  </tbody>\n</table>\n<p>2 rows × 42 columns</p>\n</div>"
     },
     "metadata": {},
     "output_type": "display_data"
    },
    {
     "data": {
      "text/plain": "     Salaries\n0  17142000.0\n1  16806000.0",
      "text/html": "<div>\n<style scoped>\n    .dataframe tbody tr th:only-of-type {\n        vertical-align: middle;\n    }\n\n    .dataframe tbody tr th {\n        vertical-align: top;\n    }\n\n    .dataframe thead th {\n        text-align: right;\n    }\n</style>\n<table border=\"1\" class=\"dataframe\">\n  <thead>\n    <tr style=\"text-align: right;\">\n      <th></th>\n      <th>Salaries</th>\n    </tr>\n  </thead>\n  <tbody>\n    <tr>\n      <th>0</th>\n      <td>17142000.0</td>\n    </tr>\n    <tr>\n      <th>1</th>\n      <td>16806000.0</td>\n    </tr>\n  </tbody>\n</table>\n</div>"
     },
     "metadata": {},
     "output_type": "display_data"
    }
   ],
   "source": [
    "x_2b, y_2b = combined_df.drop(\"Salaries\", axis=1), combined_df[[\"Salaries\"]]\n",
    "x_2b.drop(\"Team\", axis=1, inplace=True)\n",
    "x_2b.drop(\"Player\", axis=1, inplace=True)\n",
    "\n",
    "display(x_2b.head(2))\n",
    "display(y_2b.head(2))"
   ],
   "metadata": {
    "collapsed": false
   }
  },
  {
   "cell_type": "code",
   "execution_count": 534,
   "outputs": [],
   "source": [
    "label_encoder = preprocessing.LabelEncoder()\n",
    "label_encoder.fit(x_2b.Pos)\n",
    "x_2b.Pos = label_encoder.transform(x_2b.Pos)"
   ],
   "metadata": {
    "collapsed": false
   }
  },
  {
   "cell_type": "code",
   "execution_count": 535,
   "outputs": [],
   "source": [
    "selected_rows = x_2b.notna().all(axis=1)\n",
    "x_2b = x_2b[selected_rows]\n",
    "y_2b = y_2b[selected_rows]"
   ],
   "metadata": {
    "collapsed": false
   }
  },
  {
   "cell_type": "code",
   "execution_count": 536,
   "outputs": [],
   "source": [
    "from sklearn.preprocessing import StandardScaler, MinMaxScaler\n",
    "\n",
    "scaler = MinMaxScaler()\n",
    "scaler2 = MinMaxScaler()\n",
    "x_2b = pd.DataFrame(scaler.fit_transform(x_2b), columns=x_2b.columns)\n",
    "y_2b = pd.DataFrame(scaler2.fit_transform(y_2b), columns=y_2b.columns)"
   ],
   "metadata": {
    "collapsed": false
   }
  },
  {
   "cell_type": "code",
   "execution_count": 537,
   "outputs": [
    {
     "data": {
      "text/plain": "      Year      GB_y      Rank       AST    PS/G_y       2PA       STL  \\\n0      0.0  0.072727  0.001715  0.427350  0.458333  0.759657  0.517241   \n1      0.0  0.400000  0.005146  0.256410  0.397436  0.570815  0.275862   \n2      0.0  0.127273  0.006861  0.427350  0.426282  0.309013  0.482759   \n3      0.0  0.018182  0.010292  0.213675  0.253205  0.287554  0.206897   \n4      0.0  0.381818  0.012007  0.760684  0.477564  0.596567  0.655172   \n...    ...       ...       ...       ...       ...       ...       ...   \n5351   1.0  0.036364  0.833619  0.025641  0.689103  0.025751  0.103448   \n5352   1.0  0.309091  0.833619  0.076923  0.907051  0.064378  0.068966   \n5353   1.0  0.727273  0.833619  0.162393  0.653846  0.253219  0.137931   \n5354   1.0  0.072727  0.833619  0.025641  0.971154  0.068670  0.068966   \n5355   1.0  0.109091  0.833619  0.076923  0.993590  0.090129  0.137931   \n\n            3P     SRS_y       Pos  ...       FG%       FTA       FT%  \\\n0     0.105263  0.745406  0.142857  ...  0.691238  0.427350  0.774291   \n1     0.000000  0.470193  0.142857  ...  0.638387  0.290598  0.743927   \n2     0.263158  0.910802  0.571429  ...  0.627260  0.230769  0.725709   \n3     0.210526  0.683998  0.142857  ...  0.602225  0.205128  0.775304   \n4     0.578947  0.678171  0.357143  ...  0.623088  0.444444  0.743927   \n...        ...       ...       ...  ...       ...       ...       ...   \n5351  0.184211  0.605558  0.571429  ...  0.543811  0.034188  0.675101   \n5352  0.078947  0.580009  0.785714  ...  0.428373  0.034188  0.000506   \n5353  0.210526  0.225459  0.785714  ...  0.623088  0.299145  0.812753   \n5354  0.078947  0.785298  0.785714  ...  0.559110  0.034188  0.675101   \n5355  0.184211  0.726580  0.785714  ...  0.543811  0.034188  0.722672   \n\n           ORB   Pts Won       3PA      TRB       2P%       PTS      eFG%  \n0     0.518519  0.459459  0.102041  0.73750  0.588098  0.646893  0.705146  \n1     0.296296  0.000000  0.010204  0.35625  0.539090  0.420904  0.638387  \n2     0.259259  0.000000  0.326531  0.39375  0.590432  0.353107  0.696801  \n3     0.222222  0.000000  0.255102  0.33750  0.547258  0.302260  0.663421  \n4     0.222222  0.202703  0.642857  0.40625  0.579930  0.683616  0.698192  \n...        ...       ...       ...      ...       ...       ...       ...  \n5351  0.018519  0.000000  0.234694  0.08125  0.848308  0.093220  0.000695  \n5352  0.018519  0.000000  0.122449  0.02500  0.424737  0.062147  0.499305  \n5353  0.092593  0.000000  0.214286  0.19375  0.543757  0.307910  0.692629  \n5354  0.018519  0.000000  0.081633  0.05625  0.530922  0.073446  0.627260  \n5355  0.092593  0.000000  0.224490  0.11250  0.542590  0.124294  0.655076  \n\n[5356 rows x 42 columns]",
      "text/html": "<div>\n<style scoped>\n    .dataframe tbody tr th:only-of-type {\n        vertical-align: middle;\n    }\n\n    .dataframe tbody tr th {\n        vertical-align: top;\n    }\n\n    .dataframe thead th {\n        text-align: right;\n    }\n</style>\n<table border=\"1\" class=\"dataframe\">\n  <thead>\n    <tr style=\"text-align: right;\">\n      <th></th>\n      <th>Year</th>\n      <th>GB_y</th>\n      <th>Rank</th>\n      <th>AST</th>\n      <th>PS/G_y</th>\n      <th>2PA</th>\n      <th>STL</th>\n      <th>3P</th>\n      <th>SRS_y</th>\n      <th>Pos</th>\n      <th>...</th>\n      <th>FG%</th>\n      <th>FTA</th>\n      <th>FT%</th>\n      <th>ORB</th>\n      <th>Pts Won</th>\n      <th>3PA</th>\n      <th>TRB</th>\n      <th>2P%</th>\n      <th>PTS</th>\n      <th>eFG%</th>\n    </tr>\n  </thead>\n  <tbody>\n    <tr>\n      <th>0</th>\n      <td>0.0</td>\n      <td>0.072727</td>\n      <td>0.001715</td>\n      <td>0.427350</td>\n      <td>0.458333</td>\n      <td>0.759657</td>\n      <td>0.517241</td>\n      <td>0.105263</td>\n      <td>0.745406</td>\n      <td>0.142857</td>\n      <td>...</td>\n      <td>0.691238</td>\n      <td>0.427350</td>\n      <td>0.774291</td>\n      <td>0.518519</td>\n      <td>0.459459</td>\n      <td>0.102041</td>\n      <td>0.73750</td>\n      <td>0.588098</td>\n      <td>0.646893</td>\n      <td>0.705146</td>\n    </tr>\n    <tr>\n      <th>1</th>\n      <td>0.0</td>\n      <td>0.400000</td>\n      <td>0.005146</td>\n      <td>0.256410</td>\n      <td>0.397436</td>\n      <td>0.570815</td>\n      <td>0.275862</td>\n      <td>0.000000</td>\n      <td>0.470193</td>\n      <td>0.142857</td>\n      <td>...</td>\n      <td>0.638387</td>\n      <td>0.290598</td>\n      <td>0.743927</td>\n      <td>0.296296</td>\n      <td>0.000000</td>\n      <td>0.010204</td>\n      <td>0.35625</td>\n      <td>0.539090</td>\n      <td>0.420904</td>\n      <td>0.638387</td>\n    </tr>\n    <tr>\n      <th>2</th>\n      <td>0.0</td>\n      <td>0.127273</td>\n      <td>0.006861</td>\n      <td>0.427350</td>\n      <td>0.426282</td>\n      <td>0.309013</td>\n      <td>0.482759</td>\n      <td>0.263158</td>\n      <td>0.910802</td>\n      <td>0.571429</td>\n      <td>...</td>\n      <td>0.627260</td>\n      <td>0.230769</td>\n      <td>0.725709</td>\n      <td>0.259259</td>\n      <td>0.000000</td>\n      <td>0.326531</td>\n      <td>0.39375</td>\n      <td>0.590432</td>\n      <td>0.353107</td>\n      <td>0.696801</td>\n    </tr>\n    <tr>\n      <th>3</th>\n      <td>0.0</td>\n      <td>0.018182</td>\n      <td>0.010292</td>\n      <td>0.213675</td>\n      <td>0.253205</td>\n      <td>0.287554</td>\n      <td>0.206897</td>\n      <td>0.210526</td>\n      <td>0.683998</td>\n      <td>0.142857</td>\n      <td>...</td>\n      <td>0.602225</td>\n      <td>0.205128</td>\n      <td>0.775304</td>\n      <td>0.222222</td>\n      <td>0.000000</td>\n      <td>0.255102</td>\n      <td>0.33750</td>\n      <td>0.547258</td>\n      <td>0.302260</td>\n      <td>0.663421</td>\n    </tr>\n    <tr>\n      <th>4</th>\n      <td>0.0</td>\n      <td>0.381818</td>\n      <td>0.012007</td>\n      <td>0.760684</td>\n      <td>0.477564</td>\n      <td>0.596567</td>\n      <td>0.655172</td>\n      <td>0.578947</td>\n      <td>0.678171</td>\n      <td>0.357143</td>\n      <td>...</td>\n      <td>0.623088</td>\n      <td>0.444444</td>\n      <td>0.743927</td>\n      <td>0.222222</td>\n      <td>0.202703</td>\n      <td>0.642857</td>\n      <td>0.40625</td>\n      <td>0.579930</td>\n      <td>0.683616</td>\n      <td>0.698192</td>\n    </tr>\n    <tr>\n      <th>...</th>\n      <td>...</td>\n      <td>...</td>\n      <td>...</td>\n      <td>...</td>\n      <td>...</td>\n      <td>...</td>\n      <td>...</td>\n      <td>...</td>\n      <td>...</td>\n      <td>...</td>\n      <td>...</td>\n      <td>...</td>\n      <td>...</td>\n      <td>...</td>\n      <td>...</td>\n      <td>...</td>\n      <td>...</td>\n      <td>...</td>\n      <td>...</td>\n      <td>...</td>\n      <td>...</td>\n    </tr>\n    <tr>\n      <th>5351</th>\n      <td>1.0</td>\n      <td>0.036364</td>\n      <td>0.833619</td>\n      <td>0.025641</td>\n      <td>0.689103</td>\n      <td>0.025751</td>\n      <td>0.103448</td>\n      <td>0.184211</td>\n      <td>0.605558</td>\n      <td>0.571429</td>\n      <td>...</td>\n      <td>0.543811</td>\n      <td>0.034188</td>\n      <td>0.675101</td>\n      <td>0.018519</td>\n      <td>0.000000</td>\n      <td>0.234694</td>\n      <td>0.08125</td>\n      <td>0.848308</td>\n      <td>0.093220</td>\n      <td>0.000695</td>\n    </tr>\n    <tr>\n      <th>5352</th>\n      <td>1.0</td>\n      <td>0.309091</td>\n      <td>0.833619</td>\n      <td>0.076923</td>\n      <td>0.907051</td>\n      <td>0.064378</td>\n      <td>0.068966</td>\n      <td>0.078947</td>\n      <td>0.580009</td>\n      <td>0.785714</td>\n      <td>...</td>\n      <td>0.428373</td>\n      <td>0.034188</td>\n      <td>0.000506</td>\n      <td>0.018519</td>\n      <td>0.000000</td>\n      <td>0.122449</td>\n      <td>0.02500</td>\n      <td>0.424737</td>\n      <td>0.062147</td>\n      <td>0.499305</td>\n    </tr>\n    <tr>\n      <th>5353</th>\n      <td>1.0</td>\n      <td>0.727273</td>\n      <td>0.833619</td>\n      <td>0.162393</td>\n      <td>0.653846</td>\n      <td>0.253219</td>\n      <td>0.137931</td>\n      <td>0.210526</td>\n      <td>0.225459</td>\n      <td>0.785714</td>\n      <td>...</td>\n      <td>0.623088</td>\n      <td>0.299145</td>\n      <td>0.812753</td>\n      <td>0.092593</td>\n      <td>0.000000</td>\n      <td>0.214286</td>\n      <td>0.19375</td>\n      <td>0.543757</td>\n      <td>0.307910</td>\n      <td>0.692629</td>\n    </tr>\n    <tr>\n      <th>5354</th>\n      <td>1.0</td>\n      <td>0.072727</td>\n      <td>0.833619</td>\n      <td>0.025641</td>\n      <td>0.971154</td>\n      <td>0.068670</td>\n      <td>0.068966</td>\n      <td>0.078947</td>\n      <td>0.785298</td>\n      <td>0.785714</td>\n      <td>...</td>\n      <td>0.559110</td>\n      <td>0.034188</td>\n      <td>0.675101</td>\n      <td>0.018519</td>\n      <td>0.000000</td>\n      <td>0.081633</td>\n      <td>0.05625</td>\n      <td>0.530922</td>\n      <td>0.073446</td>\n      <td>0.627260</td>\n    </tr>\n    <tr>\n      <th>5355</th>\n      <td>1.0</td>\n      <td>0.109091</td>\n      <td>0.833619</td>\n      <td>0.076923</td>\n      <td>0.993590</td>\n      <td>0.090129</td>\n      <td>0.137931</td>\n      <td>0.184211</td>\n      <td>0.726580</td>\n      <td>0.785714</td>\n      <td>...</td>\n      <td>0.543811</td>\n      <td>0.034188</td>\n      <td>0.722672</td>\n      <td>0.092593</td>\n      <td>0.000000</td>\n      <td>0.224490</td>\n      <td>0.11250</td>\n      <td>0.542590</td>\n      <td>0.124294</td>\n      <td>0.655076</td>\n    </tr>\n  </tbody>\n</table>\n<p>5356 rows × 42 columns</p>\n</div>"
     },
     "metadata": {},
     "output_type": "display_data"
    },
    {
     "data": {
      "text/plain": "      Salaries\n0     0.470790\n1     0.420112\n2     0.414359\n3     0.333402\n4     0.308427\n...        ...\n5351  0.001359\n5352  0.001359\n5353  0.001359\n5354  0.001359\n5355  0.001359\n\n[5356 rows x 1 columns]",
      "text/html": "<div>\n<style scoped>\n    .dataframe tbody tr th:only-of-type {\n        vertical-align: middle;\n    }\n\n    .dataframe tbody tr th {\n        vertical-align: top;\n    }\n\n    .dataframe thead th {\n        text-align: right;\n    }\n</style>\n<table border=\"1\" class=\"dataframe\">\n  <thead>\n    <tr style=\"text-align: right;\">\n      <th></th>\n      <th>Salaries</th>\n    </tr>\n  </thead>\n  <tbody>\n    <tr>\n      <th>0</th>\n      <td>0.470790</td>\n    </tr>\n    <tr>\n      <th>1</th>\n      <td>0.420112</td>\n    </tr>\n    <tr>\n      <th>2</th>\n      <td>0.414359</td>\n    </tr>\n    <tr>\n      <th>3</th>\n      <td>0.333402</td>\n    </tr>\n    <tr>\n      <th>4</th>\n      <td>0.308427</td>\n    </tr>\n    <tr>\n      <th>...</th>\n      <td>...</td>\n    </tr>\n    <tr>\n      <th>5351</th>\n      <td>0.001359</td>\n    </tr>\n    <tr>\n      <th>5352</th>\n      <td>0.001359</td>\n    </tr>\n    <tr>\n      <th>5353</th>\n      <td>0.001359</td>\n    </tr>\n    <tr>\n      <th>5354</th>\n      <td>0.001359</td>\n    </tr>\n    <tr>\n      <th>5355</th>\n      <td>0.001359</td>\n    </tr>\n  </tbody>\n</table>\n<p>5356 rows × 1 columns</p>\n</div>"
     },
     "metadata": {},
     "output_type": "display_data"
    }
   ],
   "source": [
    "display(x_2b)\n",
    "display(y_2b)"
   ],
   "metadata": {
    "collapsed": false
   }
  },
  {
   "cell_type": "code",
   "execution_count": 547,
   "outputs": [
    {
     "name": "stdout",
     "output_type": "stream",
     "text": [
      "[0.31323841]\n",
      "[0.25694934]\n",
      "[0.26011183]\n",
      "{'2P': 0.0,\n",
      " '2P%': -0.0,\n",
      " '2PA': 0.0,\n",
      " '3P': 0.0,\n",
      " '3P%': -0.0,\n",
      " '3PA': 0.0,\n",
      " 'AST': 0.0,\n",
      " 'Age': 0.027942863328180103,\n",
      " 'BLK': 0.0,\n",
      " 'CPI': 0.09986728693454572,\n",
      " 'DRB': 0.012213044249114452,\n",
      " 'FG': 0.05440760525460941,\n",
      " 'FG%': -0.0,\n",
      " 'FGA': 0.0,\n",
      " 'FT': 0.0,\n",
      " 'FT%': -0.0,\n",
      " 'FTA': 0.038053232594922645,\n",
      " 'G': -0.04450164779113421,\n",
      " 'GB_x': -0.0,\n",
      " 'GB_y': -0.0,\n",
      " 'GS': 0.014441176220935808,\n",
      " 'L_y': -0.0,\n",
      " 'MP': 0.0,\n",
      " 'ORB': 0.0,\n",
      " 'PA/G_y': 0.0,\n",
      " 'PF': -0.0,\n",
      " 'PS/G_y': 0.010046168155499415,\n",
      " 'PTS': 0.0,\n",
      " 'Pos': -0.0,\n",
      " 'Pts Max': 0.03330999318732722,\n",
      " 'Pts Won': 0.0,\n",
      " 'Rank': -0.4383328473733448,\n",
      " 'SRS_y': 0.0,\n",
      " 'STL': 0.0,\n",
      " 'Share': 0.0,\n",
      " 'TOV': 0.0,\n",
      " 'TRB': 0.0,\n",
      " 'W/L%_x': 0.0,\n",
      " 'W/L%_y': 0.0,\n",
      " 'W_y': 0.0042332747981728164,\n",
      " 'eFG%': -0.0}\n"
     ]
    }
   ],
   "source": [
    "from pprint import pprint\n",
    "from sklearn.linear_model import Lasso\n",
    "\n",
    "x_2b.drop('Year', inplace=True, axis=1)\n",
    "\n",
    "lasso = Lasso(alpha=0.001)\n",
    "lasso.fit(x_2b, y_2b)\n",
    "print(lasso.predict(x_2b.iloc[[0]]))\n",
    "print(lasso.predict(x_2b.iloc[[1]]))\n",
    "print(lasso.predict(x_2b.iloc[[2]]))\n",
    "pprint(\n",
    "    dict(zip(x_2b.columns, list(lasso.coef_)))\n",
    ")"
   ],
   "metadata": {
    "collapsed": false
   }
  },
  {
   "cell_type": "code",
   "execution_count": 539,
   "outputs": [
    {
     "name": "stderr",
     "output_type": "stream",
     "text": [
      "H:\\01 Kuliah\\01 Dokumen\\52 - KASDD\\proyek-akhir\\venv\\lib\\site-packages\\sklearn\\utils\\validation.py:1111: DataConversionWarning: A column-vector y was passed when a 1d array was expected. Please change the shape of y to (n_samples, ), for example using ravel().\n",
      "  y = column_or_1d(y, warn=True)\n"
     ]
    },
    {
     "data": {
      "text/plain": "array(['Year', 'Rank', 'FGA', 'CPI', 'FG', '2P', 'PTS'], dtype=object)"
     },
     "execution_count": 539,
     "metadata": {},
     "output_type": "execute_result"
    }
   ],
   "source": [
    "from sklearn.feature_selection import SelectKBest\n",
    "\n",
    "selector = SelectKBest(k=7)\n",
    "selector.fit(x_2b, y_2b)\n",
    "\n",
    "input_features = selector.feature_names_in_\n",
    "selected = selector.get_feature_names_out(input_features=input_features)\n",
    "selected"
   ],
   "metadata": {
    "collapsed": false
   }
  },
  {
   "cell_type": "code",
   "execution_count": 548,
   "outputs": [
    {
     "data": {
      "text/plain": "                   Name  Year    Salaries  Rank\n0      Shaquille O'Neal  2000  17142000.0     1\n1871   Shaquille O'Neal  2001  19285715.0     2\n1872      Kevin Garnett  2001  19610000.0     1\n3742   Shaquille O'Neal  2002  21428572.0     2\n3743      Kevin Garnett  2002  22400000.0     1\n...                 ...   ...         ...   ...\n36942       Joel Embiid  2019  25467250.0    22\n36943      Aaron Gordon  2019  21590909.0    41\n36953       Zach LaVine  2019  19500000.0    48\n37003     Tyler Johnson  2019  19245370.0    50\n37046      Nikola Jokic  2019  25467250.0    22\n\n[321 rows x 4 columns]",
      "text/html": "<div>\n<style scoped>\n    .dataframe tbody tr th:only-of-type {\n        vertical-align: middle;\n    }\n\n    .dataframe tbody tr th {\n        vertical-align: top;\n    }\n\n    .dataframe thead th {\n        text-align: right;\n    }\n</style>\n<table border=\"1\" class=\"dataframe\">\n  <thead>\n    <tr style=\"text-align: right;\">\n      <th></th>\n      <th>Name</th>\n      <th>Year</th>\n      <th>Salaries</th>\n      <th>Rank</th>\n    </tr>\n  </thead>\n  <tbody>\n    <tr>\n      <th>0</th>\n      <td>Shaquille O'Neal</td>\n      <td>2000</td>\n      <td>17142000.0</td>\n      <td>1</td>\n    </tr>\n    <tr>\n      <th>1871</th>\n      <td>Shaquille O'Neal</td>\n      <td>2001</td>\n      <td>19285715.0</td>\n      <td>2</td>\n    </tr>\n    <tr>\n      <th>1872</th>\n      <td>Kevin Garnett</td>\n      <td>2001</td>\n      <td>19610000.0</td>\n      <td>1</td>\n    </tr>\n    <tr>\n      <th>3742</th>\n      <td>Shaquille O'Neal</td>\n      <td>2002</td>\n      <td>21428572.0</td>\n      <td>2</td>\n    </tr>\n    <tr>\n      <th>3743</th>\n      <td>Kevin Garnett</td>\n      <td>2002</td>\n      <td>22400000.0</td>\n      <td>1</td>\n    </tr>\n    <tr>\n      <th>...</th>\n      <td>...</td>\n      <td>...</td>\n      <td>...</td>\n      <td>...</td>\n    </tr>\n    <tr>\n      <th>36942</th>\n      <td>Joel Embiid</td>\n      <td>2019</td>\n      <td>25467250.0</td>\n      <td>22</td>\n    </tr>\n    <tr>\n      <th>36943</th>\n      <td>Aaron Gordon</td>\n      <td>2019</td>\n      <td>21590909.0</td>\n      <td>41</td>\n    </tr>\n    <tr>\n      <th>36953</th>\n      <td>Zach LaVine</td>\n      <td>2019</td>\n      <td>19500000.0</td>\n      <td>48</td>\n    </tr>\n    <tr>\n      <th>37003</th>\n      <td>Tyler Johnson</td>\n      <td>2019</td>\n      <td>19245370.0</td>\n      <td>50</td>\n    </tr>\n    <tr>\n      <th>37046</th>\n      <td>Nikola Jokic</td>\n      <td>2019</td>\n      <td>25467250.0</td>\n      <td>22</td>\n    </tr>\n  </tbody>\n</table>\n<p>321 rows × 4 columns</p>\n</div>"
     },
     "execution_count": 548,
     "metadata": {},
     "output_type": "execute_result"
    }
   ],
   "source": [
    "salaries_2b[salaries_2b.Salaries >= 17142000]"
   ],
   "metadata": {
    "collapsed": false
   }
  },
  {
   "cell_type": "code",
   "execution_count": 540,
   "outputs": [
    {
     "data": {
      "text/plain": "<Figure size 1000x1000 with 2 Axes>",
      "image/png": "[encoded data removed]"
     },
     "metadata": {},
     "output_type": "display_data"
    }
   ],
   "source": [
    "plt.figure(figsize=(10,10))\n",
    "sns.heatmap(x_2b[selected].corr(), annot=True, vmin=-1, vmax=1)\n",
    "plt.title('Correlation Coefficient Of Predictors')\n",
    "plt.show()"
   ],
   "metadata": {
    "collapsed": false
   }
  }
 ],
 "metadata": {
  "kernelspec": {
   "display_name": "Python 3",
   "language": "python",
   "name": "python3"
  },
  "language_info": {
   "codemirror_mode": {
    "name": "ipython",
    "version": 2
   },
   "file_extension": ".py",
   "mimetype": "text/x-python",
   "name": "python",
   "nbconvert_exporter": "python",
   "pygments_lexer": "ipython2",
   "version": "2.7.6"
  }
 },
 "nbformat": 4,
 "nbformat_minor": 0
}
