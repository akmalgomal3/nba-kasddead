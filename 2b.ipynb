{
 "cells": [
  {
   "cell_type": "markdown",
   "source": [
    "# 2b"
   ],
   "metadata": {
    "collapsed": false,
    "pycharm": {
     "name": "#%% md\n"
    }
   }
  },
  {
   "cell_type": "code",
   "execution_count": 20,
   "outputs": [],
   "source": [
    "import numpy as np\n",
    "import pandas as pd"
   ],
   "metadata": {
    "collapsed": false,
    "pycharm": {
     "name": "#%%\n"
    }
   }
  },
  {
   "cell_type": "code",
   "execution_count": 20,
   "outputs": [],
   "source": [],
   "metadata": {
    "collapsed": false,
    "pycharm": {
     "name": "#%%\n"
    }
   }
  },
  {
   "cell_type": "code",
   "execution_count": 21,
   "outputs": [
    {
     "name": "stderr",
     "output_type": "stream",
     "text": [
      "C:\\Users\\imman\\AppData\\Local\\Temp\\ipykernel_22632\\786093204.py:1: FutureWarning: In a future version of pandas all arguments of read_csv except for the argument 'filepath_or_buffer' will be keyword-only.\n",
      "  mvps_df = pd.read_csv(\"datasets/mvps.csv\", ';')\n",
      "C:\\Users\\imman\\AppData\\Local\\Temp\\ipykernel_22632\\786093204.py:2: FutureWarning: In a future version of pandas all arguments of read_csv except for the argument 'filepath_or_buffer' will be keyword-only.\n",
      "  nicknames_df = pd.read_csv(\"datasets/nicknames.csv\", ';')\n",
      "C:\\Users\\imman\\AppData\\Local\\Temp\\ipykernel_22632\\786093204.py:4: FutureWarning: In a future version of pandas all arguments of read_csv except for the argument 'filepath_or_buffer' will be keyword-only.\n",
      "  teams_2b = pd.read_csv(\"datasets/teams.csv\", ';')\n"
     ]
    }
   ],
   "source": [
    "mvps_df = pd.read_csv(\"datasets/mvps.csv\", ';')\n",
    "nicknames_df = pd.read_csv(\"datasets/nicknames.csv\", ';')\n",
    "salaries_df = pd.read_csv(\"datasets/salaries.csv\")\n",
    "teams_2b = pd.read_csv(\"datasets/teams.csv\", ';')"
   ],
   "metadata": {
    "collapsed": false,
    "pycharm": {
     "name": "#%%\n"
    }
   }
  },
  {
   "cell_type": "code",
   "execution_count": 28,
   "outputs": [
    {
     "data": {
      "text/plain": "{'Atlanta Hawks': 'ATL',\n 'Brooklyn Nets': 'BKN',\n 'Boston Celtics': 'BOS',\n 'Charlotte Bobcats': 'CHA',\n 'Charlotte Hornets': 'CHO',\n 'Chicago Bulls': 'CHI',\n 'Cleveland Cavaliers': 'CLE',\n 'Dallas Mavericks': 'DAL',\n 'Denver Nuggets': 'DEN',\n 'Detroit Pistons': 'DET',\n 'Golden State Warriors': 'GSW',\n 'Houston Rockets': 'HOU',\n 'Indiana Pacers': 'IND',\n 'Los Angeles Clippers': 'LAC',\n 'Los Angeles Lakers': 'LAL',\n 'Memphis Grizzlies': 'MEM',\n 'Miami Heat': 'MIA',\n 'Milwaukee Bucks': 'MIL',\n 'Minnesota Timberwolves': 'MIN',\n 'New Jersey Nets': 'NJN',\n 'New Orleans Hornets': 'NOH',\n 'New Orleans Pelicans': 'NOP',\n 'New Orleans/Oklahoma City Hornets': 'NOK',\n 'New York Knicks': 'NYK',\n 'Oklahoma City Thunder': 'OKC',\n 'Orlando Magic': 'ORL',\n 'Philadelphia 76ers': 'PHI',\n 'Phoenix Suns': 'PHO',\n 'Portland Trail Blazers': 'POR',\n 'Seattle SuperSonics': 'SEA',\n 'Sacramento Kings': 'SAC',\n 'San Antonio Spurs': 'SAS',\n 'Toronto Raptors': 'TOR',\n 'Utah Jazz': 'UTA',\n 'Vancouver Grizzlies': 'VAN',\n 'Washington Wizards': 'WAS',\n 'Washington Bullets': 'WSB'}"
     },
     "execution_count": 28,
     "metadata": {},
     "output_type": "execute_result"
    }
   ],
   "source": [
    "def dataframe_to_dict(nicknames_df, key_column_name='Name', value_column_name='Abbreviation'):\n",
    "    keys = nicknames_df[key_column_name]\n",
    "    values = nicknames_df[value_column_name]\n",
    "    return dict(zip(keys, values))\n",
    "\n",
    "dataframe_to_dict(nicknames_df)"
   ],
   "metadata": {
    "collapsed": false,
    "pycharm": {
     "name": "#%%\n"
    }
   }
  },
  {
   "cell_type": "code",
   "execution_count": 23,
   "outputs": [],
   "source": [
    "def cleaning_teamsdf_removeUnimportantRows(teams_2b):\n",
    "    teams_2b = teams_2b.copy()\n",
    "    important_rows = ~teams_2b.W.str.contains(\"Division\")\n",
    "    return teams_2b[important_rows]\n",
    "\n",
    "def cleaning_teamsdf_convertStripToNan(teams_2b):\n",
    "    teams_2b = teams_2b.copy()\n",
    "    teams_2b.GB = teams_2b.GB.replace(\"—\", np.NAN)\n",
    "    return teams_2b\n",
    "\n",
    "def cleaning_teamsdf_convertToAppropriateDatatype(teams_2b):\n",
    "    \"\"\"\n",
    "    preconditions:\n",
    "        cleaning_teamsdf_removeUnimportantRows\n",
    "         cleaning_teamsdf_convertStripToNan\n",
    "    \"\"\"\n",
    "    teams_2b = teams_2b.copy()\n",
    "    teams_2b.W = pd.to_numeric(teams_2b.W)\n",
    "    teams_2b.L = pd.to_numeric(teams_2b.L)\n",
    "    teams_2b['W/L%'] = pd.to_numeric(teams_2b['W/L%'])\n",
    "    teams_2b.GB = pd.to_numeric(teams_2b.GB)\n",
    "    teams_2b['PS/G'] = pd.to_numeric(teams_2b['PS/G'])\n",
    "    teams_2b['PA/G'] = pd.to_numeric(teams_2b['PA/G'])\n",
    "    teams_2b.SRS = pd.to_numeric(teams_2b.SRS)\n",
    "    return teams_2b\n"
   ],
   "metadata": {
    "collapsed": false,
    "pycharm": {
     "name": "#%%\n"
    }
   }
  },
  {
   "cell_type": "code",
   "execution_count": 24,
   "outputs": [
    {
     "data": {
      "text/plain": "       W   L   W/L%    GB   PS/G   PA/G   SRS  Year                  Team\n0     56  26  683.0   NaN  111.5  105.7  5.22  1991       Boston Celtics*\n1     44  38  537.0  12.0  105.4  105.6 -0.39  1991   Philadelphia 76ers*\n2     39  43  476.0  17.0  103.1  103.3 -0.43  1991      New York Knicks*\n3     30  52  366.0  26.0  101.4  106.4 -4.84  1991    Washington Bullets\n4     26  56  317.0  30.0  102.9  107.5 -4.53  1991       New Jersey Nets\n...   ..  ..    ...   ...    ...    ...   ...   ...                   ...\n1028  42  30  583.0   NaN  112.4  110.2  2.26  2021     Dallas Mavericks*\n1029  38  34  528.0   4.0  113.3  112.3  1.07  2021    Memphis Grizzlies*\n1030  33  39  458.0   9.0  111.1  112.8 -1.58  2021     San Antonio Spurs\n1031  31  41  431.0  11.0  114.6  114.9 -0.20  2021  New Orleans Pelicans\n1032  17  55  236.0  25.0  108.8  116.7 -7.50  2021       Houston Rockets\n\n[906 rows x 9 columns]",
      "text/html": "<div>\n<style scoped>\n    .dataframe tbody tr th:only-of-type {\n        vertical-align: middle;\n    }\n\n    .dataframe tbody tr th {\n        vertical-align: top;\n    }\n\n    .dataframe thead th {\n        text-align: right;\n    }\n</style>\n<table border=\"1\" class=\"dataframe\">\n  <thead>\n    <tr style=\"text-align: right;\">\n      <th></th>\n      <th>W</th>\n      <th>L</th>\n      <th>W/L%</th>\n      <th>GB</th>\n      <th>PS/G</th>\n      <th>PA/G</th>\n      <th>SRS</th>\n      <th>Year</th>\n      <th>Team</th>\n    </tr>\n  </thead>\n  <tbody>\n    <tr>\n      <th>0</th>\n      <td>56</td>\n      <td>26</td>\n      <td>683.0</td>\n      <td>NaN</td>\n      <td>111.5</td>\n      <td>105.7</td>\n      <td>5.22</td>\n      <td>1991</td>\n      <td>Boston Celtics*</td>\n    </tr>\n    <tr>\n      <th>1</th>\n      <td>44</td>\n      <td>38</td>\n      <td>537.0</td>\n      <td>12.0</td>\n      <td>105.4</td>\n      <td>105.6</td>\n      <td>-0.39</td>\n      <td>1991</td>\n      <td>Philadelphia 76ers*</td>\n    </tr>\n    <tr>\n      <th>2</th>\n      <td>39</td>\n      <td>43</td>\n      <td>476.0</td>\n      <td>17.0</td>\n      <td>103.1</td>\n      <td>103.3</td>\n      <td>-0.43</td>\n      <td>1991</td>\n      <td>New York Knicks*</td>\n    </tr>\n    <tr>\n      <th>3</th>\n      <td>30</td>\n      <td>52</td>\n      <td>366.0</td>\n      <td>26.0</td>\n      <td>101.4</td>\n      <td>106.4</td>\n      <td>-4.84</td>\n      <td>1991</td>\n      <td>Washington Bullets</td>\n    </tr>\n    <tr>\n      <th>4</th>\n      <td>26</td>\n      <td>56</td>\n      <td>317.0</td>\n      <td>30.0</td>\n      <td>102.9</td>\n      <td>107.5</td>\n      <td>-4.53</td>\n      <td>1991</td>\n      <td>New Jersey Nets</td>\n    </tr>\n    <tr>\n      <th>...</th>\n      <td>...</td>\n      <td>...</td>\n      <td>...</td>\n      <td>...</td>\n      <td>...</td>\n      <td>...</td>\n      <td>...</td>\n      <td>...</td>\n      <td>...</td>\n    </tr>\n    <tr>\n      <th>1028</th>\n      <td>42</td>\n      <td>30</td>\n      <td>583.0</td>\n      <td>NaN</td>\n      <td>112.4</td>\n      <td>110.2</td>\n      <td>2.26</td>\n      <td>2021</td>\n      <td>Dallas Mavericks*</td>\n    </tr>\n    <tr>\n      <th>1029</th>\n      <td>38</td>\n      <td>34</td>\n      <td>528.0</td>\n      <td>4.0</td>\n      <td>113.3</td>\n      <td>112.3</td>\n      <td>1.07</td>\n      <td>2021</td>\n      <td>Memphis Grizzlies*</td>\n    </tr>\n    <tr>\n      <th>1030</th>\n      <td>33</td>\n      <td>39</td>\n      <td>458.0</td>\n      <td>9.0</td>\n      <td>111.1</td>\n      <td>112.8</td>\n      <td>-1.58</td>\n      <td>2021</td>\n      <td>San Antonio Spurs</td>\n    </tr>\n    <tr>\n      <th>1031</th>\n      <td>31</td>\n      <td>41</td>\n      <td>431.0</td>\n      <td>11.0</td>\n      <td>114.6</td>\n      <td>114.9</td>\n      <td>-0.20</td>\n      <td>2021</td>\n      <td>New Orleans Pelicans</td>\n    </tr>\n    <tr>\n      <th>1032</th>\n      <td>17</td>\n      <td>55</td>\n      <td>236.0</td>\n      <td>25.0</td>\n      <td>108.8</td>\n      <td>116.7</td>\n      <td>-7.50</td>\n      <td>2021</td>\n      <td>Houston Rockets</td>\n    </tr>\n  </tbody>\n</table>\n<p>906 rows × 9 columns</p>\n</div>"
     },
     "execution_count": 24,
     "metadata": {},
     "output_type": "execute_result"
    }
   ],
   "source": [
    "teams_2b = cleaning_teamsdf_removeUnimportantRows(teams_2b)\n",
    "teams_2b = cleaning_teamsdf_convertStripToNan(teams_2b)\n",
    "teams_2b = cleaning_teamsdf_convertToAppropriateDatatype(teams_2b)\n",
    "teams_2b"
   ],
   "metadata": {
    "collapsed": false,
    "pycharm": {
     "name": "#%%\n"
    }
   }
  },
  {
   "cell_type": "code",
   "execution_count": 25,
   "outputs": [
    {
     "name": "stdout",
     "output_type": "stream",
     "text": [
      "<class 'pandas.core.frame.DataFrame'>\n",
      "Int64Index: 906 entries, 0 to 1032\n",
      "Data columns (total 9 columns):\n",
      " #   Column  Non-Null Count  Dtype  \n",
      "---  ------  --------------  -----  \n",
      " 0   W       906 non-null    int64  \n",
      " 1   L       906 non-null    int64  \n",
      " 2   W/L%    906 non-null    float64\n",
      " 3   GB      738 non-null    float64\n",
      " 4   PS/G    906 non-null    float64\n",
      " 5   PA/G    906 non-null    float64\n",
      " 6   SRS     906 non-null    float64\n",
      " 7   Year    906 non-null    int64  \n",
      " 8   Team    906 non-null    object \n",
      "dtypes: float64(5), int64(3), object(1)\n",
      "memory usage: 70.8+ KB\n"
     ]
    }
   ],
   "source": [
    "teams_2b.info()"
   ],
   "metadata": {
    "collapsed": false,
    "pycharm": {
     "name": "#%%\n"
    }
   }
  }
 ],
 "metadata": {
  "kernelspec": {
   "display_name": "Python 3",
   "language": "python",
   "name": "python3"
  },
  "language_info": {
   "codemirror_mode": {
    "name": "ipython",
    "version": 2
   },
   "file_extension": ".py",
   "mimetype": "text/x-python",
   "name": "python",
   "nbconvert_exporter": "python",
   "pygments_lexer": "ipython2",
   "version": "2.7.6"
  }
 },
 "nbformat": 4,
 "nbformat_minor": 0
}