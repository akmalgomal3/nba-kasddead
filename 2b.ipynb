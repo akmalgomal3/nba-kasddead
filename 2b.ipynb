{
 "cells": [
  {
   "cell_type": "markdown",
   "source": [
    "# 2B"
   ],
   "metadata": {
    "collapsed": false
   }
  },
  {
   "cell_type": "code",
   "execution_count": 997,
   "outputs": [],
   "source": [
    "from sklearn.base import TransformerMixin, BaseEstimator\n",
    "from sklearn.linear_model import LinearRegression\n",
    "from sklearn.feature_selection import SelectFromModel, SelectKBest\n",
    "from sklearn.impute import SimpleImputer, KNNImputer\n",
    "from sklearn.linear_model import Lasso\n",
    "from sklearn.pipeline import Pipeline\n",
    "import sklearn.preprocessing as preprocessing"
   ],
   "metadata": {
    "collapsed": false
   }
  },
  {
   "cell_type": "code",
   "execution_count": 998,
   "outputs": [],
   "source": [
    "random_state = 42"
   ],
   "metadata": {
    "collapsed": false
   }
  },
  {
   "cell_type": "code",
   "execution_count": 999,
   "outputs": [],
   "source": [
    "import numpy as np\n",
    "import pandas as pd\n",
    "import seaborn as sns\n",
    "from matplotlib import pyplot as plt\n",
    "from pandas._libs.parsers import k\n",
    "from sklearn import preprocessing, metrics\n",
    "from sklearn.model_selection import train_test_split, GridSearchCV"
   ],
   "metadata": {
    "collapsed": false
   }
  },
  {
   "cell_type": "code",
   "execution_count": 1000,
   "outputs": [
    {
     "name": "stderr",
     "output_type": "stream",
     "text": [
      "C:\\Users\\imman\\AppData\\Local\\Temp\\ipykernel_25880\\3205523321.py:1: FutureWarning: In a future version of pandas all arguments of read_csv except for the argument 'filepath_or_buffer' will be keyword-only.\n",
      "  mvp_stats_2b = pd.read_csv(\"datasets/player_mvp_stats.csv\", ';')\n",
      "C:\\Users\\imman\\AppData\\Local\\Temp\\ipykernel_25880\\3205523321.py:2: FutureWarning: In a future version of pandas all arguments of read_csv except for the argument 'filepath_or_buffer' will be keyword-only.\n",
      "  nicknames_df = pd.read_csv(\"datasets/nicknames.csv\", ';')\n",
      "C:\\Users\\imman\\AppData\\Local\\Temp\\ipykernel_25880\\3205523321.py:4: FutureWarning: In a future version of pandas all arguments of read_csv except for the argument 'filepath_or_buffer' will be keyword-only.\n",
      "  teams_2b = pd.read_csv(\"datasets/teams.csv\", ';')\n"
     ]
    }
   ],
   "source": [
    "mvp_stats_2b = pd.read_csv(\"datasets/player_mvp_stats.csv\", ';')\n",
    "nicknames_df = pd.read_csv(\"datasets/nicknames.csv\", ';')\n",
    "salaries_2b = pd.read_csv(\"datasets/salaries.csv\")\n",
    "teams_2b = pd.read_csv(\"datasets/teams.csv\", ';')\n",
    "us_inflation_2b = pd.read_csv(\"datasets/US CPI.csv\")"
   ],
   "metadata": {
    "collapsed": false
   }
  },
  {
   "cell_type": "markdown",
   "source": [
    "### 2B. Preprocess dan merge beberapa dataset menjadi satu"
   ],
   "metadata": {
    "collapsed": false
   }
  },
  {
   "cell_type": "code",
   "execution_count": 1001,
   "outputs": [],
   "source": [
    "def dataframe_to_dict(nicknames_df, key_column_name='Name', value_column_name='Abbreviation'):\n",
    "    keys = nicknames_df[key_column_name]\n",
    "    values = nicknames_df[value_column_name]\n",
    "    return dict(zip(keys, values))"
   ],
   "metadata": {
    "collapsed": false
   }
  },
  {
   "cell_type": "code",
   "execution_count": 1002,
   "outputs": [],
   "source": [
    "def cleaning_teamsdf_removeUnimportantRows(teams_2b):\n",
    "    teams_2b = teams_2b.copy()\n",
    "    important_rows = ~teams_2b.W.str.contains(\"Division\")\n",
    "    return teams_2b[important_rows]\n",
    "\n",
    "def cleaning_teamsdf_convertStripToNan(teams_2b):\n",
    "    teams_2b = teams_2b.copy()\n",
    "    teams_2b.GB = teams_2b.GB.replace(\"—\", np.NAN)\n",
    "    return teams_2b\n",
    "\n",
    "def cleaning_teamsdf_convertToAppropriateDatatype(teams_2b):\n",
    "    \"\"\"\n",
    "    preconditions:\n",
    "        cleaning_teamsdf_removeUnimportantRows\n",
    "         cleaning_teamsdf_convertStripToNan\n",
    "    \"\"\"\n",
    "    teams_2b = teams_2b.copy()\n",
    "    teams_2b.W = pd.to_numeric(teams_2b.W)\n",
    "    teams_2b.L = pd.to_numeric(teams_2b.L)\n",
    "    teams_2b['W/L%'] = pd.to_numeric(teams_2b['W/L%'])\n",
    "    teams_2b.GB = pd.to_numeric(teams_2b.GB)\n",
    "    teams_2b['PS/G'] = pd.to_numeric(teams_2b['PS/G'])\n",
    "    teams_2b['PA/G'] = pd.to_numeric(teams_2b['PA/G'])\n",
    "    teams_2b.SRS = pd.to_numeric(teams_2b.SRS)\n",
    "    return teams_2b\n",
    "\n",
    "def cleaning_anyDf_removeStarInTeamName(teams_2b, column_name='Team'):\n",
    "    teams_2b = teams_2b.copy()\n",
    "    teams_2b[column_name] = teams_2b[column_name].str.replace('*', '')\n",
    "    return teams_2b\n",
    "\n",
    "\n",
    "def cleaning_anyDf_convertTeamNamesToItsAbbrev(teams_2b, nicknames_df, column_name='Team'):\n",
    "    \"\"\"\n",
    "    precondition:\n",
    "        teams df:\n",
    "            cleaning_anyDf_removeStarInTeamName\n",
    "    \"\"\"\n",
    "    nicknames_df = nicknames_df.copy()\n",
    "    teams_2b = teams_2b.copy()\n",
    "\n",
    "    nicknames_df = nicknames_df.drop_duplicates(subset='Name', keep='first')\n",
    "    mapping = dataframe_to_dict(nicknames_df)\n",
    "    mapping |= dataframe_to_dict(nicknames_df, 'Abbreviation', 'Abbreviation')\n",
    "\n",
    "    teams_2b[column_name] = list(map(\n",
    "        lambda x: mapping[x],\n",
    "        teams_2b[column_name]\n",
    "    ))\n",
    "    return teams_2b"
   ],
   "metadata": {
    "collapsed": false
   }
  },
  {
   "cell_type": "code",
   "execution_count": 1003,
   "outputs": [
    {
     "name": "stderr",
     "output_type": "stream",
     "text": [
      "C:\\Users\\imman\\AppData\\Local\\Temp\\ipykernel_25880\\1280597476.py:29: FutureWarning: The default value of regex will change from True to False in a future version. In addition, single character regular expressions will *not* be treated as literal strings when regex=True.\n",
      "  teams_2b[column_name] = teams_2b[column_name].str.replace('*', '')\n"
     ]
    },
    {
     "data": {
      "text/plain": "       W   L   W/L%    GB   PS/G   PA/G   SRS  Year Team\n0     56  26  683.0   NaN  111.5  105.7  5.22  1991  BOS\n1     44  38  537.0  12.0  105.4  105.6 -0.39  1991  PHI\n2     39  43  476.0  17.0  103.1  103.3 -0.43  1991  NYK\n3     30  52  366.0  26.0  101.4  106.4 -4.84  1991  WSB\n4     26  56  317.0  30.0  102.9  107.5 -4.53  1991  NJN\n...   ..  ..    ...   ...    ...    ...   ...   ...  ...\n1028  42  30  583.0   NaN  112.4  110.2  2.26  2021  DAL\n1029  38  34  528.0   4.0  113.3  112.3  1.07  2021  MEM\n1030  33  39  458.0   9.0  111.1  112.8 -1.58  2021  SAS\n1031  31  41  431.0  11.0  114.6  114.9 -0.20  2021  NOP\n1032  17  55  236.0  25.0  108.8  116.7 -7.50  2021  HOU\n\n[906 rows x 9 columns]",
      "text/html": "<div>\n<style scoped>\n    .dataframe tbody tr th:only-of-type {\n        vertical-align: middle;\n    }\n\n    .dataframe tbody tr th {\n        vertical-align: top;\n    }\n\n    .dataframe thead th {\n        text-align: right;\n    }\n</style>\n<table border=\"1\" class=\"dataframe\">\n  <thead>\n    <tr style=\"text-align: right;\">\n      <th></th>\n      <th>W</th>\n      <th>L</th>\n      <th>W/L%</th>\n      <th>GB</th>\n      <th>PS/G</th>\n      <th>PA/G</th>\n      <th>SRS</th>\n      <th>Year</th>\n      <th>Team</th>\n    </tr>\n  </thead>\n  <tbody>\n    <tr>\n      <th>0</th>\n      <td>56</td>\n      <td>26</td>\n      <td>683.0</td>\n      <td>NaN</td>\n      <td>111.5</td>\n      <td>105.7</td>\n      <td>5.22</td>\n      <td>1991</td>\n      <td>BOS</td>\n    </tr>\n    <tr>\n      <th>1</th>\n      <td>44</td>\n      <td>38</td>\n      <td>537.0</td>\n      <td>12.0</td>\n      <td>105.4</td>\n      <td>105.6</td>\n      <td>-0.39</td>\n      <td>1991</td>\n      <td>PHI</td>\n    </tr>\n    <tr>\n      <th>2</th>\n      <td>39</td>\n      <td>43</td>\n      <td>476.0</td>\n      <td>17.0</td>\n      <td>103.1</td>\n      <td>103.3</td>\n      <td>-0.43</td>\n      <td>1991</td>\n      <td>NYK</td>\n    </tr>\n    <tr>\n      <th>3</th>\n      <td>30</td>\n      <td>52</td>\n      <td>366.0</td>\n      <td>26.0</td>\n      <td>101.4</td>\n      <td>106.4</td>\n      <td>-4.84</td>\n      <td>1991</td>\n      <td>WSB</td>\n    </tr>\n    <tr>\n      <th>4</th>\n      <td>26</td>\n      <td>56</td>\n      <td>317.0</td>\n      <td>30.0</td>\n      <td>102.9</td>\n      <td>107.5</td>\n      <td>-4.53</td>\n      <td>1991</td>\n      <td>NJN</td>\n    </tr>\n    <tr>\n      <th>...</th>\n      <td>...</td>\n      <td>...</td>\n      <td>...</td>\n      <td>...</td>\n      <td>...</td>\n      <td>...</td>\n      <td>...</td>\n      <td>...</td>\n      <td>...</td>\n    </tr>\n    <tr>\n      <th>1028</th>\n      <td>42</td>\n      <td>30</td>\n      <td>583.0</td>\n      <td>NaN</td>\n      <td>112.4</td>\n      <td>110.2</td>\n      <td>2.26</td>\n      <td>2021</td>\n      <td>DAL</td>\n    </tr>\n    <tr>\n      <th>1029</th>\n      <td>38</td>\n      <td>34</td>\n      <td>528.0</td>\n      <td>4.0</td>\n      <td>113.3</td>\n      <td>112.3</td>\n      <td>1.07</td>\n      <td>2021</td>\n      <td>MEM</td>\n    </tr>\n    <tr>\n      <th>1030</th>\n      <td>33</td>\n      <td>39</td>\n      <td>458.0</td>\n      <td>9.0</td>\n      <td>111.1</td>\n      <td>112.8</td>\n      <td>-1.58</td>\n      <td>2021</td>\n      <td>SAS</td>\n    </tr>\n    <tr>\n      <th>1031</th>\n      <td>31</td>\n      <td>41</td>\n      <td>431.0</td>\n      <td>11.0</td>\n      <td>114.6</td>\n      <td>114.9</td>\n      <td>-0.20</td>\n      <td>2021</td>\n      <td>NOP</td>\n    </tr>\n    <tr>\n      <th>1032</th>\n      <td>17</td>\n      <td>55</td>\n      <td>236.0</td>\n      <td>25.0</td>\n      <td>108.8</td>\n      <td>116.7</td>\n      <td>-7.50</td>\n      <td>2021</td>\n      <td>HOU</td>\n    </tr>\n  </tbody>\n</table>\n<p>906 rows × 9 columns</p>\n</div>"
     },
     "execution_count": 1003,
     "metadata": {},
     "output_type": "execute_result"
    }
   ],
   "source": [
    "teams_2b = cleaning_teamsdf_removeUnimportantRows(teams_2b)\n",
    "teams_2b = cleaning_teamsdf_convertStripToNan(teams_2b)\n",
    "teams_2b = cleaning_teamsdf_convertToAppropriateDatatype(teams_2b)\n",
    "teams_2b = cleaning_anyDf_removeStarInTeamName(teams_2b)\n",
    "teams_2b = cleaning_anyDf_convertTeamNamesToItsAbbrev(teams_2b, nicknames_df)\n",
    "teams_2b"
   ],
   "metadata": {
    "collapsed": false
   }
  },
  {
   "cell_type": "code",
   "execution_count": 1004,
   "outputs": [],
   "source": [
    "from datetime import datetime\n",
    "\n",
    "\n",
    "def cleaning_inflationDf_separateDateColumns(us_inflation_2b, column='Yearmon', format=\"%d-%m-%Y\"):\n",
    "    us_inflation_2b = us_inflation_2b.copy()\n",
    "\n",
    "    dates = []\n",
    "    for i in range(len(us_inflation_2b)):\n",
    "        date = us_inflation_2b[column].iloc[i]\n",
    "        date = datetime.strptime(date, format)\n",
    "        dates.append(date)\n",
    "    us_inflation_2b['Year']  = [date.year for date in dates]\n",
    "    us_inflation_2b['Month'] = [date.month for date in dates]\n",
    "    us_inflation_2b['Day']   = [date.day for date in dates]\n",
    "\n",
    "    return us_inflation_2b\n",
    "\n",
    "\n",
    "def cleaning_inflationDf_getYearByMedian(us_inflation_2b):\n",
    "    \"\"\"\n",
    "    precondition: cleaning_inflationDf_separateDateColumns\n",
    "    \"\"\"\n",
    "    us_inflation_2b = us_inflation_2b.copy()\n",
    "    us_inflation_2b = cleaning_inflationDf_separateDateColumns(us_inflation_2b)\n",
    "    us_inflation_2b = us_inflation_2b.groupby(by='Year')['CPI'].median()\n",
    "    us_inflation_2b = us_inflation_2b.reset_index()\n",
    "    return us_inflation_2b\n",
    "\n",
    "\n",
    "def cleaning_anyDf_removeDuplicatedColumns(combined_df):\n",
    "    combined_df = combined_df.copy()\n",
    "    columns = combined_df.columns\n",
    "\n",
    "    columns_tobe_removed = []\n",
    "    for i in range(len(columns)):\n",
    "        col1 = columns[i]\n",
    "        for j in range(i+1, len(columns)):\n",
    "            col2 = columns[j]\n",
    "\n",
    "            if (combined_df[col1] == combined_df[col2]).all():\n",
    "                columns_tobe_removed.append(col1)\n",
    "    columns_tobe_kept = set(combined_df.columns) - set(columns_tobe_removed)\n",
    "    columns_tobe_kept = list(columns_tobe_kept)\n",
    "    return combined_df.loc[:, columns_tobe_kept]\n",
    "\n",
    "def cleaning_anyDf_recalculateWLpercentage(teams_2b):\n",
    "    teams_2b = teams_2b.copy()\n",
    "    teams_2b['W/L%'] = 100*teams_2b.W / (teams_2b.W + teams_2b.L)\n",
    "    return teams_2b"
   ],
   "metadata": {
    "collapsed": false
   }
  },
  {
   "cell_type": "code",
   "execution_count": 1005,
   "outputs": [
    {
     "data": {
      "text/plain": "   Year    CPI   W   L       W/L%    GB   PS/G   PA/G   SRS Team\n0  1991  136.1  56  26  68.292683   NaN  111.5  105.7  5.22  BOS\n1  1991  136.1  44  38  53.658537  12.0  105.4  105.6 -0.39  PHI\n2  1991  136.1  39  43  47.560976  17.0  103.1  103.3 -0.43  NYK",
      "text/html": "<div>\n<style scoped>\n    .dataframe tbody tr th:only-of-type {\n        vertical-align: middle;\n    }\n\n    .dataframe tbody tr th {\n        vertical-align: top;\n    }\n\n    .dataframe thead th {\n        text-align: right;\n    }\n</style>\n<table border=\"1\" class=\"dataframe\">\n  <thead>\n    <tr style=\"text-align: right;\">\n      <th></th>\n      <th>Year</th>\n      <th>CPI</th>\n      <th>W</th>\n      <th>L</th>\n      <th>W/L%</th>\n      <th>GB</th>\n      <th>PS/G</th>\n      <th>PA/G</th>\n      <th>SRS</th>\n      <th>Team</th>\n    </tr>\n  </thead>\n  <tbody>\n    <tr>\n      <th>0</th>\n      <td>1991</td>\n      <td>136.1</td>\n      <td>56</td>\n      <td>26</td>\n      <td>68.292683</td>\n      <td>NaN</td>\n      <td>111.5</td>\n      <td>105.7</td>\n      <td>5.22</td>\n      <td>BOS</td>\n    </tr>\n    <tr>\n      <th>1</th>\n      <td>1991</td>\n      <td>136.1</td>\n      <td>44</td>\n      <td>38</td>\n      <td>53.658537</td>\n      <td>12.0</td>\n      <td>105.4</td>\n      <td>105.6</td>\n      <td>-0.39</td>\n      <td>PHI</td>\n    </tr>\n    <tr>\n      <th>2</th>\n      <td>1991</td>\n      <td>136.1</td>\n      <td>39</td>\n      <td>43</td>\n      <td>47.560976</td>\n      <td>17.0</td>\n      <td>103.1</td>\n      <td>103.3</td>\n      <td>-0.43</td>\n      <td>NYK</td>\n    </tr>\n  </tbody>\n</table>\n</div>"
     },
     "execution_count": 1005,
     "metadata": {},
     "output_type": "execute_result"
    }
   ],
   "source": [
    "us_inflation_2b_cleaned = us_inflation_2b.copy()\n",
    "us_inflation_2b_cleaned = cleaning_inflationDf_separateDateColumns(us_inflation_2b_cleaned)\n",
    "us_inflation_2b_cleaned = cleaning_inflationDf_getYearByMedian(us_inflation_2b_cleaned)\n",
    "combined_df = us_inflation_2b_cleaned.merge(teams_2b, left_on=[\"Year\"], right_on=[\"Year\"])\n",
    "combined_df = cleaning_anyDf_recalculateWLpercentage(combined_df)\n",
    "combined_df.head(3)"
   ],
   "metadata": {
    "collapsed": false
   }
  },
  {
   "cell_type": "code",
   "execution_count": 1006,
   "outputs": [],
   "source": [
    "mvp_stats_2b = mvp_stats_2b.drop('Tm', axis=1)  # karena sudah ada kolom Team\n",
    "mvp_stats_2b = cleaning_anyDf_convertTeamNamesToItsAbbrev(mvp_stats_2b, nicknames_df)"
   ],
   "metadata": {
    "collapsed": false
   }
  },
  {
   "cell_type": "code",
   "execution_count": 1007,
   "outputs": [
    {
     "data": {
      "text/plain": "        Player Pos  Age   G  GS    MP   FG   FGA    FG%   3P  3PA    3P%   2P  \\\n0   A.C. Green  PF   27  82  21  26.4  3.1   6.6  476.0  0.1  0.7    0.2  3.0   \n1  Byron Scott  SG   29  82  82  32.1  6.1  12.8  477.0  0.9  2.7  324.0  5.2   \n\n    2PA    2P%    eFG%   FT  FTA    FT%  ORB  DRB  TRB  AST  STL  BLK  TOV  \\\n0   5.9  507.0  486.00  2.7  3.7  738.0  2.5  3.8  6.3  0.9  0.7  0.3  1.2   \n1  10.1  517.0    0.51  1.4  1.8  797.0  0.7  2.3  3.0  2.2  1.2  0.3  1.0   \n\n    PF   PTS  Year  Pts Won  Pts Max  Share Team   W   L   W/L%   GB   PS/G  \\\n0  1.4   9.1  1991        0        0    0.0  LAL  58  24  707.0  5.0  106.3   \n1  1.8  14.5  1991        0        0    0.0  LAL  58  24  707.0  5.0  106.3   \n\n   PA/G   SRS  \n0  99.6  6.73  \n1  99.6  6.73  ",
      "text/html": "<div>\n<style scoped>\n    .dataframe tbody tr th:only-of-type {\n        vertical-align: middle;\n    }\n\n    .dataframe tbody tr th {\n        vertical-align: top;\n    }\n\n    .dataframe thead th {\n        text-align: right;\n    }\n</style>\n<table border=\"1\" class=\"dataframe\">\n  <thead>\n    <tr style=\"text-align: right;\">\n      <th></th>\n      <th>Player</th>\n      <th>Pos</th>\n      <th>Age</th>\n      <th>G</th>\n      <th>GS</th>\n      <th>MP</th>\n      <th>FG</th>\n      <th>FGA</th>\n      <th>FG%</th>\n      <th>3P</th>\n      <th>3PA</th>\n      <th>3P%</th>\n      <th>2P</th>\n      <th>2PA</th>\n      <th>2P%</th>\n      <th>eFG%</th>\n      <th>FT</th>\n      <th>FTA</th>\n      <th>FT%</th>\n      <th>ORB</th>\n      <th>DRB</th>\n      <th>TRB</th>\n      <th>AST</th>\n      <th>STL</th>\n      <th>BLK</th>\n      <th>TOV</th>\n      <th>PF</th>\n      <th>PTS</th>\n      <th>Year</th>\n      <th>Pts Won</th>\n      <th>Pts Max</th>\n      <th>Share</th>\n      <th>Team</th>\n      <th>W</th>\n      <th>L</th>\n      <th>W/L%</th>\n      <th>GB</th>\n      <th>PS/G</th>\n      <th>PA/G</th>\n      <th>SRS</th>\n    </tr>\n  </thead>\n  <tbody>\n    <tr>\n      <th>0</th>\n      <td>A.C. Green</td>\n      <td>PF</td>\n      <td>27</td>\n      <td>82</td>\n      <td>21</td>\n      <td>26.4</td>\n      <td>3.1</td>\n      <td>6.6</td>\n      <td>476.0</td>\n      <td>0.1</td>\n      <td>0.7</td>\n      <td>0.2</td>\n      <td>3.0</td>\n      <td>5.9</td>\n      <td>507.0</td>\n      <td>486.00</td>\n      <td>2.7</td>\n      <td>3.7</td>\n      <td>738.0</td>\n      <td>2.5</td>\n      <td>3.8</td>\n      <td>6.3</td>\n      <td>0.9</td>\n      <td>0.7</td>\n      <td>0.3</td>\n      <td>1.2</td>\n      <td>1.4</td>\n      <td>9.1</td>\n      <td>1991</td>\n      <td>0</td>\n      <td>0</td>\n      <td>0.0</td>\n      <td>LAL</td>\n      <td>58</td>\n      <td>24</td>\n      <td>707.0</td>\n      <td>5.0</td>\n      <td>106.3</td>\n      <td>99.6</td>\n      <td>6.73</td>\n    </tr>\n    <tr>\n      <th>1</th>\n      <td>Byron Scott</td>\n      <td>SG</td>\n      <td>29</td>\n      <td>82</td>\n      <td>82</td>\n      <td>32.1</td>\n      <td>6.1</td>\n      <td>12.8</td>\n      <td>477.0</td>\n      <td>0.9</td>\n      <td>2.7</td>\n      <td>324.0</td>\n      <td>5.2</td>\n      <td>10.1</td>\n      <td>517.0</td>\n      <td>0.51</td>\n      <td>1.4</td>\n      <td>1.8</td>\n      <td>797.0</td>\n      <td>0.7</td>\n      <td>2.3</td>\n      <td>3.0</td>\n      <td>2.2</td>\n      <td>1.2</td>\n      <td>0.3</td>\n      <td>1.0</td>\n      <td>1.8</td>\n      <td>14.5</td>\n      <td>1991</td>\n      <td>0</td>\n      <td>0</td>\n      <td>0.0</td>\n      <td>LAL</td>\n      <td>58</td>\n      <td>24</td>\n      <td>707.0</td>\n      <td>5.0</td>\n      <td>106.3</td>\n      <td>99.6</td>\n      <td>6.73</td>\n    </tr>\n  </tbody>\n</table>\n</div>"
     },
     "metadata": {},
     "output_type": "display_data"
    },
    {
     "data": {
      "text/plain": "   Year    CPI   W   L       W/L%    GB   PS/G   PA/G   SRS Team\n0  1991  136.1  56  26  68.292683   NaN  111.5  105.7  5.22  BOS\n1  1991  136.1  44  38  53.658537  12.0  105.4  105.6 -0.39  PHI",
      "text/html": "<div>\n<style scoped>\n    .dataframe tbody tr th:only-of-type {\n        vertical-align: middle;\n    }\n\n    .dataframe tbody tr th {\n        vertical-align: top;\n    }\n\n    .dataframe thead th {\n        text-align: right;\n    }\n</style>\n<table border=\"1\" class=\"dataframe\">\n  <thead>\n    <tr style=\"text-align: right;\">\n      <th></th>\n      <th>Year</th>\n      <th>CPI</th>\n      <th>W</th>\n      <th>L</th>\n      <th>W/L%</th>\n      <th>GB</th>\n      <th>PS/G</th>\n      <th>PA/G</th>\n      <th>SRS</th>\n      <th>Team</th>\n    </tr>\n  </thead>\n  <tbody>\n    <tr>\n      <th>0</th>\n      <td>1991</td>\n      <td>136.1</td>\n      <td>56</td>\n      <td>26</td>\n      <td>68.292683</td>\n      <td>NaN</td>\n      <td>111.5</td>\n      <td>105.7</td>\n      <td>5.22</td>\n      <td>BOS</td>\n    </tr>\n    <tr>\n      <th>1</th>\n      <td>1991</td>\n      <td>136.1</td>\n      <td>44</td>\n      <td>38</td>\n      <td>53.658537</td>\n      <td>12.0</td>\n      <td>105.4</td>\n      <td>105.6</td>\n      <td>-0.39</td>\n      <td>PHI</td>\n    </tr>\n  </tbody>\n</table>\n</div>"
     },
     "metadata": {},
     "output_type": "display_data"
    },
    {
     "name": "stdout",
     "output_type": "stream",
     "text": [
      "banyaknya null salaries:  28074\n",
      "banyaknya null player name salaries:  0\n",
      "banyaknya null player name mvp stats:  0\n",
      "banyaknya null team name:  0\n",
      "\n",
      "banyaknya row salaries df :  37420\n",
      "banyaknya row mvp statsdf :  14092\n",
      "banyaknya row combined df :  906\n"
     ]
    }
   ],
   "source": [
    "display(mvp_stats_2b.head(2))\n",
    "display(combined_df.head(2))\n",
    "print('banyaknya null salaries: ', salaries_2b.Salaries.isna().sum())\n",
    "print('banyaknya null player name salaries: ', salaries_2b.Name.isna().sum())\n",
    "print('banyaknya null player name mvp stats: ', mvp_stats_2b.Player.isna().sum())\n",
    "print('banyaknya null team name: ', combined_df.Team.isna().sum())\n",
    "print()\n",
    "print('banyaknya row salaries df : ', len(salaries_2b))\n",
    "print('banyaknya row mvp statsdf : ', len(mvp_stats_2b))\n",
    "print('banyaknya row combined df : ', len(combined_df))"
   ],
   "metadata": {
    "collapsed": false
   }
  },
  {
   "cell_type": "code",
   "execution_count": 1008,
   "outputs": [
    {
     "data": {
      "text/plain": "   PS/G_y  ORB   G  Age    FG%  W_y  SRS_y  GB_y     3P%   3P   eFG%  \\\n0   100.8  4.3  79   27  574.0   67   8.41   NaN    0.00  0.0  574.0   \n1    98.5  2.8  81   23  497.0   50   2.67   5.0    0.37  0.4  507.0   \n2    94.4  2.7  79   29  551.0   52   2.75   NaN    0.00  0.0  551.0   \n3    96.6  1.6  82   26  459.0   29  -3.47  23.0    0.00  0.0  459.0   \n4    97.5  1.4  82   34  451.0   59   6.36   8.0  327.00  1.0  501.0   \n\n             Player  Pts Max    Salaries  Year    FG  L_y  STL    2P  BLK Pos  \\\n0  Shaquille O'Neal     1210  17142000.0  2000  12.1   15  0.5  12.1  3.0   C   \n1     Kevin Garnett     1210  16806000.0  2000   9.4   32  1.5   9.0  1.6  PF   \n2   Alonzo Mourning     1210  15004000.0  2000   8.3   30  0.5   8.3  3.7   C   \n3      Juwan Howard        0  15000000.0  2000   6.2   53  0.8   6.2  0.3  PF   \n4    Scottie Pippen        0  14795000.0  2000   4.7   23  1.4   3.7  0.5  SF   \n\n    FT   TRB  Pts Won  Rank  GS     W/L%_y   2PA   PTS  AST    CPI  DRB  GB_x  \\\n0  5.5  13.6     1207     1  79  81.707317  21.1  29.7  3.8  172.6  9.4   0.0   \n1  3.8  11.8      408     2  81  60.975610  17.8  22.9  5.0  172.6  9.0   5.0   \n2  5.2   9.5      367     3  78  63.414634  14.9  21.7  1.6  172.6  6.8   0.0   \n3  2.5   5.7        0     4  82  35.365854  13.4  14.9  3.0  172.6  4.1  23.0   \n4  2.0   6.3        0     5  82  71.951220   7.3  12.5  5.0  172.6  4.9   8.0   \n\n   Share  PA/G_y   FTA  TOV    MP    FT%    2P%   FGA Team  3PA  W/L%_x   PF  \n0  998.0    92.3  10.4  2.8  40.0  524.0  575.0  21.1  LAL  0.0  817.00  3.2  \n1  337.0    96.0   5.0  3.3  40.0  765.0  504.0  18.8  MIN  1.0    0.61  2.5  \n2  303.0    91.3   7.4  2.7  34.8  711.0  553.0  15.0  MIA  0.1  634.00  3.9  \n3    0.0    99.9   3.4  2.7  35.5  735.0  462.0  13.5  WAS  0.1  354.00  3.6  \n4    0.0    91.0   2.7  2.5  33.5  717.0  506.0  10.5  POR  3.2    0.72  2.5  ",
      "text/html": "<div>\n<style scoped>\n    .dataframe tbody tr th:only-of-type {\n        vertical-align: middle;\n    }\n\n    .dataframe tbody tr th {\n        vertical-align: top;\n    }\n\n    .dataframe thead th {\n        text-align: right;\n    }\n</style>\n<table border=\"1\" class=\"dataframe\">\n  <thead>\n    <tr style=\"text-align: right;\">\n      <th></th>\n      <th>PS/G_y</th>\n      <th>ORB</th>\n      <th>G</th>\n      <th>Age</th>\n      <th>FG%</th>\n      <th>W_y</th>\n      <th>SRS_y</th>\n      <th>GB_y</th>\n      <th>3P%</th>\n      <th>3P</th>\n      <th>eFG%</th>\n      <th>Player</th>\n      <th>Pts Max</th>\n      <th>Salaries</th>\n      <th>Year</th>\n      <th>FG</th>\n      <th>L_y</th>\n      <th>STL</th>\n      <th>2P</th>\n      <th>BLK</th>\n      <th>Pos</th>\n      <th>FT</th>\n      <th>TRB</th>\n      <th>Pts Won</th>\n      <th>Rank</th>\n      <th>GS</th>\n      <th>W/L%_y</th>\n      <th>2PA</th>\n      <th>PTS</th>\n      <th>AST</th>\n      <th>CPI</th>\n      <th>DRB</th>\n      <th>GB_x</th>\n      <th>Share</th>\n      <th>PA/G_y</th>\n      <th>FTA</th>\n      <th>TOV</th>\n      <th>MP</th>\n      <th>FT%</th>\n      <th>2P%</th>\n      <th>FGA</th>\n      <th>Team</th>\n      <th>3PA</th>\n      <th>W/L%_x</th>\n      <th>PF</th>\n    </tr>\n  </thead>\n  <tbody>\n    <tr>\n      <th>0</th>\n      <td>100.8</td>\n      <td>4.3</td>\n      <td>79</td>\n      <td>27</td>\n      <td>574.0</td>\n      <td>67</td>\n      <td>8.41</td>\n      <td>NaN</td>\n      <td>0.00</td>\n      <td>0.0</td>\n      <td>574.0</td>\n      <td>Shaquille O'Neal</td>\n      <td>1210</td>\n      <td>17142000.0</td>\n      <td>2000</td>\n      <td>12.1</td>\n      <td>15</td>\n      <td>0.5</td>\n      <td>12.1</td>\n      <td>3.0</td>\n      <td>C</td>\n      <td>5.5</td>\n      <td>13.6</td>\n      <td>1207</td>\n      <td>1</td>\n      <td>79</td>\n      <td>81.707317</td>\n      <td>21.1</td>\n      <td>29.7</td>\n      <td>3.8</td>\n      <td>172.6</td>\n      <td>9.4</td>\n      <td>0.0</td>\n      <td>998.0</td>\n      <td>92.3</td>\n      <td>10.4</td>\n      <td>2.8</td>\n      <td>40.0</td>\n      <td>524.0</td>\n      <td>575.0</td>\n      <td>21.1</td>\n      <td>LAL</td>\n      <td>0.0</td>\n      <td>817.00</td>\n      <td>3.2</td>\n    </tr>\n    <tr>\n      <th>1</th>\n      <td>98.5</td>\n      <td>2.8</td>\n      <td>81</td>\n      <td>23</td>\n      <td>497.0</td>\n      <td>50</td>\n      <td>2.67</td>\n      <td>5.0</td>\n      <td>0.37</td>\n      <td>0.4</td>\n      <td>507.0</td>\n      <td>Kevin Garnett</td>\n      <td>1210</td>\n      <td>16806000.0</td>\n      <td>2000</td>\n      <td>9.4</td>\n      <td>32</td>\n      <td>1.5</td>\n      <td>9.0</td>\n      <td>1.6</td>\n      <td>PF</td>\n      <td>3.8</td>\n      <td>11.8</td>\n      <td>408</td>\n      <td>2</td>\n      <td>81</td>\n      <td>60.975610</td>\n      <td>17.8</td>\n      <td>22.9</td>\n      <td>5.0</td>\n      <td>172.6</td>\n      <td>9.0</td>\n      <td>5.0</td>\n      <td>337.0</td>\n      <td>96.0</td>\n      <td>5.0</td>\n      <td>3.3</td>\n      <td>40.0</td>\n      <td>765.0</td>\n      <td>504.0</td>\n      <td>18.8</td>\n      <td>MIN</td>\n      <td>1.0</td>\n      <td>0.61</td>\n      <td>2.5</td>\n    </tr>\n    <tr>\n      <th>2</th>\n      <td>94.4</td>\n      <td>2.7</td>\n      <td>79</td>\n      <td>29</td>\n      <td>551.0</td>\n      <td>52</td>\n      <td>2.75</td>\n      <td>NaN</td>\n      <td>0.00</td>\n      <td>0.0</td>\n      <td>551.0</td>\n      <td>Alonzo Mourning</td>\n      <td>1210</td>\n      <td>15004000.0</td>\n      <td>2000</td>\n      <td>8.3</td>\n      <td>30</td>\n      <td>0.5</td>\n      <td>8.3</td>\n      <td>3.7</td>\n      <td>C</td>\n      <td>5.2</td>\n      <td>9.5</td>\n      <td>367</td>\n      <td>3</td>\n      <td>78</td>\n      <td>63.414634</td>\n      <td>14.9</td>\n      <td>21.7</td>\n      <td>1.6</td>\n      <td>172.6</td>\n      <td>6.8</td>\n      <td>0.0</td>\n      <td>303.0</td>\n      <td>91.3</td>\n      <td>7.4</td>\n      <td>2.7</td>\n      <td>34.8</td>\n      <td>711.0</td>\n      <td>553.0</td>\n      <td>15.0</td>\n      <td>MIA</td>\n      <td>0.1</td>\n      <td>634.00</td>\n      <td>3.9</td>\n    </tr>\n    <tr>\n      <th>3</th>\n      <td>96.6</td>\n      <td>1.6</td>\n      <td>82</td>\n      <td>26</td>\n      <td>459.0</td>\n      <td>29</td>\n      <td>-3.47</td>\n      <td>23.0</td>\n      <td>0.00</td>\n      <td>0.0</td>\n      <td>459.0</td>\n      <td>Juwan Howard</td>\n      <td>0</td>\n      <td>15000000.0</td>\n      <td>2000</td>\n      <td>6.2</td>\n      <td>53</td>\n      <td>0.8</td>\n      <td>6.2</td>\n      <td>0.3</td>\n      <td>PF</td>\n      <td>2.5</td>\n      <td>5.7</td>\n      <td>0</td>\n      <td>4</td>\n      <td>82</td>\n      <td>35.365854</td>\n      <td>13.4</td>\n      <td>14.9</td>\n      <td>3.0</td>\n      <td>172.6</td>\n      <td>4.1</td>\n      <td>23.0</td>\n      <td>0.0</td>\n      <td>99.9</td>\n      <td>3.4</td>\n      <td>2.7</td>\n      <td>35.5</td>\n      <td>735.0</td>\n      <td>462.0</td>\n      <td>13.5</td>\n      <td>WAS</td>\n      <td>0.1</td>\n      <td>354.00</td>\n      <td>3.6</td>\n    </tr>\n    <tr>\n      <th>4</th>\n      <td>97.5</td>\n      <td>1.4</td>\n      <td>82</td>\n      <td>34</td>\n      <td>451.0</td>\n      <td>59</td>\n      <td>6.36</td>\n      <td>8.0</td>\n      <td>327.00</td>\n      <td>1.0</td>\n      <td>501.0</td>\n      <td>Scottie Pippen</td>\n      <td>0</td>\n      <td>14795000.0</td>\n      <td>2000</td>\n      <td>4.7</td>\n      <td>23</td>\n      <td>1.4</td>\n      <td>3.7</td>\n      <td>0.5</td>\n      <td>SF</td>\n      <td>2.0</td>\n      <td>6.3</td>\n      <td>0</td>\n      <td>5</td>\n      <td>82</td>\n      <td>71.951220</td>\n      <td>7.3</td>\n      <td>12.5</td>\n      <td>5.0</td>\n      <td>172.6</td>\n      <td>4.9</td>\n      <td>8.0</td>\n      <td>0.0</td>\n      <td>91.0</td>\n      <td>2.7</td>\n      <td>2.5</td>\n      <td>33.5</td>\n      <td>717.0</td>\n      <td>506.0</td>\n      <td>10.5</td>\n      <td>POR</td>\n      <td>3.2</td>\n      <td>0.72</td>\n      <td>2.5</td>\n    </tr>\n  </tbody>\n</table>\n</div>"
     },
     "execution_count": 1008,
     "metadata": {},
     "output_type": "execute_result"
    }
   ],
   "source": [
    "salaries_2b = salaries_2b[[\"Name\", \"Year\", \"Salaries\", \"Rank\"]]\n",
    "\n",
    "combined_df = mvp_stats_2b.merge(combined_df, left_on=[\"Team\", \"Year\"], right_on=[\"Team\", \"Year\"])\n",
    "combined_df = salaries_2b.merge(combined_df, left_on=[\"Name\", \"Year\"], right_on=[\"Player\", \"Year\"])\n",
    "combined_df = cleaning_anyDf_removeDuplicatedColumns(combined_df)\n",
    "\n",
    "combined_df.head(5)"
   ],
   "metadata": {
    "collapsed": false
   }
  },
  {
   "cell_type": "code",
   "execution_count": 1008,
   "outputs": [],
   "source": [],
   "metadata": {
    "collapsed": false
   }
  },
  {
   "cell_type": "markdown",
   "source": [
    "### 2B. Drop missing values pada target feature\n",
    "\n",
    "kami memutuskan untuk mendrop missing values pada target feature karena target feature merupakan ground truth. Oleh karena itu, kami tidak setuju apabila kita melakukan imputasi untuk missing values pada kolom ini. Sebab, apabila kita melakukan imputasi terhadap missing values untuk kolom ini, maka kolom ini tidak sepenuhnya menjadi ground truth lagi karena diisikan dengan data-data sintesis yang tidak diketahui kebenarannya."
   ],
   "metadata": {
    "collapsed": false
   }
  },
  {
   "cell_type": "code",
   "execution_count": 1009,
   "outputs": [
    {
     "name": "stdout",
     "output_type": "stream",
     "text": [
      "Banyak missing values pada kolom Salaries:  390\n"
     ]
    },
    {
     "data": {
      "text/plain": "PS/G_y         0\nORB            0\nG              0\nAge            0\nFG%           25\nW_y            0\nSRS_y          0\nGB_y        1571\n3P%         1117\n3P             0\neFG%          25\nPlayer         0\nPts Max        0\nSalaries       0\nYear           0\nFG             0\nL_y            0\nSTL            0\n2P             0\nBLK            0\nPos            0\nFT             0\nTRB            0\nPts Won        0\nRank           0\nGS             0\nW/L%_y         0\n2PA            0\nPTS            0\nAST            0\nCPI            0\nDRB            0\nGB_x           0\nShare          0\nPA/G_y         0\nFTA            0\nTOV            0\nMP             0\nFT%          230\n2P%           43\nFGA            0\nTeam           0\n3PA            0\nW/L%_x         0\nPF             0\ndtype: int64"
     },
     "execution_count": 1009,
     "metadata": {},
     "output_type": "execute_result"
    }
   ],
   "source": [
    "print(\"Banyak missing values pada kolom Salaries: \", combined_df.Salaries.isna().sum())\n",
    "combined_df = combined_df[combined_df.Salaries.notna()]\n",
    "combined_df.isna().sum()"
   ],
   "metadata": {
    "collapsed": false
   }
  },
  {
   "cell_type": "markdown",
   "source": [
    "### 2B. Membagi dataset menjadi training, testing, dan final testing"
   ],
   "metadata": {
    "collapsed": false
   }
  },
  {
   "cell_type": "code",
   "execution_count": 1010,
   "outputs": [
    {
     "data": {
      "text/plain": "   PS/G_y  ORB   G  Age    FG%  W_y  SRS_y  GB_y   3P%   3P   eFG%  Pts Max  \\\n0   100.8  4.3  79   27  574.0   67   8.41   NaN  0.00  0.0  574.0     1210   \n1    98.5  2.8  81   23  497.0   50   2.67   5.0  0.37  0.4  507.0     1210   \n\n   Year    FG  L_y  STL    2P  BLK Pos   FT   TRB  Pts Won  GS     W/L%_y  \\\n0  2000  12.1   15  0.5  12.1  3.0   C  5.5  13.6     1207  79  81.707317   \n1  2000   9.4   32  1.5   9.0  1.6  PF  3.8  11.8      408  81  60.975610   \n\n    2PA   PTS  AST    CPI  DRB  GB_x  Share  PA/G_y   FTA  TOV    MP    FT%  \\\n0  21.1  29.7  3.8  172.6  9.4   0.0  998.0    92.3  10.4  2.8  40.0  524.0   \n1  17.8  22.9  5.0  172.6  9.0   5.0  337.0    96.0   5.0  3.3  40.0  765.0   \n\n     2P%   FGA  3PA  W/L%_x   PF  \n0  575.0  21.1  0.0  817.00  3.2  \n1  504.0  18.8  1.0    0.61  2.5  ",
      "text/html": "<div>\n<style scoped>\n    .dataframe tbody tr th:only-of-type {\n        vertical-align: middle;\n    }\n\n    .dataframe tbody tr th {\n        vertical-align: top;\n    }\n\n    .dataframe thead th {\n        text-align: right;\n    }\n</style>\n<table border=\"1\" class=\"dataframe\">\n  <thead>\n    <tr style=\"text-align: right;\">\n      <th></th>\n      <th>PS/G_y</th>\n      <th>ORB</th>\n      <th>G</th>\n      <th>Age</th>\n      <th>FG%</th>\n      <th>W_y</th>\n      <th>SRS_y</th>\n      <th>GB_y</th>\n      <th>3P%</th>\n      <th>3P</th>\n      <th>eFG%</th>\n      <th>Pts Max</th>\n      <th>Year</th>\n      <th>FG</th>\n      <th>L_y</th>\n      <th>STL</th>\n      <th>2P</th>\n      <th>BLK</th>\n      <th>Pos</th>\n      <th>FT</th>\n      <th>TRB</th>\n      <th>Pts Won</th>\n      <th>GS</th>\n      <th>W/L%_y</th>\n      <th>2PA</th>\n      <th>PTS</th>\n      <th>AST</th>\n      <th>CPI</th>\n      <th>DRB</th>\n      <th>GB_x</th>\n      <th>Share</th>\n      <th>PA/G_y</th>\n      <th>FTA</th>\n      <th>TOV</th>\n      <th>MP</th>\n      <th>FT%</th>\n      <th>2P%</th>\n      <th>FGA</th>\n      <th>3PA</th>\n      <th>W/L%_x</th>\n      <th>PF</th>\n    </tr>\n  </thead>\n  <tbody>\n    <tr>\n      <th>0</th>\n      <td>100.8</td>\n      <td>4.3</td>\n      <td>79</td>\n      <td>27</td>\n      <td>574.0</td>\n      <td>67</td>\n      <td>8.41</td>\n      <td>NaN</td>\n      <td>0.00</td>\n      <td>0.0</td>\n      <td>574.0</td>\n      <td>1210</td>\n      <td>2000</td>\n      <td>12.1</td>\n      <td>15</td>\n      <td>0.5</td>\n      <td>12.1</td>\n      <td>3.0</td>\n      <td>C</td>\n      <td>5.5</td>\n      <td>13.6</td>\n      <td>1207</td>\n      <td>79</td>\n      <td>81.707317</td>\n      <td>21.1</td>\n      <td>29.7</td>\n      <td>3.8</td>\n      <td>172.6</td>\n      <td>9.4</td>\n      <td>0.0</td>\n      <td>998.0</td>\n      <td>92.3</td>\n      <td>10.4</td>\n      <td>2.8</td>\n      <td>40.0</td>\n      <td>524.0</td>\n      <td>575.0</td>\n      <td>21.1</td>\n      <td>0.0</td>\n      <td>817.00</td>\n      <td>3.2</td>\n    </tr>\n    <tr>\n      <th>1</th>\n      <td>98.5</td>\n      <td>2.8</td>\n      <td>81</td>\n      <td>23</td>\n      <td>497.0</td>\n      <td>50</td>\n      <td>2.67</td>\n      <td>5.0</td>\n      <td>0.37</td>\n      <td>0.4</td>\n      <td>507.0</td>\n      <td>1210</td>\n      <td>2000</td>\n      <td>9.4</td>\n      <td>32</td>\n      <td>1.5</td>\n      <td>9.0</td>\n      <td>1.6</td>\n      <td>PF</td>\n      <td>3.8</td>\n      <td>11.8</td>\n      <td>408</td>\n      <td>81</td>\n      <td>60.975610</td>\n      <td>17.8</td>\n      <td>22.9</td>\n      <td>5.0</td>\n      <td>172.6</td>\n      <td>9.0</td>\n      <td>5.0</td>\n      <td>337.0</td>\n      <td>96.0</td>\n      <td>5.0</td>\n      <td>3.3</td>\n      <td>40.0</td>\n      <td>765.0</td>\n      <td>504.0</td>\n      <td>18.8</td>\n      <td>1.0</td>\n      <td>0.61</td>\n      <td>2.5</td>\n    </tr>\n  </tbody>\n</table>\n</div>"
     },
     "metadata": {},
     "output_type": "display_data"
    },
    {
     "data": {
      "text/plain": "     Salaries\n0  17142000.0\n1  16806000.0",
      "text/html": "<div>\n<style scoped>\n    .dataframe tbody tr th:only-of-type {\n        vertical-align: middle;\n    }\n\n    .dataframe tbody tr th {\n        vertical-align: top;\n    }\n\n    .dataframe thead th {\n        text-align: right;\n    }\n</style>\n<table border=\"1\" class=\"dataframe\">\n  <thead>\n    <tr style=\"text-align: right;\">\n      <th></th>\n      <th>Salaries</th>\n    </tr>\n  </thead>\n  <tbody>\n    <tr>\n      <th>0</th>\n      <td>17142000.0</td>\n    </tr>\n    <tr>\n      <th>1</th>\n      <td>16806000.0</td>\n    </tr>\n  </tbody>\n</table>\n</div>"
     },
     "metadata": {},
     "output_type": "display_data"
    }
   ],
   "source": [
    "x_2b, y_2b = combined_df.drop(\"Salaries\", axis=1), combined_df[[\"Salaries\"]]\n",
    "x_2b.drop(\"Team\", axis=1, inplace=True)\n",
    "x_2b.drop(\"Player\", axis=1, inplace=True)\n",
    "x_2b.drop(\"Rank\", axis=1, inplace=True)\n",
    "\n",
    "display(x_2b.head(2))\n",
    "display(y_2b.head(2))"
   ],
   "metadata": {
    "collapsed": false
   }
  },
  {
   "cell_type": "markdown",
   "source": [],
   "metadata": {
    "collapsed": false
   }
  },
  {
   "cell_type": "markdown",
   "source": [
    "### 2B training model"
   ],
   "metadata": {
    "collapsed": false
   }
  },
  {
   "cell_type": "code",
   "execution_count": 1011,
   "outputs": [],
   "source": [
    "class Alternative(TransformerMixin):\n",
    "    def __init__(self, *models, curr_model=0):\n",
    "        self.__curr_model = curr_model\n",
    "        self.models = models\n",
    "\n",
    "    def fit(self, X, y=None):\n",
    "        self.get_curr_model().fit(X, y)\n",
    "        return self\n",
    "\n",
    "    def predict(self, X):\n",
    "        return self.get_curr_model().predict(X)\n",
    "\n",
    "    def transform(self, X):\n",
    "        res = self.get_curr_model().transform(X)\n",
    "        return res\n",
    "\n",
    "    def set_curr_model(self, model_index: int):\n",
    "        self.__curr_model = model_index\n",
    "\n",
    "    def get_curr_model(self):\n",
    "        return self.models[self.__curr_model]\n",
    "\n",
    "    def set_params(self, **kwargs):\n",
    "        if 'curr_model' in kwargs:\n",
    "            self.set_curr_model(kwargs['curr_model'])\n",
    "            del kwargs['curr_model']\n",
    "        self.get_curr_model().set_params(**kwargs)\n",
    "        return self\n",
    "\n",
    "def cartesian_product_of_dict_lists(*multiple_list_of_dicts):\n",
    "    if len(multiple_list_of_dicts) == 0:\n",
    "        return []\n",
    "\n",
    "    if len(multiple_list_of_dicts) == 1:\n",
    "        return multiple_list_of_dicts[0]\n",
    "\n",
    "    if len(multiple_list_of_dicts) == 2:\n",
    "        ret = []\n",
    "        for dict1 in multiple_list_of_dicts[0]:\n",
    "            for dict2 in multiple_list_of_dicts[1]:\n",
    "                ret.append(dict(**dict1, **dict2))\n",
    "        return ret\n",
    "\n",
    "    curr = [{}]\n",
    "    for dct in multiple_list_of_dicts:\n",
    "        curr = cartesian_product_of_dict_lists(curr, dct)\n",
    "    return curr"
   ],
   "metadata": {
    "collapsed": false
   }
  },
  {
   "cell_type": "code",
   "execution_count": 1012,
   "outputs": [],
   "source": [
    "x_2b_train, x2b_final_test, y_2b_train, y_2b_final_test = train_test_split(x_2b, y_2b, test_size=0.2, random_state=random_state)\n",
    "del x_2b\n",
    "del y_2b\n",
    "\n",
    "x_2b_train, x2b_test, y_2b_train, y_2b_test = (\n",
    "    train_test_split(x_2b_train, y_2b_train, test_size=0.2, random_state=random_state)\n",
    ")"
   ],
   "metadata": {
    "collapsed": false
   }
  },
  {
   "cell_type": "code",
   "execution_count": 1013,
   "outputs": [],
   "source": [
    "scaler1 = preprocessing.MinMaxScaler()\n",
    "scaler2 = preprocessing.StandardScaler()\n",
    "scaler3 = preprocessing.RobustScaler()\n",
    "\n",
    "scaler = Alternative(\n",
    "    scaler1, scaler2, scaler3\n",
    ")\n",
    "\n",
    "scaler_params = [{\n",
    "    'scaler__curr_model': [0, 1, 2]\n",
    "}]\n",
    "scaler_params_2 = [{\n",
    "    'scaler': [scaler1, scaler2, scaler3]\n",
    "}]"
   ],
   "metadata": {
    "collapsed": false
   }
  },
  {
   "cell_type": "code",
   "execution_count": 1014,
   "outputs": [],
   "source": [
    "from sklearn.base import TransformerMixin #gives fit_transform method for free\n",
    "\n",
    "class MyLabelEncoder(TransformerMixin):\n",
    "    # source: https://stackoverflow.com/a/46619402/7069108\n",
    "    def __init__(self, columns_to_be_encoded: list[str], *args, **kwargs):\n",
    "        self.columns_to_be_encoded = columns_to_be_encoded\n",
    "        self.encoder = preprocessing.LabelEncoder(*args, **kwargs)\n",
    "\n",
    "    def fit(self, x, y=0):\n",
    "        for col in self.columns_to_be_encoded:\n",
    "            self.encoder.fit(x[col])\n",
    "        return self\n",
    "\n",
    "    def transform(self, x, y=0):\n",
    "        x = x.copy()\n",
    "        for col in self.columns_to_be_encoded:\n",
    "            x[col] = self.encoder.transform(x[col])\n",
    "        return x\n",
    "\n",
    "label_encoder = MyLabelEncoder([\"Pos\"])\n",
    "label_encoder_params = [{}]"
   ],
   "metadata": {
    "collapsed": false
   }
  },
  {
   "cell_type": "code",
   "execution_count": 1015,
   "outputs": [],
   "source": [
    "imputer1 = SimpleImputer()\n",
    "imputer2 = KNNImputer()\n",
    "\n",
    "imputer = Alternative(\n",
    "    imputer1, imputer2\n",
    ")\n",
    "\n",
    "imputer_params = [{\n",
    "    'imputer__curr_model': [0, 1]\n",
    "}]\n",
    "imputer_params_2 = [{\n",
    "    'imputer': [imputer1, imputer2]\n",
    "}]"
   ],
   "metadata": {
    "collapsed": false
   }
  },
  {
   "cell_type": "code",
   "execution_count": 1016,
   "outputs": [],
   "source": [
    "feature_selector1 = SelectFromModel(estimator=Lasso())\n",
    "feature_selector2 = SelectKBest()\n",
    "\n",
    "feature_selector = Alternative(\n",
    "    feature_selector1,\n",
    "    feature_selector2\n",
    ")\n",
    "\n",
    "feature_selector_params = [{\n",
    "    'feature_selector__curr_model': [0],\n",
    "    'feature_selector__estimator__alpha': [0.01, 0.005, 0.001, 0.0005, 0.0001]\n",
    "}, {\n",
    "    'feature_selector__curr_model': [1],\n",
    "    'feature_selector__k': [6, 7, 8, 9],\n",
    "}]\n",
    "feature_selector_params_2 = [{\n",
    "    'feature_selector': [feature_selector1],\n",
    "    'feature_selector__estimator__alpha': [0.01, 0.005, 0.001, 0.0005, 0.0001]\n",
    "}, {\n",
    "    'feature_selector': [feature_selector2],\n",
    "    'feature_selector__k': [6, 7, 8, 9],\n",
    "}]"
   ],
   "metadata": {
    "collapsed": false
   }
  },
  {
   "cell_type": "code",
   "execution_count": 1017,
   "outputs": [],
   "source": [
    "predictor = LinearRegression()"
   ],
   "metadata": {
    "collapsed": false
   }
  },
  {
   "cell_type": "code",
   "execution_count": 1018,
   "outputs": [],
   "source": [
    "pipeline = Pipeline(\n",
    "    steps=[\n",
    "        ('encoding', label_encoder),\n",
    "        ('scaler', scaler),\n",
    "        ('imputer', imputer),\n",
    "        ('feature_selector', feature_selector),\n",
    "        ('predictor', predictor),\n",
    "    ]\n",
    ")"
   ],
   "metadata": {
    "collapsed": false
   }
  },
  {
   "cell_type": "code",
   "execution_count": 1019,
   "outputs": [],
   "source": [
    "grid_params = cartesian_product_of_dict_lists(\n",
    "    [{}],\n",
    "    label_encoder_params,\n",
    "    scaler_params,\n",
    "    imputer_params,\n",
    "    feature_selector_params,\n",
    ")"
   ],
   "metadata": {
    "collapsed": false
   }
  },
  {
   "cell_type": "code",
   "execution_count": 1020,
   "outputs": [
    {
     "data": {
      "text/plain": "[{'scaler__curr_model': [0, 1, 2],\n  'imputer__curr_model': [0, 1],\n  'feature_selector__curr_model': [0],\n  'feature_selector__estimator__alpha': [0.01, 0.005, 0.001, 0.0005, 0.0001]},\n {'scaler__curr_model': [0, 1, 2],\n  'imputer__curr_model': [0, 1],\n  'feature_selector__curr_model': [1],\n  'feature_selector__k': [6, 7, 8, 9]}]"
     },
     "execution_count": 1020,
     "metadata": {},
     "output_type": "execute_result"
    }
   ],
   "source": [
    "grid_params"
   ],
   "metadata": {
    "collapsed": false
   }
  },
  {
   "cell_type": "code",
   "execution_count": 1021,
   "outputs": [
    {
     "name": "stderr",
     "output_type": "stream",
     "text": [
      "H:\\01 Kuliah\\01 Dokumen\\52 - KASDD\\proyek-akhir\\venv\\lib\\site-packages\\sklearn\\model_selection\\_search.py:953: UserWarning: One or more of the test scores are non-finite: [nan nan nan nan nan nan nan nan nan nan nan nan nan nan nan nan nan nan\n",
      " nan nan nan nan nan nan nan nan nan nan nan nan nan nan nan nan nan nan\n",
      " nan nan nan nan nan nan nan nan nan nan nan nan nan nan nan nan nan nan]\n",
      "  warnings.warn(\n",
      "H:\\01 Kuliah\\01 Dokumen\\52 - KASDD\\proyek-akhir\\venv\\lib\\site-packages\\sklearn\\linear_model\\_coordinate_descent.py:648: ConvergenceWarning: Objective did not converge. You might want to increase the number of iterations, check the scale of the features or consider increasing regularisation. Duality gap: 3.139e+16, tolerance: 1.397e+13\n",
      "  model = cd_fast.enet_coordinate_descent(\n"
     ]
    },
    {
     "data": {
      "text/plain": "GridSearchCV(estimator=Pipeline(steps=[('encoding',\n                                        <__main__.MyLabelEncoder object at 0x0000024394AFD2A0>),\n                                       ('scaler',\n                                        <__main__.Alternative object at 0x0000024392CE94E0>),\n                                       ('imputer',\n                                        <__main__.Alternative object at 0x0000024394AFFD90>),\n                                       ('feature_selector',\n                                        <__main__.Alternative object at 0x0000024394AFE9B0>),\n                                       ('predictor', LinearRegression())]),\n             n_jobs=-1,\n             param_grid=[{'feature_selector__curr_model': [0],\n                          'feature_selector__estimator__alpha': [0.01, 0.005,\n                                                                 0.001, 0.0005,\n                                                                 0.0001],\n                          'imputer__curr_model': [0, 1],\n                          'scaler__curr_model': [0, 1, 2]},\n                         {'feature_selector__curr_model': [1],\n                          'feature_selector__k': [6, 7, 8, 9],\n                          'imputer__curr_model': [0, 1],\n                          'scaler__curr_model': [0, 1, 2]}],\n             scoring='neg_mean_absolute_error')",
      "text/html": "<style>#sk-container-id-15 {color: black;background-color: white;}#sk-container-id-15 pre{padding: 0;}#sk-container-id-15 div.sk-toggleable {background-color: white;}#sk-container-id-15 label.sk-toggleable__label {cursor: pointer;display: block;width: 100%;margin-bottom: 0;padding: 0.3em;box-sizing: border-box;text-align: center;}#sk-container-id-15 label.sk-toggleable__label-arrow:before {content: \"▸\";float: left;margin-right: 0.25em;color: #696969;}#sk-container-id-15 label.sk-toggleable__label-arrow:hover:before {color: black;}#sk-container-id-15 div.sk-estimator:hover label.sk-toggleable__label-arrow:before {color: black;}#sk-container-id-15 div.sk-toggleable__content {max-height: 0;max-width: 0;overflow: hidden;text-align: left;background-color: #f0f8ff;}#sk-container-id-15 div.sk-toggleable__content pre {margin: 0.2em;color: black;border-radius: 0.25em;background-color: #f0f8ff;}#sk-container-id-15 input.sk-toggleable__control:checked~div.sk-toggleable__content {max-height: 200px;max-width: 100%;overflow: auto;}#sk-container-id-15 input.sk-toggleable__control:checked~label.sk-toggleable__label-arrow:before {content: \"▾\";}#sk-container-id-15 div.sk-estimator input.sk-toggleable__control:checked~label.sk-toggleable__label {background-color: #d4ebff;}#sk-container-id-15 div.sk-label input.sk-toggleable__control:checked~label.sk-toggleable__label {background-color: #d4ebff;}#sk-container-id-15 input.sk-hidden--visually {border: 0;clip: rect(1px 1px 1px 1px);clip: rect(1px, 1px, 1px, 1px);height: 1px;margin: -1px;overflow: hidden;padding: 0;position: absolute;width: 1px;}#sk-container-id-15 div.sk-estimator {font-family: monospace;background-color: #f0f8ff;border: 1px dotted black;border-radius: 0.25em;box-sizing: border-box;margin-bottom: 0.5em;}#sk-container-id-15 div.sk-estimator:hover {background-color: #d4ebff;}#sk-container-id-15 div.sk-parallel-item::after {content: \"\";width: 100%;border-bottom: 1px solid gray;flex-grow: 1;}#sk-container-id-15 div.sk-label:hover label.sk-toggleable__label {background-color: #d4ebff;}#sk-container-id-15 div.sk-serial::before {content: \"\";position: absolute;border-left: 1px solid gray;box-sizing: border-box;top: 0;bottom: 0;left: 50%;z-index: 0;}#sk-container-id-15 div.sk-serial {display: flex;flex-direction: column;align-items: center;background-color: white;padding-right: 0.2em;padding-left: 0.2em;position: relative;}#sk-container-id-15 div.sk-item {position: relative;z-index: 1;}#sk-container-id-15 div.sk-parallel {display: flex;align-items: stretch;justify-content: center;background-color: white;position: relative;}#sk-container-id-15 div.sk-item::before, #sk-container-id-15 div.sk-parallel-item::before {content: \"\";position: absolute;border-left: 1px solid gray;box-sizing: border-box;top: 0;bottom: 0;left: 50%;z-index: -1;}#sk-container-id-15 div.sk-parallel-item {display: flex;flex-direction: column;z-index: 1;position: relative;background-color: white;}#sk-container-id-15 div.sk-parallel-item:first-child::after {align-self: flex-end;width: 50%;}#sk-container-id-15 div.sk-parallel-item:last-child::after {align-self: flex-start;width: 50%;}#sk-container-id-15 div.sk-parallel-item:only-child::after {width: 0;}#sk-container-id-15 div.sk-dashed-wrapped {border: 1px dashed gray;margin: 0 0.4em 0.5em 0.4em;box-sizing: border-box;padding-bottom: 0.4em;background-color: white;}#sk-container-id-15 div.sk-label label {font-family: monospace;font-weight: bold;display: inline-block;line-height: 1.2em;}#sk-container-id-15 div.sk-label-container {text-align: center;}#sk-container-id-15 div.sk-container {/* jupyter's `normalize.less` sets `[hidden] { display: none; }` but bootstrap.min.css set `[hidden] { display: none !important; }` so we also need the `!important` here to be able to override the default hidden behavior on the sphinx rendered scikit-learn.org. See: https://github.com/scikit-learn/scikit-learn/issues/21755 */display: inline-block !important;position: relative;}#sk-container-id-15 div.sk-text-repr-fallback {display: none;}</style><div id=\"sk-container-id-15\" class=\"sk-top-container\"><div class=\"sk-text-repr-fallback\"><pre>GridSearchCV(estimator=Pipeline(steps=[(&#x27;encoding&#x27;,\n                                        &lt;__main__.MyLabelEncoder object at 0x0000024394AFD2A0&gt;),\n                                       (&#x27;scaler&#x27;,\n                                        &lt;__main__.Alternative object at 0x0000024392CE94E0&gt;),\n                                       (&#x27;imputer&#x27;,\n                                        &lt;__main__.Alternative object at 0x0000024394AFFD90&gt;),\n                                       (&#x27;feature_selector&#x27;,\n                                        &lt;__main__.Alternative object at 0x0000024394AFE9B0&gt;),\n                                       (&#x27;predictor&#x27;, LinearRegression())]),\n             n_jobs=-1,\n             param_grid=[{&#x27;feature_selector__curr_model&#x27;: [0],\n                          &#x27;feature_selector__estimator__alpha&#x27;: [0.01, 0.005,\n                                                                 0.001, 0.0005,\n                                                                 0.0001],\n                          &#x27;imputer__curr_model&#x27;: [0, 1],\n                          &#x27;scaler__curr_model&#x27;: [0, 1, 2]},\n                         {&#x27;feature_selector__curr_model&#x27;: [1],\n                          &#x27;feature_selector__k&#x27;: [6, 7, 8, 9],\n                          &#x27;imputer__curr_model&#x27;: [0, 1],\n                          &#x27;scaler__curr_model&#x27;: [0, 1, 2]}],\n             scoring=&#x27;neg_mean_absolute_error&#x27;)</pre><b>In a Jupyter environment, please rerun this cell to show the HTML representation or trust the notebook. <br />On GitHub, the HTML representation is unable to render, please try loading this page with nbviewer.org.</b></div><div class=\"sk-container\" hidden><div class=\"sk-item sk-dashed-wrapped\"><div class=\"sk-label-container\"><div class=\"sk-label sk-toggleable\"><input class=\"sk-toggleable__control sk-hidden--visually\" id=\"sk-estimator-id-71\" type=\"checkbox\" ><label for=\"sk-estimator-id-71\" class=\"sk-toggleable__label sk-toggleable__label-arrow\">GridSearchCV</label><div class=\"sk-toggleable__content\"><pre>GridSearchCV(estimator=Pipeline(steps=[(&#x27;encoding&#x27;,\n                                        &lt;__main__.MyLabelEncoder object at 0x0000024394AFD2A0&gt;),\n                                       (&#x27;scaler&#x27;,\n                                        &lt;__main__.Alternative object at 0x0000024392CE94E0&gt;),\n                                       (&#x27;imputer&#x27;,\n                                        &lt;__main__.Alternative object at 0x0000024394AFFD90&gt;),\n                                       (&#x27;feature_selector&#x27;,\n                                        &lt;__main__.Alternative object at 0x0000024394AFE9B0&gt;),\n                                       (&#x27;predictor&#x27;, LinearRegression())]),\n             n_jobs=-1,\n             param_grid=[{&#x27;feature_selector__curr_model&#x27;: [0],\n                          &#x27;feature_selector__estimator__alpha&#x27;: [0.01, 0.005,\n                                                                 0.001, 0.0005,\n                                                                 0.0001],\n                          &#x27;imputer__curr_model&#x27;: [0, 1],\n                          &#x27;scaler__curr_model&#x27;: [0, 1, 2]},\n                         {&#x27;feature_selector__curr_model&#x27;: [1],\n                          &#x27;feature_selector__k&#x27;: [6, 7, 8, 9],\n                          &#x27;imputer__curr_model&#x27;: [0, 1],\n                          &#x27;scaler__curr_model&#x27;: [0, 1, 2]}],\n             scoring=&#x27;neg_mean_absolute_error&#x27;)</pre></div></div></div><div class=\"sk-parallel\"><div class=\"sk-parallel-item\"><div class=\"sk-item\"><div class=\"sk-label-container\"><div class=\"sk-label sk-toggleable\"><input class=\"sk-toggleable__control sk-hidden--visually\" id=\"sk-estimator-id-72\" type=\"checkbox\" ><label for=\"sk-estimator-id-72\" class=\"sk-toggleable__label sk-toggleable__label-arrow\">estimator: Pipeline</label><div class=\"sk-toggleable__content\"><pre>Pipeline(steps=[(&#x27;encoding&#x27;,\n                 &lt;__main__.MyLabelEncoder object at 0x0000024394AFD2A0&gt;),\n                (&#x27;scaler&#x27;, &lt;__main__.Alternative object at 0x0000024392CE94E0&gt;),\n                (&#x27;imputer&#x27;,\n                 &lt;__main__.Alternative object at 0x0000024394AFFD90&gt;),\n                (&#x27;feature_selector&#x27;,\n                 &lt;__main__.Alternative object at 0x0000024394AFE9B0&gt;),\n                (&#x27;predictor&#x27;, LinearRegression())])</pre></div></div></div><div class=\"sk-serial\"><div class=\"sk-item\"><div class=\"sk-serial\"><div class=\"sk-item\"><div class=\"sk-estimator sk-toggleable\"><input class=\"sk-toggleable__control sk-hidden--visually\" id=\"sk-estimator-id-73\" type=\"checkbox\" ><label for=\"sk-estimator-id-73\" class=\"sk-toggleable__label sk-toggleable__label-arrow\">MyLabelEncoder</label><div class=\"sk-toggleable__content\"><pre>&lt;__main__.MyLabelEncoder object at 0x0000024394AFD2A0&gt;</pre></div></div></div><div class=\"sk-item\"><div class=\"sk-estimator sk-toggleable\"><input class=\"sk-toggleable__control sk-hidden--visually\" id=\"sk-estimator-id-74\" type=\"checkbox\" ><label for=\"sk-estimator-id-74\" class=\"sk-toggleable__label sk-toggleable__label-arrow\">Alternative</label><div class=\"sk-toggleable__content\"><pre>&lt;__main__.Alternative object at 0x0000024392CE94E0&gt;</pre></div></div></div><div class=\"sk-item\"><div class=\"sk-estimator sk-toggleable\"><input class=\"sk-toggleable__control sk-hidden--visually\" id=\"sk-estimator-id-75\" type=\"checkbox\" ><label for=\"sk-estimator-id-75\" class=\"sk-toggleable__label sk-toggleable__label-arrow\">Alternative</label><div class=\"sk-toggleable__content\"><pre>&lt;__main__.Alternative object at 0x0000024394AFFD90&gt;</pre></div></div></div><div class=\"sk-item\"><div class=\"sk-estimator sk-toggleable\"><input class=\"sk-toggleable__control sk-hidden--visually\" id=\"sk-estimator-id-76\" type=\"checkbox\" ><label for=\"sk-estimator-id-76\" class=\"sk-toggleable__label sk-toggleable__label-arrow\">Alternative</label><div class=\"sk-toggleable__content\"><pre>&lt;__main__.Alternative object at 0x0000024394AFE9B0&gt;</pre></div></div></div><div class=\"sk-item\"><div class=\"sk-estimator sk-toggleable\"><input class=\"sk-toggleable__control sk-hidden--visually\" id=\"sk-estimator-id-77\" type=\"checkbox\" ><label for=\"sk-estimator-id-77\" class=\"sk-toggleable__label sk-toggleable__label-arrow\">LinearRegression</label><div class=\"sk-toggleable__content\"><pre>LinearRegression()</pre></div></div></div></div></div></div></div></div></div></div></div></div>"
     },
     "execution_count": 1021,
     "metadata": {},
     "output_type": "execute_result"
    }
   ],
   "source": [
    "grid_search_cv = GridSearchCV(\n",
    "    estimator=pipeline,\n",
    "    param_grid=grid_params,\n",
    "    scoring='neg_mean_absolute_error',\n",
    "    n_jobs=-1,\n",
    ")\n",
    "\n",
    "grid_search_cv.fit(x_2b_train, y_2b_train.Salaries)"
   ],
   "metadata": {
    "collapsed": false
   }
  },
  {
   "cell_type": "markdown",
   "source": [
    "### 2B testing"
   ],
   "metadata": {
    "collapsed": false
   }
  },
  {
   "cell_type": "code",
   "execution_count": 1021,
   "outputs": [],
   "source": [],
   "metadata": {
    "collapsed": false
   }
  },
  {
   "cell_type": "code",
   "execution_count": 1022,
   "outputs": [
    {
     "name": "stdout",
     "output_type": "stream",
     "text": [
      "3470919.0729861655\n",
      "0.7534994798290079\n"
     ]
    }
   ],
   "source": [
    "y_2b_predict = grid_search_cv.predict(x2b_test)\n",
    "mse = metrics.mean_squared_error(y_2b_test, y_2b_predict)\n",
    "print(mse**0.5)\n",
    "print(mse**0.5 / y_2b_test.Salaries.mean())"
   ],
   "metadata": {
    "collapsed": false
   }
  },
  {
   "cell_type": "code",
   "execution_count": 1023,
   "outputs": [
    {
     "data": {
      "text/plain": "1037    1.109691e+06\n642     1.544031e+06\n3781    7.296422e+05\n2266    5.342460e+05\n5350    8.691010e+05\n            ...     \n2544    5.928685e+06\n7923    2.188178e+06\n2797    5.065138e+05\n4144    4.178821e+06\n7662    2.317879e+06\nName: Salaries, Length: 1270, dtype: float64"
     },
     "execution_count": 1023,
     "metadata": {},
     "output_type": "execute_result"
    }
   ],
   "source": [
    "abs(y_2b_test.Salaries - y_2b_predict)"
   ],
   "metadata": {
    "collapsed": false
   }
  },
  {
   "cell_type": "code",
   "execution_count": 1023,
   "outputs": [],
   "source": [],
   "metadata": {
    "collapsed": false
   }
  },
  {
   "cell_type": "code",
   "execution_count": 1024,
   "outputs": [],
   "source": [
    "grid_params_2 = cartesian_product_of_dict_lists(\n",
    "    label_encoder_params,\n",
    "    scaler_params_2,\n",
    "    imputer_params_2,\n",
    "    feature_selector_params_2,\n",
    ")"
   ],
   "metadata": {
    "collapsed": false
   }
  },
  {
   "cell_type": "code",
   "execution_count": 1025,
   "outputs": [],
   "source": [
    "pipeline2 = Pipeline(\n",
    "    steps=[\n",
    "        ('encoding', label_encoder),\n",
    "        ('scaler', None),\n",
    "        ('imputer', None),\n",
    "        ('feature_selector', None),\n",
    "        ('predictor', predictor),\n",
    "    ]\n",
    ")"
   ],
   "metadata": {
    "collapsed": false
   }
  },
  {
   "cell_type": "code",
   "execution_count": 1026,
   "outputs": [
    {
     "name": "stderr",
     "output_type": "stream",
     "text": [
      "H:\\01 Kuliah\\01 Dokumen\\52 - KASDD\\proyek-akhir\\venv\\lib\\site-packages\\sklearn\\model_selection\\_search.py:953: UserWarning: One or more of the test scores are non-finite: [nan nan nan nan nan nan nan nan nan nan nan nan nan nan nan nan nan nan\n",
      " nan nan nan nan nan nan nan nan nan nan nan nan nan nan nan nan nan nan\n",
      " nan nan nan nan nan nan nan nan nan nan nan nan nan nan nan nan nan nan]\n",
      "  warnings.warn(\n",
      "H:\\01 Kuliah\\01 Dokumen\\52 - KASDD\\proyek-akhir\\venv\\lib\\site-packages\\sklearn\\linear_model\\_coordinate_descent.py:648: ConvergenceWarning: Objective did not converge. You might want to increase the number of iterations, check the scale of the features or consider increasing regularisation. Duality gap: 3.139e+16, tolerance: 1.397e+13\n",
      "  model = cd_fast.enet_coordinate_descent(\n"
     ]
    },
    {
     "data": {
      "text/plain": "GridSearchCV(estimator=Pipeline(steps=[('encoding',\n                                        <__main__.MyLabelEncoder object at 0x0000024394AFD2A0>),\n                                       ('scaler', None), ('imputer', None),\n                                       ('feature_selector', None),\n                                       ('predictor', LinearRegression())]),\n             n_jobs=-1,\n             param_grid=[{'feature_selector': [SelectFromModel(estimator=Lasso(alpha=0.01))],\n                          'feature_selector__estimator__alpha': [0.01, 0.005,\n                                                                 0.001, 0.0005,\n                                                                 0.0001],\n                          'imputer': [SimpleImputer(), KNNImputer()],\n                          'scaler': [MinMaxScaler(), StandardScaler(),\n                                     RobustScaler()]},\n                         {'feature_selector': [SelectKBest()],\n                          'feature_selector__k': [6, 7, 8, 9],\n                          'imputer': [SimpleImputer(), KNNImputer()],\n                          'scaler': [MinMaxScaler(), StandardScaler(),\n                                     RobustScaler()]}],\n             scoring='neg_mean_absolute_error')",
      "text/html": "<style>#sk-container-id-16 {color: black;background-color: white;}#sk-container-id-16 pre{padding: 0;}#sk-container-id-16 div.sk-toggleable {background-color: white;}#sk-container-id-16 label.sk-toggleable__label {cursor: pointer;display: block;width: 100%;margin-bottom: 0;padding: 0.3em;box-sizing: border-box;text-align: center;}#sk-container-id-16 label.sk-toggleable__label-arrow:before {content: \"▸\";float: left;margin-right: 0.25em;color: #696969;}#sk-container-id-16 label.sk-toggleable__label-arrow:hover:before {color: black;}#sk-container-id-16 div.sk-estimator:hover label.sk-toggleable__label-arrow:before {color: black;}#sk-container-id-16 div.sk-toggleable__content {max-height: 0;max-width: 0;overflow: hidden;text-align: left;background-color: #f0f8ff;}#sk-container-id-16 div.sk-toggleable__content pre {margin: 0.2em;color: black;border-radius: 0.25em;background-color: #f0f8ff;}#sk-container-id-16 input.sk-toggleable__control:checked~div.sk-toggleable__content {max-height: 200px;max-width: 100%;overflow: auto;}#sk-container-id-16 input.sk-toggleable__control:checked~label.sk-toggleable__label-arrow:before {content: \"▾\";}#sk-container-id-16 div.sk-estimator input.sk-toggleable__control:checked~label.sk-toggleable__label {background-color: #d4ebff;}#sk-container-id-16 div.sk-label input.sk-toggleable__control:checked~label.sk-toggleable__label {background-color: #d4ebff;}#sk-container-id-16 input.sk-hidden--visually {border: 0;clip: rect(1px 1px 1px 1px);clip: rect(1px, 1px, 1px, 1px);height: 1px;margin: -1px;overflow: hidden;padding: 0;position: absolute;width: 1px;}#sk-container-id-16 div.sk-estimator {font-family: monospace;background-color: #f0f8ff;border: 1px dotted black;border-radius: 0.25em;box-sizing: border-box;margin-bottom: 0.5em;}#sk-container-id-16 div.sk-estimator:hover {background-color: #d4ebff;}#sk-container-id-16 div.sk-parallel-item::after {content: \"\";width: 100%;border-bottom: 1px solid gray;flex-grow: 1;}#sk-container-id-16 div.sk-label:hover label.sk-toggleable__label {background-color: #d4ebff;}#sk-container-id-16 div.sk-serial::before {content: \"\";position: absolute;border-left: 1px solid gray;box-sizing: border-box;top: 0;bottom: 0;left: 50%;z-index: 0;}#sk-container-id-16 div.sk-serial {display: flex;flex-direction: column;align-items: center;background-color: white;padding-right: 0.2em;padding-left: 0.2em;position: relative;}#sk-container-id-16 div.sk-item {position: relative;z-index: 1;}#sk-container-id-16 div.sk-parallel {display: flex;align-items: stretch;justify-content: center;background-color: white;position: relative;}#sk-container-id-16 div.sk-item::before, #sk-container-id-16 div.sk-parallel-item::before {content: \"\";position: absolute;border-left: 1px solid gray;box-sizing: border-box;top: 0;bottom: 0;left: 50%;z-index: -1;}#sk-container-id-16 div.sk-parallel-item {display: flex;flex-direction: column;z-index: 1;position: relative;background-color: white;}#sk-container-id-16 div.sk-parallel-item:first-child::after {align-self: flex-end;width: 50%;}#sk-container-id-16 div.sk-parallel-item:last-child::after {align-self: flex-start;width: 50%;}#sk-container-id-16 div.sk-parallel-item:only-child::after {width: 0;}#sk-container-id-16 div.sk-dashed-wrapped {border: 1px dashed gray;margin: 0 0.4em 0.5em 0.4em;box-sizing: border-box;padding-bottom: 0.4em;background-color: white;}#sk-container-id-16 div.sk-label label {font-family: monospace;font-weight: bold;display: inline-block;line-height: 1.2em;}#sk-container-id-16 div.sk-label-container {text-align: center;}#sk-container-id-16 div.sk-container {/* jupyter's `normalize.less` sets `[hidden] { display: none; }` but bootstrap.min.css set `[hidden] { display: none !important; }` so we also need the `!important` here to be able to override the default hidden behavior on the sphinx rendered scikit-learn.org. See: https://github.com/scikit-learn/scikit-learn/issues/21755 */display: inline-block !important;position: relative;}#sk-container-id-16 div.sk-text-repr-fallback {display: none;}</style><div id=\"sk-container-id-16\" class=\"sk-top-container\"><div class=\"sk-text-repr-fallback\"><pre>GridSearchCV(estimator=Pipeline(steps=[(&#x27;encoding&#x27;,\n                                        &lt;__main__.MyLabelEncoder object at 0x0000024394AFD2A0&gt;),\n                                       (&#x27;scaler&#x27;, None), (&#x27;imputer&#x27;, None),\n                                       (&#x27;feature_selector&#x27;, None),\n                                       (&#x27;predictor&#x27;, LinearRegression())]),\n             n_jobs=-1,\n             param_grid=[{&#x27;feature_selector&#x27;: [SelectFromModel(estimator=Lasso(alpha=0.01))],\n                          &#x27;feature_selector__estimator__alpha&#x27;: [0.01, 0.005,\n                                                                 0.001, 0.0005,\n                                                                 0.0001],\n                          &#x27;imputer&#x27;: [SimpleImputer(), KNNImputer()],\n                          &#x27;scaler&#x27;: [MinMaxScaler(), StandardScaler(),\n                                     RobustScaler()]},\n                         {&#x27;feature_selector&#x27;: [SelectKBest()],\n                          &#x27;feature_selector__k&#x27;: [6, 7, 8, 9],\n                          &#x27;imputer&#x27;: [SimpleImputer(), KNNImputer()],\n                          &#x27;scaler&#x27;: [MinMaxScaler(), StandardScaler(),\n                                     RobustScaler()]}],\n             scoring=&#x27;neg_mean_absolute_error&#x27;)</pre><b>In a Jupyter environment, please rerun this cell to show the HTML representation or trust the notebook. <br />On GitHub, the HTML representation is unable to render, please try loading this page with nbviewer.org.</b></div><div class=\"sk-container\" hidden><div class=\"sk-item sk-dashed-wrapped\"><div class=\"sk-label-container\"><div class=\"sk-label sk-toggleable\"><input class=\"sk-toggleable__control sk-hidden--visually\" id=\"sk-estimator-id-78\" type=\"checkbox\" ><label for=\"sk-estimator-id-78\" class=\"sk-toggleable__label sk-toggleable__label-arrow\">GridSearchCV</label><div class=\"sk-toggleable__content\"><pre>GridSearchCV(estimator=Pipeline(steps=[(&#x27;encoding&#x27;,\n                                        &lt;__main__.MyLabelEncoder object at 0x0000024394AFD2A0&gt;),\n                                       (&#x27;scaler&#x27;, None), (&#x27;imputer&#x27;, None),\n                                       (&#x27;feature_selector&#x27;, None),\n                                       (&#x27;predictor&#x27;, LinearRegression())]),\n             n_jobs=-1,\n             param_grid=[{&#x27;feature_selector&#x27;: [SelectFromModel(estimator=Lasso(alpha=0.01))],\n                          &#x27;feature_selector__estimator__alpha&#x27;: [0.01, 0.005,\n                                                                 0.001, 0.0005,\n                                                                 0.0001],\n                          &#x27;imputer&#x27;: [SimpleImputer(), KNNImputer()],\n                          &#x27;scaler&#x27;: [MinMaxScaler(), StandardScaler(),\n                                     RobustScaler()]},\n                         {&#x27;feature_selector&#x27;: [SelectKBest()],\n                          &#x27;feature_selector__k&#x27;: [6, 7, 8, 9],\n                          &#x27;imputer&#x27;: [SimpleImputer(), KNNImputer()],\n                          &#x27;scaler&#x27;: [MinMaxScaler(), StandardScaler(),\n                                     RobustScaler()]}],\n             scoring=&#x27;neg_mean_absolute_error&#x27;)</pre></div></div></div><div class=\"sk-parallel\"><div class=\"sk-parallel-item\"><div class=\"sk-item\"><div class=\"sk-label-container\"><div class=\"sk-label sk-toggleable\"><input class=\"sk-toggleable__control sk-hidden--visually\" id=\"sk-estimator-id-79\" type=\"checkbox\" ><label for=\"sk-estimator-id-79\" class=\"sk-toggleable__label sk-toggleable__label-arrow\">estimator: Pipeline</label><div class=\"sk-toggleable__content\"><pre>Pipeline(steps=[(&#x27;encoding&#x27;,\n                 &lt;__main__.MyLabelEncoder object at 0x0000024394AFD2A0&gt;),\n                (&#x27;scaler&#x27;, None), (&#x27;imputer&#x27;, None), (&#x27;feature_selector&#x27;, None),\n                (&#x27;predictor&#x27;, LinearRegression())])</pre></div></div></div><div class=\"sk-serial\"><div class=\"sk-item\"><div class=\"sk-serial\"><div class=\"sk-item\"><div class=\"sk-estimator sk-toggleable\"><input class=\"sk-toggleable__control sk-hidden--visually\" id=\"sk-estimator-id-80\" type=\"checkbox\" ><label for=\"sk-estimator-id-80\" class=\"sk-toggleable__label sk-toggleable__label-arrow\">MyLabelEncoder</label><div class=\"sk-toggleable__content\"><pre>&lt;__main__.MyLabelEncoder object at 0x0000024394AFD2A0&gt;</pre></div></div></div><div class=\"sk-item\"><div class=\"sk-estimator sk-toggleable\"><input class=\"sk-toggleable__control sk-hidden--visually\" id=\"sk-estimator-id-81\" type=\"checkbox\" ><label for=\"sk-estimator-id-81\" class=\"sk-toggleable__label sk-toggleable__label-arrow\">None</label><div class=\"sk-toggleable__content\"><pre>None</pre></div></div></div><div class=\"sk-item\"><div class=\"sk-estimator sk-toggleable\"><input class=\"sk-toggleable__control sk-hidden--visually\" id=\"sk-estimator-id-82\" type=\"checkbox\" ><label for=\"sk-estimator-id-82\" class=\"sk-toggleable__label sk-toggleable__label-arrow\">None</label><div class=\"sk-toggleable__content\"><pre>None</pre></div></div></div><div class=\"sk-item\"><div class=\"sk-estimator sk-toggleable\"><input class=\"sk-toggleable__control sk-hidden--visually\" id=\"sk-estimator-id-83\" type=\"checkbox\" ><label for=\"sk-estimator-id-83\" class=\"sk-toggleable__label sk-toggleable__label-arrow\">None</label><div class=\"sk-toggleable__content\"><pre>None</pre></div></div></div><div class=\"sk-item\"><div class=\"sk-estimator sk-toggleable\"><input class=\"sk-toggleable__control sk-hidden--visually\" id=\"sk-estimator-id-84\" type=\"checkbox\" ><label for=\"sk-estimator-id-84\" class=\"sk-toggleable__label sk-toggleable__label-arrow\">LinearRegression</label><div class=\"sk-toggleable__content\"><pre>LinearRegression()</pre></div></div></div></div></div></div></div></div></div></div></div></div>"
     },
     "execution_count": 1026,
     "metadata": {},
     "output_type": "execute_result"
    }
   ],
   "source": [
    "grid_search_cv2 = GridSearchCV(\n",
    "    estimator=pipeline2,\n",
    "    param_grid=grid_params_2,\n",
    "    scoring='neg_mean_absolute_error',\n",
    "    n_jobs=-1,\n",
    ")\n",
    "\n",
    "grid_search_cv2.fit(x_2b_train, y_2b_train.Salaries)"
   ],
   "metadata": {
    "collapsed": false
   }
  },
  {
   "cell_type": "code",
   "execution_count": 1027,
   "outputs": [
    {
     "name": "stdout",
     "output_type": "stream",
     "text": [
      "3470919.0729861655\n",
      "0.7534994798290079\n"
     ]
    }
   ],
   "source": [
    "y_2b_predict2 = grid_search_cv2.predict(x2b_test)\n",
    "mse2 = metrics.mean_squared_error(y_2b_test, y_2b_predict2)\n",
    "print(mse2**0.5)\n",
    "print(mse2**0.5 / y_2b_test.Salaries.mean())"
   ],
   "metadata": {
    "collapsed": false
   }
  },
  {
   "cell_type": "code",
   "execution_count": null,
   "outputs": [],
   "source": [],
   "metadata": {
    "collapsed": false
   }
  }
 ],
 "metadata": {
  "kernelspec": {
   "display_name": "Python 3",
   "language": "python",
   "name": "python3"
  },
  "language_info": {
   "codemirror_mode": {
    "name": "ipython",
    "version": 2
   },
   "file_extension": ".py",
   "mimetype": "text/x-python",
   "name": "python",
   "nbconvert_exporter": "python",
   "pygments_lexer": "ipython2",
   "version": "2.7.6"
  }
 },
 "nbformat": 4,
 "nbformat_minor": 0
}
