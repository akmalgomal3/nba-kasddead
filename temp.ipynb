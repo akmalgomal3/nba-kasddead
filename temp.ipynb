{
 "cells": [
  {
   "cell_type": "code",
   "execution_count": 2,
   "metadata": {},
   "outputs": [],
   "source": [
    "import pandas as pd\n",
    "import numpy as np"
   ]
  },
  {
   "cell_type": "code",
   "execution_count": 7,
   "metadata": {},
   "outputs": [
    {
     "data": {
      "text/html": [
       "<div>\n",
       "<style scoped>\n",
       "    .dataframe tbody tr th:only-of-type {\n",
       "        vertical-align: middle;\n",
       "    }\n",
       "\n",
       "    .dataframe tbody tr th {\n",
       "        vertical-align: top;\n",
       "    }\n",
       "\n",
       "    .dataframe thead th {\n",
       "        text-align: right;\n",
       "    }\n",
       "</style>\n",
       "<table border=\"1\" class=\"dataframe\">\n",
       "  <thead>\n",
       "    <tr style=\"text-align: right;\">\n",
       "      <th></th>\n",
       "      <th>Name</th>\n",
       "      <th>Year</th>\n",
       "      <th>Salaries</th>\n",
       "      <th>Rank</th>\n",
       "    </tr>\n",
       "  </thead>\n",
       "  <tbody>\n",
       "    <tr>\n",
       "      <th>0</th>\n",
       "      <td>Shaquille O'Neal</td>\n",
       "      <td>2000</td>\n",
       "      <td>25370160.0</td>\n",
       "      <td>1</td>\n",
       "    </tr>\n",
       "    <tr>\n",
       "      <th>1</th>\n",
       "      <td>Kevin Garnett</td>\n",
       "      <td>2000</td>\n",
       "      <td>24872880.0</td>\n",
       "      <td>2</td>\n",
       "    </tr>\n",
       "    <tr>\n",
       "      <th>2</th>\n",
       "      <td>Alonzo Mourning</td>\n",
       "      <td>2000</td>\n",
       "      <td>22205920.0</td>\n",
       "      <td>3</td>\n",
       "    </tr>\n",
       "    <tr>\n",
       "      <th>3</th>\n",
       "      <td>Juwan Howard</td>\n",
       "      <td>2000</td>\n",
       "      <td>22200000.0</td>\n",
       "      <td>4</td>\n",
       "    </tr>\n",
       "    <tr>\n",
       "      <th>4</th>\n",
       "      <td>Scottie Pippen</td>\n",
       "      <td>2000</td>\n",
       "      <td>21896600.0</td>\n",
       "      <td>5</td>\n",
       "    </tr>\n",
       "  </tbody>\n",
       "</table>\n",
       "</div>"
      ],
      "text/plain": [
       "               Name  Year    Salaries  Rank\n",
       "0  Shaquille O'Neal  2000  25370160.0     1\n",
       "1     Kevin Garnett  2000  24872880.0     2\n",
       "2   Alonzo Mourning  2000  22205920.0     3\n",
       "3      Juwan Howard  2000  22200000.0     4\n",
       "4    Scottie Pippen  2000  21896600.0     5"
      ]
     },
     "metadata": {},
     "output_type": "display_data"
    }
   ],
   "source": [
    "salaries = pd.read_csv('datasets/salaries.csv')\n",
    "\n",
    "salaries.loc[salaries['Year'] == 2000, 'Salaries'] = salaries['Salaries'] * 1.48\n",
    "salaries.loc[salaries['Year'] == 2001, 'Salaries'] = salaries['Salaries'] * 1.44\n",
    "salaries.loc[salaries['Year'] == 2002, 'Salaries'] = salaries['Salaries'] * 1.42\n",
    "salaries.loc[salaries['Year'] == 2003, 'Salaries'] = salaries['Salaries'] * 1.39\n",
    "salaries.loc[salaries['Year'] == 2004, 'Salaries'] = salaries['Salaries'] * 1.35\n",
    "salaries.loc[salaries['Year'] == 2005, 'Salaries'] = salaries['Salaries'] * 1.31\n",
    "salaries.loc[salaries['Year'] == 2006, 'Salaries'] = salaries['Salaries'] * 1.27\n",
    "salaries.loc[salaries['Year'] == 2007, 'Salaries'] = salaries['Salaries'] * 1.23\n",
    "salaries.loc[salaries['Year'] == 2008, 'Salaries'] = salaries['Salaries'] * 1.19\n",
    "salaries.loc[salaries['Year'] == 2009, 'Salaries'] = salaries['Salaries'] * 1.19\n",
    "salaries.loc[salaries['Year'] == 2010, 'Salaries'] = salaries['Salaries'] * 1.17\n",
    "salaries.loc[salaries['Year'] == 2011, 'Salaries'] = salaries['Salaries'] * 1.14\n",
    "salaries.loc[salaries['Year'] == 2012, 'Salaries'] = salaries['Salaries'] * 1.11\n",
    "salaries.loc[salaries['Year'] == 2013, 'Salaries'] = salaries['Salaries'] * 1.10\n",
    "salaries.loc[salaries['Year'] == 2014, 'Salaries'] = salaries['Salaries'] * 1.08\n",
    "salaries.loc[salaries['Year'] == 2015, 'Salaries'] = salaries['Salaries'] * 1.08\n",
    "salaries.loc[salaries['Year'] == 2016, 'Salaries'] = salaries['Salaries'] * 1.07\n",
    "salaries.loc[salaries['Year'] == 2017, 'Salaries'] = salaries['Salaries'] * 1.04\n",
    "salaries.loc[salaries['Year'] == 2018, 'Salaries'] = salaries['Salaries'] * 1.02\n",
    "\n",
    "\n",
    "\n",
    "del salaries['Unnamed: 0']\n",
    "\n",
    "display(salaries.head())\n",
    "\n",
    "salaries.to_csv('final_salaries.csv', index=False)"
   ]
  }
 ],
 "metadata": {
  "kernelspec": {
   "display_name": "Python 3",
   "language": "python",
   "name": "python3"
  },
  "language_info": {
   "codemirror_mode": {
    "name": "ipython",
    "version": 3
   },
   "file_extension": ".py",
   "mimetype": "text/x-python",
   "name": "python",
   "nbconvert_exporter": "python",
   "pygments_lexer": "ipython3",
   "version": "3.9.0"
  },
  "orig_nbformat": 4,
  "vscode": {
   "interpreter": {
    "hash": "0f6f8eaaf29a543a9d0ad7e96c583a753ed2bda2f16aab0d783cd49117c2b0d5"
   }
  }
 },
 "nbformat": 4,
 "nbformat_minor": 2
}
