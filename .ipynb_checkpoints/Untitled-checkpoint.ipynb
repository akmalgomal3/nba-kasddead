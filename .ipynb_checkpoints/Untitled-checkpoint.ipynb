{
 "cells": [
  {
   "cell_type": "code",
   "execution_count": 153,
   "id": "10205fb6",
   "metadata": {},
   "outputs": [],
   "source": [
    "import numpy as np\n",
    "import pandas as pd"
   ]
  },
  {
   "cell_type": "code",
   "execution_count": 154,
   "id": "297f664d",
   "metadata": {},
   "outputs": [],
   "source": [
    "pw_avg_gamescore_df = pd.read_csv(\"datasets/player_with_avg_gamescore.csv\")\n",
    "final_salaries_df = pd.read_csv(\"datasets/final_salaries.csv\")"
   ]
  },
  {
   "cell_type": "code",
   "execution_count": 155,
   "id": "5f57d26a",
   "metadata": {
    "scrolled": true
   },
   "outputs": [
    {
     "data": {
      "text/html": [
       "<div>\n",
       "<style scoped>\n",
       "    .dataframe tbody tr th:only-of-type {\n",
       "        vertical-align: middle;\n",
       "    }\n",
       "\n",
       "    .dataframe tbody tr th {\n",
       "        vertical-align: top;\n",
       "    }\n",
       "\n",
       "    .dataframe thead th {\n",
       "        text-align: right;\n",
       "    }\n",
       "</style>\n",
       "<table border=\"1\" class=\"dataframe\">\n",
       "  <thead>\n",
       "    <tr style=\"text-align: right;\">\n",
       "      <th></th>\n",
       "      <th>Rk</th>\n",
       "      <th>Player</th>\n",
       "      <th>Pos</th>\n",
       "      <th>Age</th>\n",
       "      <th>Tm</th>\n",
       "      <th>G</th>\n",
       "      <th>GS</th>\n",
       "      <th>MP</th>\n",
       "      <th>FG</th>\n",
       "      <th>FGA</th>\n",
       "      <th>...</th>\n",
       "      <th>STL</th>\n",
       "      <th>BLK</th>\n",
       "      <th>TOV</th>\n",
       "      <th>PF</th>\n",
       "      <th>PTS</th>\n",
       "      <th>Year</th>\n",
       "      <th>Avg GameScore</th>\n",
       "      <th>Name</th>\n",
       "      <th>Salaries</th>\n",
       "      <th>Rank</th>\n",
       "    </tr>\n",
       "  </thead>\n",
       "  <tbody>\n",
       "    <tr>\n",
       "      <th>0</th>\n",
       "      <td>1</td>\n",
       "      <td>Tariq Abdul-Wahad</td>\n",
       "      <td>SG</td>\n",
       "      <td>25</td>\n",
       "      <td>TOT</td>\n",
       "      <td>61</td>\n",
       "      <td>56</td>\n",
       "      <td>25.9</td>\n",
       "      <td>4.5</td>\n",
       "      <td>10.6</td>\n",
       "      <td>...</td>\n",
       "      <td>1.0</td>\n",
       "      <td>0.5</td>\n",
       "      <td>1.7</td>\n",
       "      <td>2.4</td>\n",
       "      <td>11.4</td>\n",
       "      <td>2000</td>\n",
       "      <td>7.39</td>\n",
       "      <td>Tariq Abdul-Wahad</td>\n",
       "      <td>3700000.0</td>\n",
       "      <td>195</td>\n",
       "    </tr>\n",
       "    <tr>\n",
       "      <th>1</th>\n",
       "      <td>1</td>\n",
       "      <td>Tariq Abdul-Wahad</td>\n",
       "      <td>SG</td>\n",
       "      <td>25</td>\n",
       "      <td>ORL</td>\n",
       "      <td>46</td>\n",
       "      <td>46</td>\n",
       "      <td>26.2</td>\n",
       "      <td>4.8</td>\n",
       "      <td>11.2</td>\n",
       "      <td>...</td>\n",
       "      <td>1.2</td>\n",
       "      <td>0.3</td>\n",
       "      <td>1.9</td>\n",
       "      <td>2.5</td>\n",
       "      <td>12.2</td>\n",
       "      <td>2000</td>\n",
       "      <td>7.83</td>\n",
       "      <td>Tariq Abdul-Wahad</td>\n",
       "      <td>3700000.0</td>\n",
       "      <td>195</td>\n",
       "    </tr>\n",
       "    <tr>\n",
       "      <th>2</th>\n",
       "      <td>1</td>\n",
       "      <td>Tariq Abdul-Wahad</td>\n",
       "      <td>SG</td>\n",
       "      <td>25</td>\n",
       "      <td>DEN</td>\n",
       "      <td>15</td>\n",
       "      <td>10</td>\n",
       "      <td>24.9</td>\n",
       "      <td>3.4</td>\n",
       "      <td>8.7</td>\n",
       "      <td>...</td>\n",
       "      <td>0.4</td>\n",
       "      <td>0.8</td>\n",
       "      <td>1.3</td>\n",
       "      <td>2.1</td>\n",
       "      <td>8.9</td>\n",
       "      <td>2000</td>\n",
       "      <td>5.59</td>\n",
       "      <td>Tariq Abdul-Wahad</td>\n",
       "      <td>3700000.0</td>\n",
       "      <td>195</td>\n",
       "    </tr>\n",
       "    <tr>\n",
       "      <th>3</th>\n",
       "      <td>2</td>\n",
       "      <td>Shareef Abdur-Rahim</td>\n",
       "      <td>SF</td>\n",
       "      <td>23</td>\n",
       "      <td>VAN</td>\n",
       "      <td>82</td>\n",
       "      <td>82</td>\n",
       "      <td>39.3</td>\n",
       "      <td>7.2</td>\n",
       "      <td>15.6</td>\n",
       "      <td>...</td>\n",
       "      <td>1.1</td>\n",
       "      <td>1.1</td>\n",
       "      <td>3.0</td>\n",
       "      <td>3.0</td>\n",
       "      <td>20.3</td>\n",
       "      <td>2000</td>\n",
       "      <td>15.83</td>\n",
       "      <td>Shareef Abdur-Rahim</td>\n",
       "      <td>3700000.0</td>\n",
       "      <td>157</td>\n",
       "    </tr>\n",
       "    <tr>\n",
       "      <th>4</th>\n",
       "      <td>3</td>\n",
       "      <td>Cory Alexander</td>\n",
       "      <td>PG</td>\n",
       "      <td>26</td>\n",
       "      <td>DEN</td>\n",
       "      <td>29</td>\n",
       "      <td>2</td>\n",
       "      <td>11.3</td>\n",
       "      <td>1.0</td>\n",
       "      <td>3.4</td>\n",
       "      <td>...</td>\n",
       "      <td>0.8</td>\n",
       "      <td>0.1</td>\n",
       "      <td>1.0</td>\n",
       "      <td>1.3</td>\n",
       "      <td>2.8</td>\n",
       "      <td>2000</td>\n",
       "      <td>2.06</td>\n",
       "      <td>Cory Alexander</td>\n",
       "      <td>3700000.0</td>\n",
       "      <td>283</td>\n",
       "    </tr>\n",
       "    <tr>\n",
       "      <th>...</th>\n",
       "      <td>...</td>\n",
       "      <td>...</td>\n",
       "      <td>...</td>\n",
       "      <td>...</td>\n",
       "      <td>...</td>\n",
       "      <td>...</td>\n",
       "      <td>...</td>\n",
       "      <td>...</td>\n",
       "      <td>...</td>\n",
       "      <td>...</td>\n",
       "      <td>...</td>\n",
       "      <td>...</td>\n",
       "      <td>...</td>\n",
       "      <td>...</td>\n",
       "      <td>...</td>\n",
       "      <td>...</td>\n",
       "      <td>...</td>\n",
       "      <td>...</td>\n",
       "      <td>...</td>\n",
       "      <td>...</td>\n",
       "      <td>...</td>\n",
       "    </tr>\n",
       "    <tr>\n",
       "      <th>10310</th>\n",
       "      <td>528</td>\n",
       "      <td>Tyler Zeller</td>\n",
       "      <td>C</td>\n",
       "      <td>29</td>\n",
       "      <td>ATL</td>\n",
       "      <td>2</td>\n",
       "      <td>0</td>\n",
       "      <td>5.5</td>\n",
       "      <td>0.0</td>\n",
       "      <td>1.0</td>\n",
       "      <td>...</td>\n",
       "      <td>0.0</td>\n",
       "      <td>0.0</td>\n",
       "      <td>0.0</td>\n",
       "      <td>2.0</td>\n",
       "      <td>0.0</td>\n",
       "      <td>2019</td>\n",
       "      <td>0.15</td>\n",
       "      <td>Tyler Zeller</td>\n",
       "      <td>1933941.0</td>\n",
       "      <td>339</td>\n",
       "    </tr>\n",
       "    <tr>\n",
       "      <th>10311</th>\n",
       "      <td>528</td>\n",
       "      <td>Tyler Zeller</td>\n",
       "      <td>C</td>\n",
       "      <td>29</td>\n",
       "      <td>MEM</td>\n",
       "      <td>4</td>\n",
       "      <td>1</td>\n",
       "      <td>20.5</td>\n",
       "      <td>4.0</td>\n",
       "      <td>7.0</td>\n",
       "      <td>...</td>\n",
       "      <td>0.3</td>\n",
       "      <td>0.8</td>\n",
       "      <td>1.0</td>\n",
       "      <td>4.0</td>\n",
       "      <td>11.5</td>\n",
       "      <td>2019</td>\n",
       "      <td>8.92</td>\n",
       "      <td>Tyler Zeller</td>\n",
       "      <td>1933941.0</td>\n",
       "      <td>339</td>\n",
       "    </tr>\n",
       "    <tr>\n",
       "      <th>10312</th>\n",
       "      <td>530</td>\n",
       "      <td>Ivica Zubac</td>\n",
       "      <td>C</td>\n",
       "      <td>21</td>\n",
       "      <td>TOT</td>\n",
       "      <td>59</td>\n",
       "      <td>37</td>\n",
       "      <td>17.6</td>\n",
       "      <td>3.6</td>\n",
       "      <td>6.4</td>\n",
       "      <td>...</td>\n",
       "      <td>0.2</td>\n",
       "      <td>0.9</td>\n",
       "      <td>1.2</td>\n",
       "      <td>2.3</td>\n",
       "      <td>8.9</td>\n",
       "      <td>2019</td>\n",
       "      <td>7.77</td>\n",
       "      <td>Ivica Zubac</td>\n",
       "      <td>1544951.0</td>\n",
       "      <td>389</td>\n",
       "    </tr>\n",
       "    <tr>\n",
       "      <th>10313</th>\n",
       "      <td>530</td>\n",
       "      <td>Ivica Zubac</td>\n",
       "      <td>C</td>\n",
       "      <td>21</td>\n",
       "      <td>LAL</td>\n",
       "      <td>33</td>\n",
       "      <td>12</td>\n",
       "      <td>15.6</td>\n",
       "      <td>3.4</td>\n",
       "      <td>5.8</td>\n",
       "      <td>...</td>\n",
       "      <td>0.1</td>\n",
       "      <td>0.8</td>\n",
       "      <td>1.0</td>\n",
       "      <td>2.2</td>\n",
       "      <td>8.5</td>\n",
       "      <td>2019</td>\n",
       "      <td>7.13</td>\n",
       "      <td>Ivica Zubac</td>\n",
       "      <td>1544951.0</td>\n",
       "      <td>389</td>\n",
       "    </tr>\n",
       "    <tr>\n",
       "      <th>10314</th>\n",
       "      <td>530</td>\n",
       "      <td>Ivica Zubac</td>\n",
       "      <td>C</td>\n",
       "      <td>21</td>\n",
       "      <td>LAC</td>\n",
       "      <td>26</td>\n",
       "      <td>25</td>\n",
       "      <td>20.2</td>\n",
       "      <td>3.8</td>\n",
       "      <td>7.2</td>\n",
       "      <td>...</td>\n",
       "      <td>0.4</td>\n",
       "      <td>0.9</td>\n",
       "      <td>1.4</td>\n",
       "      <td>2.5</td>\n",
       "      <td>9.4</td>\n",
       "      <td>2019</td>\n",
       "      <td>8.52</td>\n",
       "      <td>Ivica Zubac</td>\n",
       "      <td>1544951.0</td>\n",
       "      <td>389</td>\n",
       "    </tr>\n",
       "  </tbody>\n",
       "</table>\n",
       "<p>10315 rows × 35 columns</p>\n",
       "</div>"
      ],
      "text/plain": [
       "        Rk               Player Pos  Age   Tm   G  GS    MP   FG   FGA  ...  \\\n",
       "0        1    Tariq Abdul-Wahad  SG   25  TOT  61  56  25.9  4.5  10.6  ...   \n",
       "1        1    Tariq Abdul-Wahad  SG   25  ORL  46  46  26.2  4.8  11.2  ...   \n",
       "2        1    Tariq Abdul-Wahad  SG   25  DEN  15  10  24.9  3.4   8.7  ...   \n",
       "3        2  Shareef Abdur-Rahim  SF   23  VAN  82  82  39.3  7.2  15.6  ...   \n",
       "4        3       Cory Alexander  PG   26  DEN  29   2  11.3  1.0   3.4  ...   \n",
       "...    ...                  ...  ..  ...  ...  ..  ..   ...  ...   ...  ...   \n",
       "10310  528         Tyler Zeller   C   29  ATL   2   0   5.5  0.0   1.0  ...   \n",
       "10311  528         Tyler Zeller   C   29  MEM   4   1  20.5  4.0   7.0  ...   \n",
       "10312  530          Ivica Zubac   C   21  TOT  59  37  17.6  3.6   6.4  ...   \n",
       "10313  530          Ivica Zubac   C   21  LAL  33  12  15.6  3.4   5.8  ...   \n",
       "10314  530          Ivica Zubac   C   21  LAC  26  25  20.2  3.8   7.2  ...   \n",
       "\n",
       "       STL  BLK  TOV   PF   PTS  Year  Avg GameScore                 Name  \\\n",
       "0      1.0  0.5  1.7  2.4  11.4  2000           7.39    Tariq Abdul-Wahad   \n",
       "1      1.2  0.3  1.9  2.5  12.2  2000           7.83    Tariq Abdul-Wahad   \n",
       "2      0.4  0.8  1.3  2.1   8.9  2000           5.59    Tariq Abdul-Wahad   \n",
       "3      1.1  1.1  3.0  3.0  20.3  2000          15.83  Shareef Abdur-Rahim   \n",
       "4      0.8  0.1  1.0  1.3   2.8  2000           2.06       Cory Alexander   \n",
       "...    ...  ...  ...  ...   ...   ...            ...                  ...   \n",
       "10310  0.0  0.0  0.0  2.0   0.0  2019           0.15         Tyler Zeller   \n",
       "10311  0.3  0.8  1.0  4.0  11.5  2019           8.92         Tyler Zeller   \n",
       "10312  0.2  0.9  1.2  2.3   8.9  2019           7.77          Ivica Zubac   \n",
       "10313  0.1  0.8  1.0  2.2   8.5  2019           7.13          Ivica Zubac   \n",
       "10314  0.4  0.9  1.4  2.5   9.4  2019           8.52          Ivica Zubac   \n",
       "\n",
       "        Salaries  Rank  \n",
       "0      3700000.0   195  \n",
       "1      3700000.0   195  \n",
       "2      3700000.0   195  \n",
       "3      3700000.0   157  \n",
       "4      3700000.0   283  \n",
       "...          ...   ...  \n",
       "10310  1933941.0   339  \n",
       "10311  1933941.0   339  \n",
       "10312  1544951.0   389  \n",
       "10313  1544951.0   389  \n",
       "10314  1544951.0   389  \n",
       "\n",
       "[10315 rows x 35 columns]"
      ]
     },
     "execution_count": 155,
     "metadata": {},
     "output_type": "execute_result"
    }
   ],
   "source": [
    "# ambil player dari tahun 2000-2019\n",
    "pw_avg_gamescore_df = pw_avg_gamescore_df.loc[(pw_avg_gamescore_df['Year'] >= 2000) & (pw_avg_gamescore_df['Year'] <= 2019)]\n",
    "\n",
    "# merge player_with_avg_gamescore dan final_salaries\n",
    "combined_data_df = pw_avg_gamescore_df.merge(final_salaries_df, left_on=[\"Player\", \"Year\"], \n",
    "                                             right_on=[\"Name\", \"Year\"])\n",
    "combined_data_df"
   ]
  },
  {
   "cell_type": "markdown",
   "id": "a0bd626e",
   "metadata": {
    "id": "gcKs2hrCR1CL"
   },
   "source": [
    "## Normalisasi (MinMaxScaler)"
   ]
  },
  {
   "cell_type": "code",
   "execution_count": 156,
   "id": "e93ecdcd",
   "metadata": {},
   "outputs": [],
   "source": [
    "from sklearn.preprocessing import MinMaxScaler\n",
    "import seaborn as sns"
   ]
  },
  {
   "cell_type": "code",
   "execution_count": 157,
   "id": "a494b303",
   "metadata": {},
   "outputs": [
    {
     "data": {
      "text/html": [
       "<div>\n",
       "<style scoped>\n",
       "    .dataframe tbody tr th:only-of-type {\n",
       "        vertical-align: middle;\n",
       "    }\n",
       "\n",
       "    .dataframe tbody tr th {\n",
       "        vertical-align: top;\n",
       "    }\n",
       "\n",
       "    .dataframe thead th {\n",
       "        text-align: right;\n",
       "    }\n",
       "</style>\n",
       "<table border=\"1\" class=\"dataframe\">\n",
       "  <thead>\n",
       "    <tr style=\"text-align: right;\">\n",
       "      <th></th>\n",
       "      <th>Rk</th>\n",
       "      <th>G</th>\n",
       "      <th>GS</th>\n",
       "      <th>MP</th>\n",
       "      <th>FG</th>\n",
       "      <th>FGA</th>\n",
       "      <th>FG%</th>\n",
       "      <th>3P</th>\n",
       "      <th>3PA</th>\n",
       "      <th>3P%</th>\n",
       "      <th>...</th>\n",
       "      <th>TOV</th>\n",
       "      <th>PF</th>\n",
       "      <th>PTS</th>\n",
       "      <th>Avg GameScore</th>\n",
       "      <th>Salaries</th>\n",
       "      <th>Rank</th>\n",
       "      <th>Pos</th>\n",
       "      <th>Tm</th>\n",
       "      <th>Age</th>\n",
       "      <th>Year</th>\n",
       "    </tr>\n",
       "  </thead>\n",
       "  <tbody>\n",
       "    <tr>\n",
       "      <th>0</th>\n",
       "      <td>0.000000</td>\n",
       "      <td>0.714286</td>\n",
       "      <td>0.674699</td>\n",
       "      <td>0.592677</td>\n",
       "      <td>0.368852</td>\n",
       "      <td>0.381295</td>\n",
       "      <td>0.494749</td>\n",
       "      <td>0.000000</td>\n",
       "      <td>0.030303</td>\n",
       "      <td>0.000167</td>\n",
       "      <td>...</td>\n",
       "      <td>0.298246</td>\n",
       "      <td>0.400000</td>\n",
       "      <td>0.315789</td>\n",
       "      <td>0.353794</td>\n",
       "      <td>0.097292</td>\n",
       "      <td>0.103743</td>\n",
       "      <td>SG</td>\n",
       "      <td>TOT</td>\n",
       "      <td>25</td>\n",
       "      <td>2000</td>\n",
       "    </tr>\n",
       "    <tr>\n",
       "      <th>1</th>\n",
       "      <td>0.000000</td>\n",
       "      <td>0.535714</td>\n",
       "      <td>0.554217</td>\n",
       "      <td>0.599542</td>\n",
       "      <td>0.393443</td>\n",
       "      <td>0.402878</td>\n",
       "      <td>0.505251</td>\n",
       "      <td>0.000000</td>\n",
       "      <td>0.037879</td>\n",
       "      <td>0.122108</td>\n",
       "      <td>...</td>\n",
       "      <td>0.333333</td>\n",
       "      <td>0.416667</td>\n",
       "      <td>0.337950</td>\n",
       "      <td>0.368634</td>\n",
       "      <td>0.097292</td>\n",
       "      <td>0.103743</td>\n",
       "      <td>SG</td>\n",
       "      <td>ORL</td>\n",
       "      <td>25</td>\n",
       "      <td>2000</td>\n",
       "    </tr>\n",
       "    <tr>\n",
       "      <th>2</th>\n",
       "      <td>0.000000</td>\n",
       "      <td>0.166667</td>\n",
       "      <td>0.120482</td>\n",
       "      <td>0.569794</td>\n",
       "      <td>0.278689</td>\n",
       "      <td>0.312950</td>\n",
       "      <td>0.453909</td>\n",
       "      <td>0.019608</td>\n",
       "      <td>0.007576</td>\n",
       "      <td>0.000643</td>\n",
       "      <td>...</td>\n",
       "      <td>0.228070</td>\n",
       "      <td>0.350000</td>\n",
       "      <td>0.246537</td>\n",
       "      <td>0.293086</td>\n",
       "      <td>0.097292</td>\n",
       "      <td>0.103743</td>\n",
       "      <td>SG</td>\n",
       "      <td>DEN</td>\n",
       "      <td>25</td>\n",
       "      <td>2000</td>\n",
       "    </tr>\n",
       "    <tr>\n",
       "      <th>3</th>\n",
       "      <td>0.001855</td>\n",
       "      <td>0.964286</td>\n",
       "      <td>0.987952</td>\n",
       "      <td>0.899314</td>\n",
       "      <td>0.590164</td>\n",
       "      <td>0.561151</td>\n",
       "      <td>0.542590</td>\n",
       "      <td>0.078431</td>\n",
       "      <td>0.090909</td>\n",
       "      <td>0.388175</td>\n",
       "      <td>...</td>\n",
       "      <td>0.526316</td>\n",
       "      <td>0.500000</td>\n",
       "      <td>0.562327</td>\n",
       "      <td>0.638449</td>\n",
       "      <td>0.097292</td>\n",
       "      <td>0.083422</td>\n",
       "      <td>SF</td>\n",
       "      <td>VAN</td>\n",
       "      <td>23</td>\n",
       "      <td>2000</td>\n",
       "    </tr>\n",
       "    <tr>\n",
       "      <th>4</th>\n",
       "      <td>0.003711</td>\n",
       "      <td>0.333333</td>\n",
       "      <td>0.024096</td>\n",
       "      <td>0.258581</td>\n",
       "      <td>0.081967</td>\n",
       "      <td>0.122302</td>\n",
       "      <td>0.333722</td>\n",
       "      <td>0.058824</td>\n",
       "      <td>0.090909</td>\n",
       "      <td>0.330334</td>\n",
       "      <td>...</td>\n",
       "      <td>0.175439</td>\n",
       "      <td>0.216667</td>\n",
       "      <td>0.077562</td>\n",
       "      <td>0.174030</td>\n",
       "      <td>0.097292</td>\n",
       "      <td>0.150802</td>\n",
       "      <td>PG</td>\n",
       "      <td>DEN</td>\n",
       "      <td>26</td>\n",
       "      <td>2000</td>\n",
       "    </tr>\n",
       "    <tr>\n",
       "      <th>...</th>\n",
       "      <td>...</td>\n",
       "      <td>...</td>\n",
       "      <td>...</td>\n",
       "      <td>...</td>\n",
       "      <td>...</td>\n",
       "      <td>...</td>\n",
       "      <td>...</td>\n",
       "      <td>...</td>\n",
       "      <td>...</td>\n",
       "      <td>...</td>\n",
       "      <td>...</td>\n",
       "      <td>...</td>\n",
       "      <td>...</td>\n",
       "      <td>...</td>\n",
       "      <td>...</td>\n",
       "      <td>...</td>\n",
       "      <td>...</td>\n",
       "      <td>...</td>\n",
       "      <td>...</td>\n",
       "      <td>...</td>\n",
       "      <td>...</td>\n",
       "    </tr>\n",
       "    <tr>\n",
       "      <th>10310</th>\n",
       "      <td>0.977737</td>\n",
       "      <td>0.011905</td>\n",
       "      <td>0.000000</td>\n",
       "      <td>0.125858</td>\n",
       "      <td>0.000000</td>\n",
       "      <td>0.035971</td>\n",
       "      <td>0.000000</td>\n",
       "      <td>0.000000</td>\n",
       "      <td>0.037879</td>\n",
       "      <td>0.000000</td>\n",
       "      <td>...</td>\n",
       "      <td>0.000000</td>\n",
       "      <td>0.333333</td>\n",
       "      <td>0.000000</td>\n",
       "      <td>0.109612</td>\n",
       "      <td>0.050540</td>\n",
       "      <td>0.180749</td>\n",
       "      <td>C</td>\n",
       "      <td>ATL</td>\n",
       "      <td>29</td>\n",
       "      <td>2019</td>\n",
       "    </tr>\n",
       "    <tr>\n",
       "      <th>10311</th>\n",
       "      <td>0.977737</td>\n",
       "      <td>0.035714</td>\n",
       "      <td>0.012048</td>\n",
       "      <td>0.469108</td>\n",
       "      <td>0.327869</td>\n",
       "      <td>0.251799</td>\n",
       "      <td>0.666278</td>\n",
       "      <td>0.000000</td>\n",
       "      <td>0.000000</td>\n",
       "      <td>0.000000</td>\n",
       "      <td>...</td>\n",
       "      <td>0.175439</td>\n",
       "      <td>0.666667</td>\n",
       "      <td>0.318560</td>\n",
       "      <td>0.405396</td>\n",
       "      <td>0.050540</td>\n",
       "      <td>0.180749</td>\n",
       "      <td>C</td>\n",
       "      <td>MEM</td>\n",
       "      <td>29</td>\n",
       "      <td>2019</td>\n",
       "    </tr>\n",
       "    <tr>\n",
       "      <th>10312</th>\n",
       "      <td>0.981447</td>\n",
       "      <td>0.690476</td>\n",
       "      <td>0.445783</td>\n",
       "      <td>0.402746</td>\n",
       "      <td>0.295082</td>\n",
       "      <td>0.230216</td>\n",
       "      <td>0.652275</td>\n",
       "      <td>0.000000</td>\n",
       "      <td>0.000000</td>\n",
       "      <td>0.000000</td>\n",
       "      <td>...</td>\n",
       "      <td>0.210526</td>\n",
       "      <td>0.383333</td>\n",
       "      <td>0.246537</td>\n",
       "      <td>0.366610</td>\n",
       "      <td>0.040243</td>\n",
       "      <td>0.207487</td>\n",
       "      <td>C</td>\n",
       "      <td>TOT</td>\n",
       "      <td>21</td>\n",
       "      <td>2019</td>\n",
       "    </tr>\n",
       "    <tr>\n",
       "      <th>10313</th>\n",
       "      <td>0.981447</td>\n",
       "      <td>0.380952</td>\n",
       "      <td>0.144578</td>\n",
       "      <td>0.356979</td>\n",
       "      <td>0.278689</td>\n",
       "      <td>0.208633</td>\n",
       "      <td>0.000677</td>\n",
       "      <td>0.000000</td>\n",
       "      <td>0.000000</td>\n",
       "      <td>0.000000</td>\n",
       "      <td>...</td>\n",
       "      <td>0.175439</td>\n",
       "      <td>0.366667</td>\n",
       "      <td>0.235457</td>\n",
       "      <td>0.345025</td>\n",
       "      <td>0.040243</td>\n",
       "      <td>0.207487</td>\n",
       "      <td>C</td>\n",
       "      <td>LAL</td>\n",
       "      <td>21</td>\n",
       "      <td>2019</td>\n",
       "    </tr>\n",
       "    <tr>\n",
       "      <th>10314</th>\n",
       "      <td>0.981447</td>\n",
       "      <td>0.297619</td>\n",
       "      <td>0.301205</td>\n",
       "      <td>0.462243</td>\n",
       "      <td>0.311475</td>\n",
       "      <td>0.258993</td>\n",
       "      <td>0.627771</td>\n",
       "      <td>0.000000</td>\n",
       "      <td>0.000000</td>\n",
       "      <td>0.000000</td>\n",
       "      <td>...</td>\n",
       "      <td>0.245614</td>\n",
       "      <td>0.416667</td>\n",
       "      <td>0.260388</td>\n",
       "      <td>0.391906</td>\n",
       "      <td>0.040243</td>\n",
       "      <td>0.207487</td>\n",
       "      <td>C</td>\n",
       "      <td>LAC</td>\n",
       "      <td>21</td>\n",
       "      <td>2019</td>\n",
       "    </tr>\n",
       "  </tbody>\n",
       "</table>\n",
       "<p>10315 rows × 33 columns</p>\n",
       "</div>"
      ],
      "text/plain": [
       "             Rk         G        GS        MP        FG       FGA       FG%  \\\n",
       "0      0.000000  0.714286  0.674699  0.592677  0.368852  0.381295  0.494749   \n",
       "1      0.000000  0.535714  0.554217  0.599542  0.393443  0.402878  0.505251   \n",
       "2      0.000000  0.166667  0.120482  0.569794  0.278689  0.312950  0.453909   \n",
       "3      0.001855  0.964286  0.987952  0.899314  0.590164  0.561151  0.542590   \n",
       "4      0.003711  0.333333  0.024096  0.258581  0.081967  0.122302  0.333722   \n",
       "...         ...       ...       ...       ...       ...       ...       ...   \n",
       "10310  0.977737  0.011905  0.000000  0.125858  0.000000  0.035971  0.000000   \n",
       "10311  0.977737  0.035714  0.012048  0.469108  0.327869  0.251799  0.666278   \n",
       "10312  0.981447  0.690476  0.445783  0.402746  0.295082  0.230216  0.652275   \n",
       "10313  0.981447  0.380952  0.144578  0.356979  0.278689  0.208633  0.000677   \n",
       "10314  0.981447  0.297619  0.301205  0.462243  0.311475  0.258993  0.627771   \n",
       "\n",
       "             3P       3PA       3P%  ...       TOV        PF       PTS  \\\n",
       "0      0.000000  0.030303  0.000167  ...  0.298246  0.400000  0.315789   \n",
       "1      0.000000  0.037879  0.122108  ...  0.333333  0.416667  0.337950   \n",
       "2      0.019608  0.007576  0.000643  ...  0.228070  0.350000  0.246537   \n",
       "3      0.078431  0.090909  0.388175  ...  0.526316  0.500000  0.562327   \n",
       "4      0.058824  0.090909  0.330334  ...  0.175439  0.216667  0.077562   \n",
       "...         ...       ...       ...  ...       ...       ...       ...   \n",
       "10310  0.000000  0.037879  0.000000  ...  0.000000  0.333333  0.000000   \n",
       "10311  0.000000  0.000000  0.000000  ...  0.175439  0.666667  0.318560   \n",
       "10312  0.000000  0.000000  0.000000  ...  0.210526  0.383333  0.246537   \n",
       "10313  0.000000  0.000000  0.000000  ...  0.175439  0.366667  0.235457   \n",
       "10314  0.000000  0.000000  0.000000  ...  0.245614  0.416667  0.260388   \n",
       "\n",
       "       Avg GameScore  Salaries      Rank  Pos   Tm  Age  Year  \n",
       "0           0.353794  0.097292  0.103743   SG  TOT   25  2000  \n",
       "1           0.368634  0.097292  0.103743   SG  ORL   25  2000  \n",
       "2           0.293086  0.097292  0.103743   SG  DEN   25  2000  \n",
       "3           0.638449  0.097292  0.083422   SF  VAN   23  2000  \n",
       "4           0.174030  0.097292  0.150802   PG  DEN   26  2000  \n",
       "...              ...       ...       ...  ...  ...  ...   ...  \n",
       "10310       0.109612  0.050540  0.180749    C  ATL   29  2019  \n",
       "10311       0.405396  0.050540  0.180749    C  MEM   29  2019  \n",
       "10312       0.366610  0.040243  0.207487    C  TOT   21  2019  \n",
       "10313       0.345025  0.040243  0.207487    C  LAL   21  2019  \n",
       "10314       0.391906  0.040243  0.207487    C  LAC   21  2019  \n",
       "\n",
       "[10315 rows x 33 columns]"
      ]
     },
     "execution_count": 157,
     "metadata": {},
     "output_type": "execute_result"
    }
   ],
   "source": [
    "df_copy = combined_data_df.drop(\"Player\", axis=1)\n",
    "df_copy = df_copy.drop(\"Name\", axis=1)\n",
    "df_copy = df_copy.drop(\"Tm\", axis=1)\n",
    "df_copy = df_copy.drop(\"Pos\", axis=1)\n",
    "df_copy = df_copy.drop(\"Age\", axis=1)\n",
    "df_copy = df_copy.drop(\"Year\", axis=1)\n",
    "\n",
    "scaler = MinMaxScaler()\n",
    "scaler_transform = scaler.fit_transform(df_copy)\n",
    "\n",
    "normalized_df = pd.DataFrame(scaler_transform, columns = df_copy.columns)\n",
    "normalized_df[\"Pos\"] = combined_data_df[\"Pos\"]\n",
    "normalized_df[\"Tm\"] = combined_data_df[\"Tm\"]\n",
    "normalized_df[\"Age\"] = combined_data_df[\"Age\"]\n",
    "normalized_df[\"Year\"] = combined_data_df[\"Year\"]\n",
    "normalized_df"
   ]
  },
  {
   "cell_type": "markdown",
   "id": "f455eb52",
   "metadata": {
    "id": "gcKs2hrCR1CL"
   },
   "source": [
    "## K-Means Clustering\n",
    "Memanfaatkan Metrik Silhoutte Coefficient untuk menentukan nilai K yang optimal"
   ]
  },
  {
   "cell_type": "code",
   "execution_count": 158,
   "id": "558a9b72",
   "metadata": {},
   "outputs": [
    {
     "name": "stdout",
     "output_type": "stream",
     "text": [
      "Saat K = 2 , silhouette scorenya adalah 0.6260020455297769\n",
      "Saat K = 3 , silhouette scorenya adalah 0.5722930452998586\n",
      "Saat K = 4 , silhouette scorenya adalah 0.5418986689668812\n",
      "Saat K = 5 , silhouette scorenya adalah 0.5210331302540875\n",
      "Saat K = 6 , silhouette scorenya adalah 0.5088368253467592\n",
      "Saat K = 7 , silhouette scorenya adalah 0.4970459716428991\n",
      "Saat K = 8 , silhouette scorenya adalah 0.4934959688076004\n",
      "Saat K = 9 , silhouette scorenya adalah 0.4766339109633681\n",
      "Setelah dilakukan silhoutte analysis, nilai K yang paling optimal yaitu K = 2\n"
     ]
    }
   ],
   "source": [
    "from sklearn.cluster import KMeans\n",
    "from sklearn.metrics import silhouette_score\n",
    "k = [2, 3, 4, 5, 6, 7, 8, 9]\n",
    "silhoutte_scr = []\n",
    "k_scr, max_scr = 0, 0\n",
    "attribute_choose = normalized_df[[\"PTS\", \"FG\"]]\n",
    "\n",
    "for i in k:    \n",
    "    kmeans = KMeans(n_clusters = i).fit(attribute_choose)\n",
    "    labels = kmeans.labels_\n",
    "    silhoutte_scr = silhouette_score(attribute_choose, labels)\n",
    "    \n",
    "     # menyimpan silhouette score tertinggi\n",
    "    if silhoutte_scr>max_scr:\n",
    "        max_scr = silhoutte_scr\n",
    "        k_scr = i\n",
    "    print(\"Saat K =\",i, \", silhouette scorenya adalah\", silhoutte_scr)\n",
    "print(\"Setelah dilakukan silhoutte analysis, nilai K yang paling optimal yaitu K =\", k_scr)"
   ]
  },
  {
   "cell_type": "markdown",
   "id": "c50a89c5",
   "metadata": {
    "id": "gcKs2hrCR1CL"
   },
   "source": [
    "## Elbow Method\n",
    "Selain menggunakan Metrik Silhoutte Coefficient, kami menggunakan Elbow Method untuk memastikan didapat K yang optimal"
   ]
  },
  {
   "cell_type": "code",
   "execution_count": 159,
   "id": "d6202878",
   "metadata": {
    "scrolled": true
   },
   "outputs": [
    {
     "data": {
      "image/png": "[encoded data removed]",
      "text/plain": [
       "<Figure size 576x396 with 1 Axes>"
      ]
     },
     "metadata": {},
     "output_type": "display_data"
    }
   ],
   "source": [
    "import matplotlib.pyplot as plt\n",
    "\n",
    "k = [2, 3, 4, 5, 6, 7, 8, 9]\n",
    "\n",
    "# List untuk menyimpan within-cluster sums of square untuk setiap jumlah cluster\n",
    "wcss = []\n",
    "\n",
    "for i in k:    \n",
    "    kmeans = KMeans(n_clusters = i).fit(attribute_choose)\n",
    "    wcss.append(kmeans.inertia_)\n",
    "plt.plot(k, wcss)\n",
    "plt.xlabel('Number of clusters')\n",
    "plt.ylabel('WCSS')\n",
    "plt.show()"
   ]
  },
  {
   "cell_type": "markdown",
   "id": "1f415bab",
   "metadata": {
    "id": "gcKs2hrCR1CL"
   },
   "source": [
    "Elbow Method menunjukkan jumlah cluster yang paling optimal berjumlah 3"
   ]
  },
  {
   "cell_type": "markdown",
   "id": "a096a3ef",
   "metadata": {
    "id": "gcKs2hrCR1CL"
   },
   "source": [
    "## Silhouette Visualizer\n",
    "Selain menggunakan Metrik Silhoutte Coefficient dan Elbow Method, kami menggunakan Silhouette Visualizer untuk memastikan didapat K yang optimal"
   ]
  },
  {
   "cell_type": "code",
   "execution_count": 160,
   "id": "4b6c0ba4",
   "metadata": {
    "scrolled": false
   },
   "outputs": [
    {
     "data": {
      "image/png": "[encoded data removed]",
      "text/plain": [
       "<Figure size 1080x576 with 9 Axes>"
      ]
     },
     "metadata": {},
     "output_type": "display_data"
    }
   ],
   "source": [
    "from yellowbrick.cluster import SilhouetteVisualizer\n",
    "fig, ax = plt.subplots(3, 3, figsize=(15,8))\n",
    "for i in [2, 3, 4, 5, 6, 7 , 8, 9]:\n",
    "    '''\n",
    "    Create KMeans instance for different number of clusters\n",
    "    '''\n",
    "    km = KMeans(n_clusters=i, init='k-means++', n_init=10, max_iter=100, random_state=42)\n",
    "    q, mod = divmod(i-2, 3)\n",
    "    '''\n",
    "    Create SilhouetteVisualizer instance with KMeans instance\n",
    "    Fit the visualizer\n",
    "    '''\n",
    "    visualizer = SilhouetteVisualizer(km, colors='yellowbrick', ax=ax[q-1][mod])\n",
    "    visualizer.fit(attribute_choose) "
   ]
  },
  {
   "cell_type": "markdown",
   "id": "28730807",
   "metadata": {
    "id": "gcKs2hrCR1CL"
   },
   "source": [
    "Dari hasil visualisasi Silhouette Visualizer, saat k=2 dan k=3 terlihat bahwa ukuran cluster berbeda (cluster dapat dibedakan) dan terpisah dengan baik"
   ]
  },
  {
   "cell_type": "markdown",
   "id": "382c8d74",
   "metadata": {
    "id": "gcKs2hrCR1CL"
   },
   "source": [
    "## Silhouette Method"
   ]
  },
  {
   "cell_type": "code",
   "execution_count": 161,
   "id": "a2ee19a3",
   "metadata": {
    "scrolled": true
   },
   "outputs": [
    {
     "name": "stdout",
     "output_type": "stream",
     "text": [
      "Setelah diterapkan Silhouette Method, nilai K yang paling optimal yaitu K= 2\n"
     ]
    }
   ],
   "source": [
    "from sklearn.metrics import silhouette_score\n",
    "\n",
    "sil = []\n",
    "\n",
    "for k in range(2, 9):\n",
    "  kmeans = KMeans(n_clusters=k).fit(attribute_choose)\n",
    "  labels = kmeans.labels_\n",
    "  score = silhouette_score(attribute_choose, labels, metric='euclidean')\n",
    "  sil.append(score)\n",
    "best_k = sil.index(max(sil)) + 2\n",
    "print(\"Setelah diterapkan Silhouette Method, nilai K yang paling optimal yaitu K=\", best_k)"
   ]
  },
  {
   "cell_type": "markdown",
   "id": "5b8af3ee",
   "metadata": {
    "id": "gcKs2hrCR1CL"
   },
   "source": [
    "Dari keempat cara (Metrik Silhoutte Coefficient, Elbow Method, Silhouette Visualizer, dan Silhouette Method), kami memilih K=2"
   ]
  },
  {
   "cell_type": "markdown",
   "id": "cb2bcc88",
   "metadata": {
    "id": "gcKs2hrCR1CL"
   },
   "source": [
    "## Menerapkan K-Means dengan K=2"
   ]
  },
  {
   "cell_type": "code",
   "execution_count": 162,
   "id": "9b073d2a",
   "metadata": {
    "scrolled": true
   },
   "outputs": [
    {
     "data": {
      "text/html": [
       "<div>\n",
       "<style scoped>\n",
       "    .dataframe tbody tr th:only-of-type {\n",
       "        vertical-align: middle;\n",
       "    }\n",
       "\n",
       "    .dataframe tbody tr th {\n",
       "        vertical-align: top;\n",
       "    }\n",
       "\n",
       "    .dataframe thead th {\n",
       "        text-align: right;\n",
       "    }\n",
       "</style>\n",
       "<table border=\"1\" class=\"dataframe\">\n",
       "  <thead>\n",
       "    <tr style=\"text-align: right;\">\n",
       "      <th></th>\n",
       "      <th>FG</th>\n",
       "      <th>PTS</th>\n",
       "      <th>cluster</th>\n",
       "    </tr>\n",
       "  </thead>\n",
       "  <tbody>\n",
       "    <tr>\n",
       "      <th>0</th>\n",
       "      <td>0.368852</td>\n",
       "      <td>0.315789</td>\n",
       "      <td>0</td>\n",
       "    </tr>\n",
       "    <tr>\n",
       "      <th>1</th>\n",
       "      <td>0.393443</td>\n",
       "      <td>0.337950</td>\n",
       "      <td>0</td>\n",
       "    </tr>\n",
       "    <tr>\n",
       "      <th>2</th>\n",
       "      <td>0.278689</td>\n",
       "      <td>0.246537</td>\n",
       "      <td>1</td>\n",
       "    </tr>\n",
       "    <tr>\n",
       "      <th>3</th>\n",
       "      <td>0.590164</td>\n",
       "      <td>0.562327</td>\n",
       "      <td>0</td>\n",
       "    </tr>\n",
       "    <tr>\n",
       "      <th>4</th>\n",
       "      <td>0.081967</td>\n",
       "      <td>0.077562</td>\n",
       "      <td>1</td>\n",
       "    </tr>\n",
       "    <tr>\n",
       "      <th>...</th>\n",
       "      <td>...</td>\n",
       "      <td>...</td>\n",
       "      <td>...</td>\n",
       "    </tr>\n",
       "    <tr>\n",
       "      <th>10310</th>\n",
       "      <td>0.000000</td>\n",
       "      <td>0.000000</td>\n",
       "      <td>1</td>\n",
       "    </tr>\n",
       "    <tr>\n",
       "      <th>10311</th>\n",
       "      <td>0.327869</td>\n",
       "      <td>0.318560</td>\n",
       "      <td>0</td>\n",
       "    </tr>\n",
       "    <tr>\n",
       "      <th>10312</th>\n",
       "      <td>0.295082</td>\n",
       "      <td>0.246537</td>\n",
       "      <td>1</td>\n",
       "    </tr>\n",
       "    <tr>\n",
       "      <th>10313</th>\n",
       "      <td>0.278689</td>\n",
       "      <td>0.235457</td>\n",
       "      <td>1</td>\n",
       "    </tr>\n",
       "    <tr>\n",
       "      <th>10314</th>\n",
       "      <td>0.311475</td>\n",
       "      <td>0.260388</td>\n",
       "      <td>1</td>\n",
       "    </tr>\n",
       "  </tbody>\n",
       "</table>\n",
       "<p>10315 rows × 3 columns</p>\n",
       "</div>"
      ],
      "text/plain": [
       "             FG       PTS  cluster\n",
       "0      0.368852  0.315789        0\n",
       "1      0.393443  0.337950        0\n",
       "2      0.278689  0.246537        1\n",
       "3      0.590164  0.562327        0\n",
       "4      0.081967  0.077562        1\n",
       "...         ...       ...      ...\n",
       "10310  0.000000  0.000000        1\n",
       "10311  0.327869  0.318560        0\n",
       "10312  0.295082  0.246537        1\n",
       "10313  0.278689  0.235457        1\n",
       "10314  0.311475  0.260388        1\n",
       "\n",
       "[10315 rows x 3 columns]"
      ]
     },
     "execution_count": 162,
     "metadata": {},
     "output_type": "execute_result"
    }
   ],
   "source": [
    "count_kmeans = KMeans(n_clusters=2)\n",
    "count_kmeans.fit(attribute_choose)\n",
    "predict_kmeans = count_kmeans.predict(attribute_choose)\n",
    "\n",
    "normalized_df2 = normalized_df.copy()\n",
    "normalized_df2 = normalized_df2.drop(columns=[\"PTS\", \"FG\"])\n",
    "\n",
    "normalized_df3 = normalized_df.copy()\n",
    "normalized_df3 = normalized_df3.drop(columns=normalized_df2.columns)\n",
    "\n",
    "# tampilkan attribute_choose dan cluster\n",
    "normalized_df3['cluster'] = predict_kmeans\n",
    "normalized_df3"
   ]
  },
  {
   "cell_type": "markdown",
   "id": "9a401762",
   "metadata": {
    "id": "gcKs2hrCR1CL"
   },
   "source": [
    "## Visualisasi Cluster"
   ]
  },
  {
   "cell_type": "code",
   "execution_count": 163,
   "id": "4c0c69c4",
   "metadata": {},
   "outputs": [
    {
     "data": {
      "image/png": "[encoded data removed]",
      "text/plain": [
       "<Figure size 576x396 with 1 Axes>"
      ]
     },
     "metadata": {},
     "output_type": "display_data"
    }
   ],
   "source": [
    "kmeans = KMeans(n_clusters=2).fit(normalized_df.loc[:,['PTS','FG']])\n",
    "centroids = kmeans.cluster_centers_\n",
    "\n",
    "plt.scatter(normalized_df[\"PTS\"], normalized_df[\"FG\"], c= kmeans.labels_.astype(float), s=50, alpha=0.5, cmap='viridis')\n",
    "plt.scatter(centroids[:, 0], centroids[:, 1], c='red', s=50)\n",
    "plt.show()"
   ]
  },
  {
   "cell_type": "markdown",
   "id": "783109bd",
   "metadata": {
    "id": "gcKs2hrCR1CL"
   },
   "source": [
    "## Interpretasi Cluster"
   ]
  },
  {
   "cell_type": "code",
   "execution_count": 164,
   "id": "51ed57c3",
   "metadata": {},
   "outputs": [],
   "source": [
    "keep_cluster, keep_cluster2 = [], []\n",
    "\n",
    "# menyimpan pengelompokkan cluster 0 dan 1\n",
    "for i in range(len(predict_kmeans)) :\n",
    "    if predict_kmeans[i] == 0 :\n",
    "        keep_cluster.append(i)\n",
    "    else:\n",
    "        keep_cluster2.append(i)\n",
    "        \n",
    "# untuk cluster 0 dan 1\n",
    "cluster_zero, cluster_one = normalized_df.iloc[keep_cluster], normalized_df.iloc[keep_cluster2]"
   ]
  },
  {
   "cell_type": "markdown",
   "id": "ea8d4939",
   "metadata": {
    "id": "gcKs2hrCR1CL"
   },
   "source": [
    "## Interpretasi Cluster"
   ]
  },
  {
   "cell_type": "code",
   "execution_count": 165,
   "id": "e9935152",
   "metadata": {
    "scrolled": true
   },
   "outputs": [
    {
     "data": {
      "text/html": [
       "<div>\n",
       "<style scoped>\n",
       "    .dataframe tbody tr th:only-of-type {\n",
       "        vertical-align: middle;\n",
       "    }\n",
       "\n",
       "    .dataframe tbody tr th {\n",
       "        vertical-align: top;\n",
       "    }\n",
       "\n",
       "    .dataframe thead th {\n",
       "        text-align: right;\n",
       "    }\n",
       "</style>\n",
       "<table border=\"1\" class=\"dataframe\">\n",
       "  <thead>\n",
       "    <tr style=\"text-align: right;\">\n",
       "      <th></th>\n",
       "      <th>Rk</th>\n",
       "      <th>G</th>\n",
       "      <th>GS</th>\n",
       "      <th>MP</th>\n",
       "      <th>FG</th>\n",
       "      <th>FGA</th>\n",
       "      <th>FG%</th>\n",
       "      <th>3P</th>\n",
       "      <th>3PA</th>\n",
       "      <th>3P%</th>\n",
       "      <th>...</th>\n",
       "      <th>TOV</th>\n",
       "      <th>PF</th>\n",
       "      <th>PTS</th>\n",
       "      <th>Avg GameScore</th>\n",
       "      <th>Salaries</th>\n",
       "      <th>Rank</th>\n",
       "      <th>Pos</th>\n",
       "      <th>Tm</th>\n",
       "      <th>Age</th>\n",
       "      <th>Year</th>\n",
       "    </tr>\n",
       "  </thead>\n",
       "  <tbody>\n",
       "    <tr>\n",
       "      <th>0</th>\n",
       "      <td>0.000000</td>\n",
       "      <td>0.714286</td>\n",
       "      <td>0.674699</td>\n",
       "      <td>0.592677</td>\n",
       "      <td>0.368852</td>\n",
       "      <td>0.381295</td>\n",
       "      <td>0.494749</td>\n",
       "      <td>0.000000</td>\n",
       "      <td>0.030303</td>\n",
       "      <td>0.000167</td>\n",
       "      <td>...</td>\n",
       "      <td>0.298246</td>\n",
       "      <td>0.400000</td>\n",
       "      <td>0.315789</td>\n",
       "      <td>0.353794</td>\n",
       "      <td>0.097292</td>\n",
       "      <td>0.103743</td>\n",
       "      <td>SG</td>\n",
       "      <td>TOT</td>\n",
       "      <td>25</td>\n",
       "      <td>2000</td>\n",
       "    </tr>\n",
       "    <tr>\n",
       "      <th>1</th>\n",
       "      <td>0.000000</td>\n",
       "      <td>0.535714</td>\n",
       "      <td>0.554217</td>\n",
       "      <td>0.599542</td>\n",
       "      <td>0.393443</td>\n",
       "      <td>0.402878</td>\n",
       "      <td>0.505251</td>\n",
       "      <td>0.000000</td>\n",
       "      <td>0.037879</td>\n",
       "      <td>0.122108</td>\n",
       "      <td>...</td>\n",
       "      <td>0.333333</td>\n",
       "      <td>0.416667</td>\n",
       "      <td>0.337950</td>\n",
       "      <td>0.368634</td>\n",
       "      <td>0.097292</td>\n",
       "      <td>0.103743</td>\n",
       "      <td>SG</td>\n",
       "      <td>ORL</td>\n",
       "      <td>25</td>\n",
       "      <td>2000</td>\n",
       "    </tr>\n",
       "    <tr>\n",
       "      <th>2</th>\n",
       "      <td>0.000000</td>\n",
       "      <td>0.166667</td>\n",
       "      <td>0.120482</td>\n",
       "      <td>0.569794</td>\n",
       "      <td>0.278689</td>\n",
       "      <td>0.312950</td>\n",
       "      <td>0.453909</td>\n",
       "      <td>0.019608</td>\n",
       "      <td>0.007576</td>\n",
       "      <td>0.000643</td>\n",
       "      <td>...</td>\n",
       "      <td>0.228070</td>\n",
       "      <td>0.350000</td>\n",
       "      <td>0.246537</td>\n",
       "      <td>0.293086</td>\n",
       "      <td>0.097292</td>\n",
       "      <td>0.103743</td>\n",
       "      <td>SG</td>\n",
       "      <td>DEN</td>\n",
       "      <td>25</td>\n",
       "      <td>2000</td>\n",
       "    </tr>\n",
       "    <tr>\n",
       "      <th>3</th>\n",
       "      <td>0.001855</td>\n",
       "      <td>0.964286</td>\n",
       "      <td>0.987952</td>\n",
       "      <td>0.899314</td>\n",
       "      <td>0.590164</td>\n",
       "      <td>0.561151</td>\n",
       "      <td>0.542590</td>\n",
       "      <td>0.078431</td>\n",
       "      <td>0.090909</td>\n",
       "      <td>0.388175</td>\n",
       "      <td>...</td>\n",
       "      <td>0.526316</td>\n",
       "      <td>0.500000</td>\n",
       "      <td>0.562327</td>\n",
       "      <td>0.638449</td>\n",
       "      <td>0.097292</td>\n",
       "      <td>0.083422</td>\n",
       "      <td>SF</td>\n",
       "      <td>VAN</td>\n",
       "      <td>23</td>\n",
       "      <td>2000</td>\n",
       "    </tr>\n",
       "    <tr>\n",
       "      <th>4</th>\n",
       "      <td>0.003711</td>\n",
       "      <td>0.333333</td>\n",
       "      <td>0.024096</td>\n",
       "      <td>0.258581</td>\n",
       "      <td>0.081967</td>\n",
       "      <td>0.122302</td>\n",
       "      <td>0.333722</td>\n",
       "      <td>0.058824</td>\n",
       "      <td>0.090909</td>\n",
       "      <td>0.330334</td>\n",
       "      <td>...</td>\n",
       "      <td>0.175439</td>\n",
       "      <td>0.216667</td>\n",
       "      <td>0.077562</td>\n",
       "      <td>0.174030</td>\n",
       "      <td>0.097292</td>\n",
       "      <td>0.150802</td>\n",
       "      <td>PG</td>\n",
       "      <td>DEN</td>\n",
       "      <td>26</td>\n",
       "      <td>2000</td>\n",
       "    </tr>\n",
       "    <tr>\n",
       "      <th>...</th>\n",
       "      <td>...</td>\n",
       "      <td>...</td>\n",
       "      <td>...</td>\n",
       "      <td>...</td>\n",
       "      <td>...</td>\n",
       "      <td>...</td>\n",
       "      <td>...</td>\n",
       "      <td>...</td>\n",
       "      <td>...</td>\n",
       "      <td>...</td>\n",
       "      <td>...</td>\n",
       "      <td>...</td>\n",
       "      <td>...</td>\n",
       "      <td>...</td>\n",
       "      <td>...</td>\n",
       "      <td>...</td>\n",
       "      <td>...</td>\n",
       "      <td>...</td>\n",
       "      <td>...</td>\n",
       "      <td>...</td>\n",
       "      <td>...</td>\n",
       "    </tr>\n",
       "    <tr>\n",
       "      <th>10310</th>\n",
       "      <td>0.977737</td>\n",
       "      <td>0.011905</td>\n",
       "      <td>0.000000</td>\n",
       "      <td>0.125858</td>\n",
       "      <td>0.000000</td>\n",
       "      <td>0.035971</td>\n",
       "      <td>0.000000</td>\n",
       "      <td>0.000000</td>\n",
       "      <td>0.037879</td>\n",
       "      <td>0.000000</td>\n",
       "      <td>...</td>\n",
       "      <td>0.000000</td>\n",
       "      <td>0.333333</td>\n",
       "      <td>0.000000</td>\n",
       "      <td>0.109612</td>\n",
       "      <td>0.050540</td>\n",
       "      <td>0.180749</td>\n",
       "      <td>C</td>\n",
       "      <td>ATL</td>\n",
       "      <td>29</td>\n",
       "      <td>2019</td>\n",
       "    </tr>\n",
       "    <tr>\n",
       "      <th>10311</th>\n",
       "      <td>0.977737</td>\n",
       "      <td>0.035714</td>\n",
       "      <td>0.012048</td>\n",
       "      <td>0.469108</td>\n",
       "      <td>0.327869</td>\n",
       "      <td>0.251799</td>\n",
       "      <td>0.666278</td>\n",
       "      <td>0.000000</td>\n",
       "      <td>0.000000</td>\n",
       "      <td>0.000000</td>\n",
       "      <td>...</td>\n",
       "      <td>0.175439</td>\n",
       "      <td>0.666667</td>\n",
       "      <td>0.318560</td>\n",
       "      <td>0.405396</td>\n",
       "      <td>0.050540</td>\n",
       "      <td>0.180749</td>\n",
       "      <td>C</td>\n",
       "      <td>MEM</td>\n",
       "      <td>29</td>\n",
       "      <td>2019</td>\n",
       "    </tr>\n",
       "    <tr>\n",
       "      <th>10312</th>\n",
       "      <td>0.981447</td>\n",
       "      <td>0.690476</td>\n",
       "      <td>0.445783</td>\n",
       "      <td>0.402746</td>\n",
       "      <td>0.295082</td>\n",
       "      <td>0.230216</td>\n",
       "      <td>0.652275</td>\n",
       "      <td>0.000000</td>\n",
       "      <td>0.000000</td>\n",
       "      <td>0.000000</td>\n",
       "      <td>...</td>\n",
       "      <td>0.210526</td>\n",
       "      <td>0.383333</td>\n",
       "      <td>0.246537</td>\n",
       "      <td>0.366610</td>\n",
       "      <td>0.040243</td>\n",
       "      <td>0.207487</td>\n",
       "      <td>C</td>\n",
       "      <td>TOT</td>\n",
       "      <td>21</td>\n",
       "      <td>2019</td>\n",
       "    </tr>\n",
       "    <tr>\n",
       "      <th>10313</th>\n",
       "      <td>0.981447</td>\n",
       "      <td>0.380952</td>\n",
       "      <td>0.144578</td>\n",
       "      <td>0.356979</td>\n",
       "      <td>0.278689</td>\n",
       "      <td>0.208633</td>\n",
       "      <td>0.000677</td>\n",
       "      <td>0.000000</td>\n",
       "      <td>0.000000</td>\n",
       "      <td>0.000000</td>\n",
       "      <td>...</td>\n",
       "      <td>0.175439</td>\n",
       "      <td>0.366667</td>\n",
       "      <td>0.235457</td>\n",
       "      <td>0.345025</td>\n",
       "      <td>0.040243</td>\n",
       "      <td>0.207487</td>\n",
       "      <td>C</td>\n",
       "      <td>LAL</td>\n",
       "      <td>21</td>\n",
       "      <td>2019</td>\n",
       "    </tr>\n",
       "    <tr>\n",
       "      <th>10314</th>\n",
       "      <td>0.981447</td>\n",
       "      <td>0.297619</td>\n",
       "      <td>0.301205</td>\n",
       "      <td>0.462243</td>\n",
       "      <td>0.311475</td>\n",
       "      <td>0.258993</td>\n",
       "      <td>0.627771</td>\n",
       "      <td>0.000000</td>\n",
       "      <td>0.000000</td>\n",
       "      <td>0.000000</td>\n",
       "      <td>...</td>\n",
       "      <td>0.245614</td>\n",
       "      <td>0.416667</td>\n",
       "      <td>0.260388</td>\n",
       "      <td>0.391906</td>\n",
       "      <td>0.040243</td>\n",
       "      <td>0.207487</td>\n",
       "      <td>C</td>\n",
       "      <td>LAC</td>\n",
       "      <td>21</td>\n",
       "      <td>2019</td>\n",
       "    </tr>\n",
       "  </tbody>\n",
       "</table>\n",
       "<p>10315 rows × 33 columns</p>\n",
       "</div>"
      ],
      "text/plain": [
       "             Rk         G        GS        MP        FG       FGA       FG%  \\\n",
       "0      0.000000  0.714286  0.674699  0.592677  0.368852  0.381295  0.494749   \n",
       "1      0.000000  0.535714  0.554217  0.599542  0.393443  0.402878  0.505251   \n",
       "2      0.000000  0.166667  0.120482  0.569794  0.278689  0.312950  0.453909   \n",
       "3      0.001855  0.964286  0.987952  0.899314  0.590164  0.561151  0.542590   \n",
       "4      0.003711  0.333333  0.024096  0.258581  0.081967  0.122302  0.333722   \n",
       "...         ...       ...       ...       ...       ...       ...       ...   \n",
       "10310  0.977737  0.011905  0.000000  0.125858  0.000000  0.035971  0.000000   \n",
       "10311  0.977737  0.035714  0.012048  0.469108  0.327869  0.251799  0.666278   \n",
       "10312  0.981447  0.690476  0.445783  0.402746  0.295082  0.230216  0.652275   \n",
       "10313  0.981447  0.380952  0.144578  0.356979  0.278689  0.208633  0.000677   \n",
       "10314  0.981447  0.297619  0.301205  0.462243  0.311475  0.258993  0.627771   \n",
       "\n",
       "             3P       3PA       3P%  ...       TOV        PF       PTS  \\\n",
       "0      0.000000  0.030303  0.000167  ...  0.298246  0.400000  0.315789   \n",
       "1      0.000000  0.037879  0.122108  ...  0.333333  0.416667  0.337950   \n",
       "2      0.019608  0.007576  0.000643  ...  0.228070  0.350000  0.246537   \n",
       "3      0.078431  0.090909  0.388175  ...  0.526316  0.500000  0.562327   \n",
       "4      0.058824  0.090909  0.330334  ...  0.175439  0.216667  0.077562   \n",
       "...         ...       ...       ...  ...       ...       ...       ...   \n",
       "10310  0.000000  0.037879  0.000000  ...  0.000000  0.333333  0.000000   \n",
       "10311  0.000000  0.000000  0.000000  ...  0.175439  0.666667  0.318560   \n",
       "10312  0.000000  0.000000  0.000000  ...  0.210526  0.383333  0.246537   \n",
       "10313  0.000000  0.000000  0.000000  ...  0.175439  0.366667  0.235457   \n",
       "10314  0.000000  0.000000  0.000000  ...  0.245614  0.416667  0.260388   \n",
       "\n",
       "       Avg GameScore  Salaries      Rank  Pos   Tm  Age  Year  \n",
       "0           0.353794  0.097292  0.103743   SG  TOT   25  2000  \n",
       "1           0.368634  0.097292  0.103743   SG  ORL   25  2000  \n",
       "2           0.293086  0.097292  0.103743   SG  DEN   25  2000  \n",
       "3           0.638449  0.097292  0.083422   SF  VAN   23  2000  \n",
       "4           0.174030  0.097292  0.150802   PG  DEN   26  2000  \n",
       "...              ...       ...       ...  ...  ...  ...   ...  \n",
       "10310       0.109612  0.050540  0.180749    C  ATL   29  2019  \n",
       "10311       0.405396  0.050540  0.180749    C  MEM   29  2019  \n",
       "10312       0.366610  0.040243  0.207487    C  TOT   21  2019  \n",
       "10313       0.345025  0.040243  0.207487    C  LAL   21  2019  \n",
       "10314       0.391906  0.040243  0.207487    C  LAC   21  2019  \n",
       "\n",
       "[10315 rows x 33 columns]"
      ]
     },
     "execution_count": 165,
     "metadata": {},
     "output_type": "execute_result"
    }
   ],
   "source": [
    "normalized_df"
   ]
  },
  {
   "cell_type": "markdown",
   "id": "75ebe967",
   "metadata": {
    "id": "gcKs2hrCR1CL"
   },
   "source": [
    "Interpretasi cluster berdasarkan Position"
   ]
  },
  {
   "cell_type": "code",
   "execution_count": 171,
   "id": "3bf73e37",
   "metadata": {},
   "outputs": [
    {
     "name": "stdout",
     "output_type": "stream",
     "text": [
      "Pesebaran Pemain berdasarkan Posisi Cluster 0\n"
     ]
    },
    {
     "data": {
      "text/plain": [
       "<AxesSubplot:xlabel='count', ylabel='Pos'>"
      ]
     },
     "execution_count": 171,
     "metadata": {},
     "output_type": "execute_result"
    },
    {
     "data": {
      "image/png": "[encoded data removed]",
      "text/plain": [
       "<Figure size 576x396 with 1 Axes>"
      ]
     },
     "metadata": {},
     "output_type": "display_data"
    }
   ],
   "source": [
    "print(\"Pesebaran Pemain berdasarkan Posisi Cluster 0\")\n",
    "sns.countplot(y='Pos', data=cluster_zero)"
   ]
  },
  {
   "cell_type": "code",
   "execution_count": 170,
   "id": "baf59da6",
   "metadata": {},
   "outputs": [
    {
     "name": "stdout",
     "output_type": "stream",
     "text": [
      "Pesebaran Pemain berdasarkan Posisi Cluster 1\n"
     ]
    },
    {
     "data": {
      "text/plain": [
       "<AxesSubplot:xlabel='count', ylabel='Pos'>"
      ]
     },
     "execution_count": 170,
     "metadata": {},
     "output_type": "execute_result"
    },
    {
     "data": {
      "image/png": "[encoded data removed]",
      "text/plain": [
       "<Figure size 576x396 with 1 Axes>"
      ]
     },
     "metadata": {},
     "output_type": "display_data"
    }
   ],
   "source": [
    "print(\"Pesebaran Pemain berdasarkan Posisi Cluster 1\")\n",
    "sns.countplot(y='Pos', data=cluster_one)"
   ]
  },
  {
   "cell_type": "markdown",
   "id": "ef04d26d",
   "metadata": {
    "id": "gcKs2hrCR1CL"
   },
   "source": [
    "Interpretasi cluster berdasarkan Age"
   ]
  },
  {
   "cell_type": "code",
   "execution_count": 174,
   "id": "142b3ffa",
   "metadata": {},
   "outputs": [
    {
     "name": "stdout",
     "output_type": "stream",
     "text": [
      "Pesebaran Pemain berdasarkan Umur Cluster 0\n"
     ]
    },
    {
     "data": {
      "text/plain": [
       "<AxesSubplot:xlabel='count', ylabel='Age'>"
      ]
     },
     "execution_count": 174,
     "metadata": {},
     "output_type": "execute_result"
    },
    {
     "data": {
      "image/png": "[encoded data removed]",
      "text/plain": [
       "<Figure size 576x396 with 1 Axes>"
      ]
     },
     "metadata": {},
     "output_type": "display_data"
    }
   ],
   "source": [
    "print(\"Pesebaran Pemain berdasarkan Umur Cluster 0\")\n",
    "sns.countplot(y='Age', data=cluster_zero)"
   ]
  },
  {
   "cell_type": "code",
   "execution_count": 173,
   "id": "9cfdf586",
   "metadata": {},
   "outputs": [
    {
     "name": "stdout",
     "output_type": "stream",
     "text": [
      "Pesebaran Pemain berdasarkan Umur Cluster 1\n"
     ]
    },
    {
     "data": {
      "text/plain": [
       "<AxesSubplot:xlabel='count', ylabel='Age'>"
      ]
     },
     "execution_count": 173,
     "metadata": {},
     "output_type": "execute_result"
    },
    {
     "data": {
      "image/png": "[encoded data removed]",
      "text/plain": [
       "<Figure size 576x396 with 1 Axes>"
      ]
     },
     "metadata": {},
     "output_type": "display_data"
    }
   ],
   "source": [
    "print(\"Pesebaran Pemain berdasarkan Umur Cluster 1\")\n",
    "sns.countplot(y='Age', data=cluster_one)"
   ]
  },
  {
   "cell_type": "markdown",
   "id": "5f0162c3",
   "metadata": {
    "id": "gcKs2hrCR1CL"
   },
   "source": [
    "Interpretasi cluster berdasarkan Team"
   ]
  },
  {
   "cell_type": "code",
   "execution_count": 166,
   "id": "eebe6afd",
   "metadata": {},
   "outputs": [
    {
     "name": "stdout",
     "output_type": "stream",
     "text": [
      "Pesebaran Pemain pada Team NBA Cluster 0\n"
     ]
    },
    {
     "data": {
      "text/plain": [
       "<AxesSubplot:xlabel='count', ylabel='Tm'>"
      ]
     },
     "execution_count": 166,
     "metadata": {},
     "output_type": "execute_result"
    },
    {
     "data": {
      "image/png": "[encoded data removed]",
      "text/plain": [
       "<Figure size 576x396 with 1 Axes>"
      ]
     },
     "metadata": {},
     "output_type": "display_data"
    }
   ],
   "source": [
    "print(\"Pesebaran Pemain pada Team NBA Cluster 0\")\n",
    "sns.countplot(y='Tm', data=cluster_zero)"
   ]
  },
  {
   "cell_type": "code",
   "execution_count": 167,
   "id": "b8952726",
   "metadata": {
    "scrolled": true
   },
   "outputs": [
    {
     "name": "stdout",
     "output_type": "stream",
     "text": [
      "Pesebaran Pemain pada Team NBA Cluster 1\n"
     ]
    },
    {
     "data": {
      "text/plain": [
       "<AxesSubplot:xlabel='count', ylabel='Tm'>"
      ]
     },
     "execution_count": 167,
     "metadata": {},
     "output_type": "execute_result"
    },
    {
     "data": {
      "image/png": "[encoded data removed]",
      "text/plain": [
       "<Figure size 576x396 with 1 Axes>"
      ]
     },
     "metadata": {},
     "output_type": "display_data"
    }
   ],
   "source": [
    "print(\"Pesebaran Pemain pada Team NBA Cluster 1\")\n",
    "sns.countplot(y='Tm', data=cluster_one)"
   ]
  },
  {
   "cell_type": "markdown",
   "id": "d3e70872",
   "metadata": {
    "id": "gcKs2hrCR1CL"
   },
   "source": [
    "Interpretasi cluster berdasarkan Year"
   ]
  },
  {
   "cell_type": "code",
   "execution_count": 176,
   "id": "404aa8e0",
   "metadata": {},
   "outputs": [
    {
     "name": "stdout",
     "output_type": "stream",
     "text": [
      "Pesebaran Pemain berdasarkan Tahun Cluster 0\n"
     ]
    },
    {
     "data": {
      "text/plain": [
       "<AxesSubplot:xlabel='count', ylabel='Year'>"
      ]
     },
     "execution_count": 176,
     "metadata": {},
     "output_type": "execute_result"
    },
    {
     "data": {
      "image/png": "[encoded data removed]",
      "text/plain": [
       "<Figure size 576x396 with 1 Axes>"
      ]
     },
     "metadata": {},
     "output_type": "display_data"
    }
   ],
   "source": [
    "print(\"Pesebaran Pemain berdasarkan Tahun Cluster 0\")\n",
    "sns.countplot(y='Year', data=cluster_zero)"
   ]
  },
  {
   "cell_type": "code",
   "execution_count": 175,
   "id": "16ed1216",
   "metadata": {
    "scrolled": true
   },
   "outputs": [
    {
     "name": "stdout",
     "output_type": "stream",
     "text": [
      "Pesebaran Pemain berdasarkan TahunYear Cluster 1\n"
     ]
    },
    {
     "data": {
      "text/plain": [
       "<AxesSubplot:xlabel='count', ylabel='Year'>"
      ]
     },
     "execution_count": 175,
     "metadata": {},
     "output_type": "execute_result"
    },
    {
     "data": {
      "image/png": "[encoded data removed]",
      "text/plain": [
       "<Figure size 576x396 with 1 Axes>"
      ]
     },
     "metadata": {},
     "output_type": "display_data"
    }
   ],
   "source": [
    "print(\"Pesebaran Pemain berdasarkan TahunYear Cluster 1\")\n",
    "sns.countplot(y='Year', data=cluster_zero)"
   ]
  },
  {
   "cell_type": "markdown",
   "id": "31b7ab1d",
   "metadata": {
    "id": "gcKs2hrCR1CL"
   },
   "source": [
    "Kesimpulan dari hasil interpretasi cluster:\n",
    "\n",
    "1. Pada cluster 0, lebih banyak pemain NBA dengan posisi shooting guard(SG).\n",
    "Sedangkan pada cluster 1, lebih banyak pemain NBA dengan posisi center(C).\n",
    "\n",
    "2. Pada cluster 0, pemain NBA dengan usia 26 paling banyak.\n",
    "Sedangkan pada cluster 1, pemain NBA dengan usia 23 paling banyak.\n",
    "\n",
    "3. Pada cluster 0 dan cluster 1, pesebaran pemain NBA paling banyak berada pada team TOT.\n",
    "\n",
    "4. Pada cluster 0 dan cluster 1, pesebaran pemain NBA paling banyak berada pada tahun 2019."
   ]
  }
 ],
 "metadata": {
  "kernelspec": {
   "display_name": "Python 3 (ipykernel)",
   "language": "python",
   "name": "python3"
  },
  "language_info": {
   "codemirror_mode": {
    "name": "ipython",
    "version": 3
   },
   "file_extension": ".py",
   "mimetype": "text/x-python",
   "name": "python",
   "nbconvert_exporter": "python",
   "pygments_lexer": "ipython3",
   "version": "3.9.12"
  }
 },
 "nbformat": 4,
 "nbformat_minor": 5
}
