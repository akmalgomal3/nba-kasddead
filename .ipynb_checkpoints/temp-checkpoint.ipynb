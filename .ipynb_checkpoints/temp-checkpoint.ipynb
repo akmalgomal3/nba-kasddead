{
 "cells": [
  {
   "cell_type": "code",
   "execution_count": 3,
   "metadata": {},
   "outputs": [],
   "source": [
    "import pandas as pd\n",
    "import numpy as np"
   ]
  },
  {
   "cell_type": "code",
   "execution_count": 4,
   "metadata": {},
   "outputs": [
    {
     "name": "stdout",
     "output_type": "stream",
     "text": [
      "<class 'pandas.core.frame.DataFrame'>\n",
      "RangeIndex: 37420 entries, 0 to 37419\n",
      "Data columns (total 4 columns):\n",
      " #   Column    Non-Null Count  Dtype  \n",
      "---  ------    --------------  -----  \n",
      " 0   Name      37420 non-null  object \n",
      " 1   Year      37420 non-null  int64  \n",
      " 2   Salaries  9346 non-null   float64\n",
      " 3   Rank      37420 non-null  int64  \n",
      "dtypes: float64(1), int64(2), object(1)\n",
      "memory usage: 1.1+ MB\n"
     ]
    },
    {
     "data": {
      "text/plain": [
       "None"
      ]
     },
     "metadata": {},
     "output_type": "display_data"
    }
   ],
   "source": [
    "salaries = pd.read_csv('datasets/salaries.csv')\n",
    "\n",
    "salaries.loc[salaries['Year'] == 2000, 'Salaries'] = salaries['Salaries'] * 1.48\n",
    "salaries.loc[salaries['Year'] == 2001, 'Salaries'] = salaries['Salaries'] * 1.44\n",
    "salaries.loc[salaries['Year'] == 2002, 'Salaries'] = salaries['Salaries'] * 1.42\n",
    "salaries.loc[salaries['Year'] == 2003, 'Salaries'] = salaries['Salaries'] * 1.39\n",
    "salaries.loc[salaries['Year'] == 2004, 'Salaries'] = salaries['Salaries'] * 1.35\n",
    "salaries.loc[salaries['Year'] == 2005, 'Salaries'] = salaries['Salaries'] * 1.31\n",
    "salaries.loc[salaries['Year'] == 2006, 'Salaries'] = salaries['Salaries'] * 1.27\n",
    "salaries.loc[salaries['Year'] == 2007, 'Salaries'] = salaries['Salaries'] * 1.23\n",
    "salaries.loc[salaries['Year'] == 2008, 'Salaries'] = salaries['Salaries'] * 1.19\n",
    "salaries.loc[salaries['Year'] == 2009, 'Salaries'] = salaries['Salaries'] * 1.19\n",
    "salaries.loc[salaries['Year'] == 2010, 'Salaries'] = salaries['Salaries'] * 1.17\n",
    "salaries.loc[salaries['Year'] == 2011, 'Salaries'] = salaries['Salaries'] * 1.14\n",
    "salaries.loc[salaries['Year'] == 2012, 'Salaries'] = salaries['Salaries'] * 1.11\n",
    "salaries.loc[salaries['Year'] == 2013, 'Salaries'] = salaries['Salaries'] * 1.10\n",
    "salaries.loc[salaries['Year'] == 2014, 'Salaries'] = salaries['Salaries'] * 1.08\n",
    "salaries.loc[salaries['Year'] == 2015, 'Salaries'] = salaries['Salaries'] * 1.08\n",
    "salaries.loc[salaries['Year'] == 2016, 'Salaries'] = salaries['Salaries'] * 1.07\n",
    "salaries.loc[salaries['Year'] == 2017, 'Salaries'] = salaries['Salaries'] * 1.04\n",
    "salaries.loc[salaries['Year'] == 2018, 'Salaries'] = salaries['Salaries'] * 1.02\n",
    "\n",
    "\n",
    "\n",
    "del salaries['Unnamed: 0']\n",
    "\n",
    "display(salaries.info())\n",
    "\n",
    "salaries.to_csv('final_salaries.csv', index=False)"
   ]
  }
 ],
 "metadata": {
  "kernelspec": {
   "display_name": "Python 3 (ipykernel)",
   "language": "python",
   "name": "python3"
  },
  "language_info": {
   "codemirror_mode": {
    "name": "ipython",
    "version": 3
   },
   "file_extension": ".py",
   "mimetype": "text/x-python",
   "name": "python",
   "nbconvert_exporter": "python",
   "pygments_lexer": "ipython3",
   "version": "3.9.12"
  },
  "vscode": {
   "interpreter": {
    "hash": "0f6f8eaaf29a543a9d0ad7e96c583a753ed2bda2f16aab0d783cd49117c2b0d5"
   }
  }
 },
 "nbformat": 4,
 "nbformat_minor": 2
}
